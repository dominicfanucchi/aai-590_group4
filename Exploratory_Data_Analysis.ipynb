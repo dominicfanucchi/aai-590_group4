{
  "cells": [
    {
      "cell_type": "markdown",
      "metadata": {
        "id": "VuYBm4Yg7MWb"
      },
      "source": [
        "# Exploratory Data Analysis"
      ]
    },
    {
      "cell_type": "code",
      "source": [
        "# Import Necessary Libraries\n",
        "import zipfile\n",
        "import os\n",
        "import matplotlib.pyplot as plt\n",
        "import shutil\n",
        "import pandas as pd\n",
        "import cv2"
      ],
      "metadata": {
        "id": "kpNmJOgNsDH7"
      },
      "execution_count": 7,
      "outputs": []
    },
    {
      "cell_type": "markdown",
      "source": [
        "### Unzip Data"
      ],
      "metadata": {
        "id": "58IXsOuqr4ZU"
      }
    },
    {
      "cell_type": "code",
      "execution_count": null,
      "metadata": {
        "id": "EfiZC_NF7HDJ"
      },
      "outputs": [],
      "source": [
        "archive_path = '/content/drive/MyDrive/Capstone/archive.zip'\n",
        "extract_path = 'drive/MyDrive/Capstone/kaggle_doodles'"
      ]
    },
    {
      "cell_type": "code",
      "source": [
        "# Multiple extract attempts which failed due to browser or connection issues\n",
        "# made the need for extracting only the remaining files necessary\n",
        "\n",
        "def extract_no_replace(zip_path, extract_to):\n",
        "    with zipfile.ZipFile(zip_path, 'r') as zip_ref:\n",
        "        file_list = zip_ref.infolist()\n",
        "        file_count = len(file_list)\n",
        "\n",
        "        print(\"Extracting...\")\n",
        "\n",
        "        extracted_count = 0\n",
        "        for i, member in enumerate(file_list):\n",
        "            target_path = os.path.join(extract_to, member.filename)\n",
        "\n",
        "            # Ensure directories exist before extraction\n",
        "            if member.is_dir():\n",
        "                print(target_path)\n",
        "                os.makedirs(target_path, exist_ok=True)\n",
        "                continue  # Skip to next entry\n",
        "\n",
        "            os.makedirs(os.path.dirname(target_path), exist_ok=True)\n",
        "\n",
        "            if not os.path.exists(target_path):\n",
        "                if 'zebra' in target_path:\n",
        "                  print(target_path)  # Avoid overwriting existing files\n",
        "                zip_ref.extract(member, extract_to)\n",
        "                extracted_count += 1\n",
        "\n",
        "            # Progress indicator\n",
        "            if (i + 1) % max(1, file_count // 100) == 0 or i + 1 == file_count:\n",
        "                print(f\"{(i + 1) / file_count * 100:.2f}% Complete\")\n",
        "\n",
        "        print(f\"Extraction complete: {extracted_count} new files extracted.\")\n",
        "\n",
        "# Example Usage\n",
        "extract_no_replace(archive_path, extract_path)\n"
      ],
      "metadata": {
        "colab": {
          "base_uri": "https://localhost:8080/"
        },
        "id": "6YfK0TnHX8Qg",
        "outputId": "4d6f610d-91c3-41de-b083-851bdd7bf399"
      },
      "execution_count": null,
      "outputs": [
        {
          "output_type": "stream",
          "name": "stdout",
          "text": [
            "Extracting...\n",
            "1.00% Complete\n",
            "2.00% Complete\n",
            "3.00% Complete\n",
            "4.00% Complete\n",
            "5.00% Complete\n",
            "6.00% Complete\n",
            "7.00% Complete\n",
            "8.00% Complete\n",
            "9.00% Complete\n",
            "10.00% Complete\n",
            "11.00% Complete\n",
            "12.00% Complete\n",
            "13.00% Complete\n",
            "14.00% Complete\n",
            "15.00% Complete\n",
            "16.00% Complete\n",
            "17.00% Complete\n",
            "18.00% Complete\n",
            "19.00% Complete\n",
            "20.00% Complete\n",
            "21.00% Complete\n",
            "22.00% Complete\n",
            "23.00% Complete\n",
            "24.00% Complete\n",
            "25.00% Complete\n",
            "26.00% Complete\n",
            "27.00% Complete\n",
            "28.00% Complete\n",
            "29.00% Complete\n",
            "30.00% Complete\n",
            "31.00% Complete\n",
            "32.00% Complete\n",
            "33.00% Complete\n",
            "34.00% Complete\n",
            "35.00% Complete\n",
            "36.00% Complete\n",
            "37.00% Complete\n",
            "38.00% Complete\n",
            "39.00% Complete\n",
            "40.00% Complete\n",
            "41.00% Complete\n",
            "42.00% Complete\n",
            "43.00% Complete\n",
            "44.00% Complete\n",
            "45.00% Complete\n",
            "46.00% Complete\n",
            "47.00% Complete\n",
            "48.00% Complete\n",
            "49.00% Complete\n",
            "50.00% Complete\n",
            "51.00% Complete\n",
            "52.00% Complete\n",
            "53.00% Complete\n",
            "54.00% Complete\n",
            "55.00% Complete\n",
            "56.00% Complete\n",
            "57.00% Complete\n",
            "58.00% Complete\n",
            "59.00% Complete\n",
            "60.00% Complete\n",
            "61.00% Complete\n",
            "62.00% Complete\n",
            "63.00% Complete\n",
            "64.00% Complete\n",
            "65.00% Complete\n",
            "66.00% Complete\n",
            "67.00% Complete\n",
            "68.00% Complete\n",
            "69.00% Complete\n",
            "70.00% Complete\n",
            "71.00% Complete\n",
            "72.00% Complete\n",
            "73.00% Complete\n",
            "74.00% Complete\n",
            "75.00% Complete\n",
            "76.00% Complete\n",
            "77.00% Complete\n",
            "78.00% Complete\n",
            "79.00% Complete\n",
            "80.00% Complete\n",
            "81.00% Complete\n",
            "82.00% Complete\n",
            "83.00% Complete\n",
            "84.00% Complete\n",
            "85.00% Complete\n",
            "86.00% Complete\n",
            "87.00% Complete\n",
            "88.00% Complete\n",
            "89.00% Complete\n",
            "90.00% Complete\n",
            "91.00% Complete\n",
            "92.00% Complete\n",
            "93.00% Complete\n",
            "94.00% Complete\n",
            "95.00% Complete\n",
            "96.00% Complete\n",
            "97.00% Complete\n",
            "98.00% Complete\n",
            "99.00% Complete\n",
            "100.00% Complete\n",
            "100.00% Complete\n",
            "Extraction complete: 0 new files extracted.\n"
          ]
        }
      ]
    },
    {
      "cell_type": "markdown",
      "source": [
        "### Import CSV Data"
      ],
      "metadata": {
        "id": "-caGmIzQy7Kc"
      }
    },
    {
      "cell_type": "code",
      "source": [
        "kaggle_doodle_df = pd.read_csv(\"/content/drive/MyDrive/Capstone/master_doodle_dataframe.csv\")\n",
        "kaggle_doodle_df.head()"
      ],
      "metadata": {
        "colab": {
          "base_uri": "https://localhost:8080/",
          "height": 206
        },
        "id": "KxPoUhPx5ON4",
        "outputId": "2601edc0-845b-4733-8729-2e3b590a2023"
      },
      "execution_count": 3,
      "outputs": [
        {
          "output_type": "execute_result",
          "data": {
            "text/plain": [
              "  countrycode                                            drawing  \\\n",
              "0          RO  [[[0, 5, 3, 4, 10, 72, 82, 91, 99, 98, 87, 71,...   \n",
              "1          US  [[[0, 255], [3, 4]], [[86, 73, 73, 76, 85, 130...   \n",
              "2          ZA  [[[39, 33, 34, 39, 52, 61, 66, 65, 67, 71], [2...   \n",
              "3          VN  [[[12, 9], [128, 255]], [[0, 23, 36, 37, 42, 5...   \n",
              "4          HU  [[[9, 7, 0, 19, 49, 90, 96, 99, 93, 94, 62, 16...   \n",
              "\n",
              "             key_id  recognized           word  \\\n",
              "0  5613582005829632        True  traffic light   \n",
              "1  5769631006457856        True  traffic light   \n",
              "2  4999795544424448        True  traffic light   \n",
              "3  4878417906368512        True  traffic light   \n",
              "4  5572841187573760        True  traffic light   \n",
              "\n",
              "                                image_path  \n",
              "0  data/traffic light/5613582005829632.png  \n",
              "1  data/traffic light/5769631006457856.png  \n",
              "2  data/traffic light/4999795544424448.png  \n",
              "3  data/traffic light/4878417906368512.png  \n",
              "4  data/traffic light/5572841187573760.png  "
            ],
            "text/html": [
              "\n",
              "  <div id=\"df-6b1edb2e-aa57-46a2-8216-0b3fce022f62\" class=\"colab-df-container\">\n",
              "    <div>\n",
              "<style scoped>\n",
              "    .dataframe tbody tr th:only-of-type {\n",
              "        vertical-align: middle;\n",
              "    }\n",
              "\n",
              "    .dataframe tbody tr th {\n",
              "        vertical-align: top;\n",
              "    }\n",
              "\n",
              "    .dataframe thead th {\n",
              "        text-align: right;\n",
              "    }\n",
              "</style>\n",
              "<table border=\"1\" class=\"dataframe\">\n",
              "  <thead>\n",
              "    <tr style=\"text-align: right;\">\n",
              "      <th></th>\n",
              "      <th>countrycode</th>\n",
              "      <th>drawing</th>\n",
              "      <th>key_id</th>\n",
              "      <th>recognized</th>\n",
              "      <th>word</th>\n",
              "      <th>image_path</th>\n",
              "    </tr>\n",
              "  </thead>\n",
              "  <tbody>\n",
              "    <tr>\n",
              "      <th>0</th>\n",
              "      <td>RO</td>\n",
              "      <td>[[[0, 5, 3, 4, 10, 72, 82, 91, 99, 98, 87, 71,...</td>\n",
              "      <td>5613582005829632</td>\n",
              "      <td>True</td>\n",
              "      <td>traffic light</td>\n",
              "      <td>data/traffic light/5613582005829632.png</td>\n",
              "    </tr>\n",
              "    <tr>\n",
              "      <th>1</th>\n",
              "      <td>US</td>\n",
              "      <td>[[[0, 255], [3, 4]], [[86, 73, 73, 76, 85, 130...</td>\n",
              "      <td>5769631006457856</td>\n",
              "      <td>True</td>\n",
              "      <td>traffic light</td>\n",
              "      <td>data/traffic light/5769631006457856.png</td>\n",
              "    </tr>\n",
              "    <tr>\n",
              "      <th>2</th>\n",
              "      <td>ZA</td>\n",
              "      <td>[[[39, 33, 34, 39, 52, 61, 66, 65, 67, 71], [2...</td>\n",
              "      <td>4999795544424448</td>\n",
              "      <td>True</td>\n",
              "      <td>traffic light</td>\n",
              "      <td>data/traffic light/4999795544424448.png</td>\n",
              "    </tr>\n",
              "    <tr>\n",
              "      <th>3</th>\n",
              "      <td>VN</td>\n",
              "      <td>[[[12, 9], [128, 255]], [[0, 23, 36, 37, 42, 5...</td>\n",
              "      <td>4878417906368512</td>\n",
              "      <td>True</td>\n",
              "      <td>traffic light</td>\n",
              "      <td>data/traffic light/4878417906368512.png</td>\n",
              "    </tr>\n",
              "    <tr>\n",
              "      <th>4</th>\n",
              "      <td>HU</td>\n",
              "      <td>[[[9, 7, 0, 19, 49, 90, 96, 99, 93, 94, 62, 16...</td>\n",
              "      <td>5572841187573760</td>\n",
              "      <td>True</td>\n",
              "      <td>traffic light</td>\n",
              "      <td>data/traffic light/5572841187573760.png</td>\n",
              "    </tr>\n",
              "  </tbody>\n",
              "</table>\n",
              "</div>\n",
              "    <div class=\"colab-df-buttons\">\n",
              "\n",
              "  <div class=\"colab-df-container\">\n",
              "    <button class=\"colab-df-convert\" onclick=\"convertToInteractive('df-6b1edb2e-aa57-46a2-8216-0b3fce022f62')\"\n",
              "            title=\"Convert this dataframe to an interactive table.\"\n",
              "            style=\"display:none;\">\n",
              "\n",
              "  <svg xmlns=\"http://www.w3.org/2000/svg\" height=\"24px\" viewBox=\"0 -960 960 960\">\n",
              "    <path d=\"M120-120v-720h720v720H120Zm60-500h600v-160H180v160Zm220 220h160v-160H400v160Zm0 220h160v-160H400v160ZM180-400h160v-160H180v160Zm440 0h160v-160H620v160ZM180-180h160v-160H180v160Zm440 0h160v-160H620v160Z\"/>\n",
              "  </svg>\n",
              "    </button>\n",
              "\n",
              "  <style>\n",
              "    .colab-df-container {\n",
              "      display:flex;\n",
              "      gap: 12px;\n",
              "    }\n",
              "\n",
              "    .colab-df-convert {\n",
              "      background-color: #E8F0FE;\n",
              "      border: none;\n",
              "      border-radius: 50%;\n",
              "      cursor: pointer;\n",
              "      display: none;\n",
              "      fill: #1967D2;\n",
              "      height: 32px;\n",
              "      padding: 0 0 0 0;\n",
              "      width: 32px;\n",
              "    }\n",
              "\n",
              "    .colab-df-convert:hover {\n",
              "      background-color: #E2EBFA;\n",
              "      box-shadow: 0px 1px 2px rgba(60, 64, 67, 0.3), 0px 1px 3px 1px rgba(60, 64, 67, 0.15);\n",
              "      fill: #174EA6;\n",
              "    }\n",
              "\n",
              "    .colab-df-buttons div {\n",
              "      margin-bottom: 4px;\n",
              "    }\n",
              "\n",
              "    [theme=dark] .colab-df-convert {\n",
              "      background-color: #3B4455;\n",
              "      fill: #D2E3FC;\n",
              "    }\n",
              "\n",
              "    [theme=dark] .colab-df-convert:hover {\n",
              "      background-color: #434B5C;\n",
              "      box-shadow: 0px 1px 3px 1px rgba(0, 0, 0, 0.15);\n",
              "      filter: drop-shadow(0px 1px 2px rgba(0, 0, 0, 0.3));\n",
              "      fill: #FFFFFF;\n",
              "    }\n",
              "  </style>\n",
              "\n",
              "    <script>\n",
              "      const buttonEl =\n",
              "        document.querySelector('#df-6b1edb2e-aa57-46a2-8216-0b3fce022f62 button.colab-df-convert');\n",
              "      buttonEl.style.display =\n",
              "        google.colab.kernel.accessAllowed ? 'block' : 'none';\n",
              "\n",
              "      async function convertToInteractive(key) {\n",
              "        const element = document.querySelector('#df-6b1edb2e-aa57-46a2-8216-0b3fce022f62');\n",
              "        const dataTable =\n",
              "          await google.colab.kernel.invokeFunction('convertToInteractive',\n",
              "                                                    [key], {});\n",
              "        if (!dataTable) return;\n",
              "\n",
              "        const docLinkHtml = 'Like what you see? Visit the ' +\n",
              "          '<a target=\"_blank\" href=https://colab.research.google.com/notebooks/data_table.ipynb>data table notebook</a>'\n",
              "          + ' to learn more about interactive tables.';\n",
              "        element.innerHTML = '';\n",
              "        dataTable['output_type'] = 'display_data';\n",
              "        await google.colab.output.renderOutput(dataTable, element);\n",
              "        const docLink = document.createElement('div');\n",
              "        docLink.innerHTML = docLinkHtml;\n",
              "        element.appendChild(docLink);\n",
              "      }\n",
              "    </script>\n",
              "  </div>\n",
              "\n",
              "\n",
              "<div id=\"df-90c15796-f23c-4fe3-b59d-1a7d155d1661\">\n",
              "  <button class=\"colab-df-quickchart\" onclick=\"quickchart('df-90c15796-f23c-4fe3-b59d-1a7d155d1661')\"\n",
              "            title=\"Suggest charts\"\n",
              "            style=\"display:none;\">\n",
              "\n",
              "<svg xmlns=\"http://www.w3.org/2000/svg\" height=\"24px\"viewBox=\"0 0 24 24\"\n",
              "     width=\"24px\">\n",
              "    <g>\n",
              "        <path d=\"M19 3H5c-1.1 0-2 .9-2 2v14c0 1.1.9 2 2 2h14c1.1 0 2-.9 2-2V5c0-1.1-.9-2-2-2zM9 17H7v-7h2v7zm4 0h-2V7h2v10zm4 0h-2v-4h2v4z\"/>\n",
              "    </g>\n",
              "</svg>\n",
              "  </button>\n",
              "\n",
              "<style>\n",
              "  .colab-df-quickchart {\n",
              "      --bg-color: #E8F0FE;\n",
              "      --fill-color: #1967D2;\n",
              "      --hover-bg-color: #E2EBFA;\n",
              "      --hover-fill-color: #174EA6;\n",
              "      --disabled-fill-color: #AAA;\n",
              "      --disabled-bg-color: #DDD;\n",
              "  }\n",
              "\n",
              "  [theme=dark] .colab-df-quickchart {\n",
              "      --bg-color: #3B4455;\n",
              "      --fill-color: #D2E3FC;\n",
              "      --hover-bg-color: #434B5C;\n",
              "      --hover-fill-color: #FFFFFF;\n",
              "      --disabled-bg-color: #3B4455;\n",
              "      --disabled-fill-color: #666;\n",
              "  }\n",
              "\n",
              "  .colab-df-quickchart {\n",
              "    background-color: var(--bg-color);\n",
              "    border: none;\n",
              "    border-radius: 50%;\n",
              "    cursor: pointer;\n",
              "    display: none;\n",
              "    fill: var(--fill-color);\n",
              "    height: 32px;\n",
              "    padding: 0;\n",
              "    width: 32px;\n",
              "  }\n",
              "\n",
              "  .colab-df-quickchart:hover {\n",
              "    background-color: var(--hover-bg-color);\n",
              "    box-shadow: 0 1px 2px rgba(60, 64, 67, 0.3), 0 1px 3px 1px rgba(60, 64, 67, 0.15);\n",
              "    fill: var(--button-hover-fill-color);\n",
              "  }\n",
              "\n",
              "  .colab-df-quickchart-complete:disabled,\n",
              "  .colab-df-quickchart-complete:disabled:hover {\n",
              "    background-color: var(--disabled-bg-color);\n",
              "    fill: var(--disabled-fill-color);\n",
              "    box-shadow: none;\n",
              "  }\n",
              "\n",
              "  .colab-df-spinner {\n",
              "    border: 2px solid var(--fill-color);\n",
              "    border-color: transparent;\n",
              "    border-bottom-color: var(--fill-color);\n",
              "    animation:\n",
              "      spin 1s steps(1) infinite;\n",
              "  }\n",
              "\n",
              "  @keyframes spin {\n",
              "    0% {\n",
              "      border-color: transparent;\n",
              "      border-bottom-color: var(--fill-color);\n",
              "      border-left-color: var(--fill-color);\n",
              "    }\n",
              "    20% {\n",
              "      border-color: transparent;\n",
              "      border-left-color: var(--fill-color);\n",
              "      border-top-color: var(--fill-color);\n",
              "    }\n",
              "    30% {\n",
              "      border-color: transparent;\n",
              "      border-left-color: var(--fill-color);\n",
              "      border-top-color: var(--fill-color);\n",
              "      border-right-color: var(--fill-color);\n",
              "    }\n",
              "    40% {\n",
              "      border-color: transparent;\n",
              "      border-right-color: var(--fill-color);\n",
              "      border-top-color: var(--fill-color);\n",
              "    }\n",
              "    60% {\n",
              "      border-color: transparent;\n",
              "      border-right-color: var(--fill-color);\n",
              "    }\n",
              "    80% {\n",
              "      border-color: transparent;\n",
              "      border-right-color: var(--fill-color);\n",
              "      border-bottom-color: var(--fill-color);\n",
              "    }\n",
              "    90% {\n",
              "      border-color: transparent;\n",
              "      border-bottom-color: var(--fill-color);\n",
              "    }\n",
              "  }\n",
              "</style>\n",
              "\n",
              "  <script>\n",
              "    async function quickchart(key) {\n",
              "      const quickchartButtonEl =\n",
              "        document.querySelector('#' + key + ' button');\n",
              "      quickchartButtonEl.disabled = true;  // To prevent multiple clicks.\n",
              "      quickchartButtonEl.classList.add('colab-df-spinner');\n",
              "      try {\n",
              "        const charts = await google.colab.kernel.invokeFunction(\n",
              "            'suggestCharts', [key], {});\n",
              "      } catch (error) {\n",
              "        console.error('Error during call to suggestCharts:', error);\n",
              "      }\n",
              "      quickchartButtonEl.classList.remove('colab-df-spinner');\n",
              "      quickchartButtonEl.classList.add('colab-df-quickchart-complete');\n",
              "    }\n",
              "    (() => {\n",
              "      let quickchartButtonEl =\n",
              "        document.querySelector('#df-90c15796-f23c-4fe3-b59d-1a7d155d1661 button');\n",
              "      quickchartButtonEl.style.display =\n",
              "        google.colab.kernel.accessAllowed ? 'block' : 'none';\n",
              "    })();\n",
              "  </script>\n",
              "</div>\n",
              "\n",
              "    </div>\n",
              "  </div>\n"
            ],
            "application/vnd.google.colaboratory.intrinsic+json": {
              "type": "dataframe",
              "variable_name": "kaggle_doodle_df"
            }
          },
          "metadata": {},
          "execution_count": 3
        }
      ]
    },
    {
      "cell_type": "code",
      "source": [
        "word_unique_values = kaggle_doodle_df['word'].value_counts()\n",
        "\n",
        "print('maximum count of a doodle type:', word_unique_values.max())\n",
        "print('minimum count of a doodle type:', word_unique_values.min())"
      ],
      "metadata": {
        "colab": {
          "base_uri": "https://localhost:8080/"
        },
        "id": "E5aZpza851Yq",
        "outputId": "10b75dc2-c606-4412-ebe0-f4573c463f1f"
      },
      "execution_count": 4,
      "outputs": [
        {
          "output_type": "stream",
          "name": "stdout",
          "text": [
            "maximum count of a doodle type: 3000\n",
            "minimum count of a doodle type: 3000\n"
          ]
        }
      ]
    },
    {
      "cell_type": "code",
      "source": [
        "print(len(word_unique_values))"
      ],
      "metadata": {
        "colab": {
          "base_uri": "https://localhost:8080/"
        },
        "id": "Rqf5Kccy5_5W",
        "outputId": "24824305-1dd1-4199-d2cb-6e05ec6727f6"
      },
      "execution_count": 5,
      "outputs": [
        {
          "output_type": "stream",
          "name": "stdout",
          "text": [
            "340\n"
          ]
        }
      ]
    },
    {
      "cell_type": "code",
      "source": [
        "print(kaggle_doodle_df.isnull().sum())\n",
        "print(kaggle_doodle_df.isna().sum())"
      ],
      "metadata": {
        "colab": {
          "base_uri": "https://localhost:8080/"
        },
        "id": "8kWmWNyC6C2z",
        "outputId": "90a0e0d4-a499-4a7a-de83-7209eb611304"
      },
      "execution_count": 6,
      "outputs": [
        {
          "output_type": "stream",
          "name": "stdout",
          "text": [
            "countrycode    46\n",
            "drawing         0\n",
            "key_id          0\n",
            "recognized      0\n",
            "word            0\n",
            "image_path      0\n",
            "dtype: int64\n",
            "countrycode    46\n",
            "drawing         0\n",
            "key_id          0\n",
            "recognized      0\n",
            "word            0\n",
            "image_path      0\n",
            "dtype: int64\n"
          ]
        }
      ]
    },
    {
      "cell_type": "markdown",
      "source": [
        "### Sample Image"
      ],
      "metadata": {
        "id": "lmHZpobn6QH5"
      }
    },
    {
      "cell_type": "code",
      "source": [
        "image_cv2 = cv2.imread(\"/content/drive/MyDrive/Capstone/kaggle_doodles/doodle/bat/6482096434446336.png\")\n",
        "image_rgb = cv2.cvtColor(image_cv2, cv2.COLOR_BGR2RGB)\n",
        "plt.imshow(image_rgb)\n",
        "plt.title(\"Sample Image from Bat Folder\")\n",
        "plt.show()"
      ],
      "metadata": {
        "colab": {
          "base_uri": "https://localhost:8080/",
          "height": 452
        },
        "id": "AOh6BskTddGd",
        "outputId": "09a624b0-b5d0-4a9b-a688-b3b8744d4d5b"
      },
      "execution_count": 9,
      "outputs": [
        {
          "output_type": "display_data",
          "data": {
            "text/plain": [
              "<Figure size 640x480 with 1 Axes>"
            ],
            "image/png": "[encoded data removed]"
          },
          "metadata": {}
        }
      ]
    },
    {
      "cell_type": "code",
      "source": [],
      "metadata": {
        "id": "nXS5uJGwd0AR"
      },
      "execution_count": null,
      "outputs": []
    }
  ],
  "metadata": {
    "colab": {
      "provenance": [],
      "machine_shape": "hm",
      "gpuType": "L4"
    },
    "kernelspec": {
      "display_name": "Python 3",
      "name": "python3"
    },
    "language_info": {
      "name": "python"
    },
    "accelerator": "GPU"
  },
  "nbformat": 4,
  "nbformat_minor": 0
}