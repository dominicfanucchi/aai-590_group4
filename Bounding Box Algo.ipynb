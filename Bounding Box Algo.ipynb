{
 "cells": [
  {
   "cell_type": "markdown",
   "metadata": {},
   "source": [
    "# **Bounding Boxes Using the Stroke Data non Machine Learning Aproach**"
   ]
  },
  {
   "cell_type": "code",
   "execution_count": 44,
   "metadata": {},
   "outputs": [],
   "source": [
    "import polars as pl\n",
    "import os\n",
    "import pandas as pd\n",
    "import numpy as np\n",
    "import json\n",
    "from PIL import Image, ImageDraw\n",
    "import matplotlib.pyplot as plt\n",
    "import ast"
   ]
  },
  {
   "cell_type": "code",
   "execution_count": 45,
   "metadata": {},
   "outputs": [
    {
     "data": {
      "text/html": [
       "<div><style>\n",
       ".dataframe > thead > tr,\n",
       ".dataframe > tbody > tr {\n",
       "  text-align: right;\n",
       "  white-space: pre-wrap;\n",
       "}\n",
       "</style>\n",
       "<small>shape: (5, 6)</small><table border=\"1\" class=\"dataframe\"><thead><tr><th>countrycode</th><th>drawing</th><th>key_id</th><th>recognized</th><th>word</th><th>image_path</th></tr><tr><td>str</td><td>str</td><td>i64</td><td>bool</td><td>str</td><td>str</td></tr></thead><tbody><tr><td>&quot;RO&quot;</td><td>&quot;[[[0, 5, 3, 4, 10, 72, 82, 91,…</td><td>5613582005829632</td><td>true</td><td>&quot;traffic light&quot;</td><td>&quot;data/traffic light/56135820058…</td></tr><tr><td>&quot;US&quot;</td><td>&quot;[[[0, 255], [3, 4]], [[86, 73,…</td><td>5769631006457856</td><td>true</td><td>&quot;traffic light&quot;</td><td>&quot;data/traffic light/57696310064…</td></tr><tr><td>&quot;ZA&quot;</td><td>&quot;[[[39, 33, 34, 39, 52, 61, 66,…</td><td>4999795544424448</td><td>true</td><td>&quot;traffic light&quot;</td><td>&quot;data/traffic light/49997955444…</td></tr><tr><td>&quot;VN&quot;</td><td>&quot;[[[12, 9], [128, 255]], [[0, 2…</td><td>4878417906368512</td><td>true</td><td>&quot;traffic light&quot;</td><td>&quot;data/traffic light/48784179063…</td></tr><tr><td>&quot;HU&quot;</td><td>&quot;[[[9, 7, 0, 19, 49, 90, 96, 99…</td><td>5572841187573760</td><td>true</td><td>&quot;traffic light&quot;</td><td>&quot;data/traffic light/55728411875…</td></tr></tbody></table></div>"
      ],
      "text/plain": [
       "shape: (5, 6)\n",
       "┌─────────────┬──────────────────┬──────────────────┬────────────┬───────────────┬─────────────────┐\n",
       "│ countrycode ┆ drawing          ┆ key_id           ┆ recognized ┆ word          ┆ image_path      │\n",
       "│ ---         ┆ ---              ┆ ---              ┆ ---        ┆ ---           ┆ ---             │\n",
       "│ str         ┆ str              ┆ i64              ┆ bool       ┆ str           ┆ str             │\n",
       "╞═════════════╪══════════════════╪══════════════════╪════════════╪═══════════════╪═════════════════╡\n",
       "│ RO          ┆ [[[0, 5, 3, 4,   ┆ 5613582005829632 ┆ true       ┆ traffic light ┆ data/traffic    │\n",
       "│             ┆ 10, 72, 82, 91,… ┆                  ┆            ┆               ┆ light/561358200 │\n",
       "│             ┆                  ┆                  ┆            ┆               ┆ 58…             │\n",
       "│ US          ┆ [[[0, 255], [3,  ┆ 5769631006457856 ┆ true       ┆ traffic light ┆ data/traffic    │\n",
       "│             ┆ 4]], [[86, 73,…  ┆                  ┆            ┆               ┆ light/576963100 │\n",
       "│             ┆                  ┆                  ┆            ┆               ┆ 64…             │\n",
       "│ ZA          ┆ [[[39, 33, 34,   ┆ 4999795544424448 ┆ true       ┆ traffic light ┆ data/traffic    │\n",
       "│             ┆ 39, 52, 61, 66,… ┆                  ┆            ┆               ┆ light/499979554 │\n",
       "│             ┆                  ┆                  ┆            ┆               ┆ 44…             │\n",
       "│ VN          ┆ [[[12, 9], [128, ┆ 4878417906368512 ┆ true       ┆ traffic light ┆ data/traffic    │\n",
       "│             ┆ 255]], [[0, 2…   ┆                  ┆            ┆               ┆ light/487841790 │\n",
       "│             ┆                  ┆                  ┆            ┆               ┆ 63…             │\n",
       "│ HU          ┆ [[[9, 7, 0, 19,  ┆ 5572841187573760 ┆ true       ┆ traffic light ┆ data/traffic    │\n",
       "│             ┆ 49, 90, 96, 99…  ┆                  ┆            ┆               ┆ light/557284118 │\n",
       "│             ┆                  ┆                  ┆            ┆               ┆ 75…             │\n",
       "└─────────────┴──────────────────┴──────────────────┴────────────┴───────────────┴─────────────────┘"
      ]
     },
     "execution_count": 45,
     "metadata": {},
     "output_type": "execute_result"
    }
   ],
   "source": [
    "df = pl.read_csv(\"/media/parker/Data_Drive/quick-draw-data/master_doodle_dataframe.csv\")\n",
    "df.head()"
   ]
  },
  {
   "cell_type": "code",
   "execution_count": 46,
   "metadata": {},
   "outputs": [],
   "source": [
    "# loading the words df which is json \n",
    "words_list = pd.read_json(\"words_keep.json\")"
   ]
  },
  {
   "cell_type": "code",
   "execution_count": 47,
   "metadata": {},
   "outputs": [
    {
     "data": {
      "text/html": [
       "<div>\n",
       "<style scoped>\n",
       "    .dataframe tbody tr th:only-of-type {\n",
       "        vertical-align: middle;\n",
       "    }\n",
       "\n",
       "    .dataframe tbody tr th {\n",
       "        vertical-align: top;\n",
       "    }\n",
       "\n",
       "    .dataframe thead th {\n",
       "        text-align: right;\n",
       "    }\n",
       "</style>\n",
       "<table border=\"1\" class=\"dataframe\">\n",
       "  <thead>\n",
       "    <tr style=\"text-align: right;\">\n",
       "      <th></th>\n",
       "      <th>words</th>\n",
       "    </tr>\n",
       "  </thead>\n",
       "  <tbody>\n",
       "    <tr>\n",
       "      <th>0</th>\n",
       "      <td>traffic light</td>\n",
       "    </tr>\n",
       "    <tr>\n",
       "      <th>1</th>\n",
       "      <td>van</td>\n",
       "    </tr>\n",
       "    <tr>\n",
       "      <th>2</th>\n",
       "      <td>firetruck</td>\n",
       "    </tr>\n",
       "    <tr>\n",
       "      <th>3</th>\n",
       "      <td>tractor</td>\n",
       "    </tr>\n",
       "    <tr>\n",
       "      <th>4</th>\n",
       "      <td>axe</td>\n",
       "    </tr>\n",
       "  </tbody>\n",
       "</table>\n",
       "</div>"
      ],
      "text/plain": [
       "           words\n",
       "0  traffic light\n",
       "1            van\n",
       "2      firetruck\n",
       "3        tractor\n",
       "4            axe"
      ]
     },
     "execution_count": 47,
     "metadata": {},
     "output_type": "execute_result"
    }
   ],
   "source": [
    "words_list.head()"
   ]
  },
  {
   "cell_type": "code",
   "execution_count": 48,
   "metadata": {},
   "outputs": [
    {
     "name": "stdout",
     "output_type": "stream",
     "text": [
      "Index(['words'], dtype='object')\n"
     ]
    }
   ],
   "source": [
    "# cols for words list\n",
    "print(words_list.columns)"
   ]
  },
  {
   "cell_type": "code",
   "execution_count": 49,
   "metadata": {},
   "outputs": [],
   "source": [
    "# filter the df to only include the words in the words_list dataframe\n",
    "filtered_df = df.filter(pl.col('word').is_in(words_list['words'].tolist()))\n",
    "filtered_df.head()\n",
    "\n",
    "# convert the filtered dataframe to a pandas dataframe\n",
    "filtered_df = filtered_df.to_pandas()"
   ]
  },
  {
   "cell_type": "code",
   "execution_count": 50,
   "metadata": {},
   "outputs": [
    {
     "data": {
      "text/html": [
       "<div>\n",
       "<style scoped>\n",
       "    .dataframe tbody tr th:only-of-type {\n",
       "        vertical-align: middle;\n",
       "    }\n",
       "\n",
       "    .dataframe tbody tr th {\n",
       "        vertical-align: top;\n",
       "    }\n",
       "\n",
       "    .dataframe thead th {\n",
       "        text-align: right;\n",
       "    }\n",
       "</style>\n",
       "<table border=\"1\" class=\"dataframe\">\n",
       "  <thead>\n",
       "    <tr style=\"text-align: right;\">\n",
       "      <th></th>\n",
       "      <th>countrycode</th>\n",
       "      <th>drawing</th>\n",
       "      <th>key_id</th>\n",
       "      <th>recognized</th>\n",
       "      <th>word</th>\n",
       "      <th>image_path</th>\n",
       "    </tr>\n",
       "  </thead>\n",
       "  <tbody>\n",
       "    <tr>\n",
       "      <th>0</th>\n",
       "      <td>RO</td>\n",
       "      <td>[[[0, 5, 3, 4, 10, 72, 82, 91, 99, 98, 87, 71,...</td>\n",
       "      <td>5613582005829632</td>\n",
       "      <td>True</td>\n",
       "      <td>traffic light</td>\n",
       "      <td>data/traffic light/5613582005829632.png</td>\n",
       "    </tr>\n",
       "    <tr>\n",
       "      <th>1</th>\n",
       "      <td>US</td>\n",
       "      <td>[[[0, 255], [3, 4]], [[86, 73, 73, 76, 85, 130...</td>\n",
       "      <td>5769631006457856</td>\n",
       "      <td>True</td>\n",
       "      <td>traffic light</td>\n",
       "      <td>data/traffic light/5769631006457856.png</td>\n",
       "    </tr>\n",
       "    <tr>\n",
       "      <th>2</th>\n",
       "      <td>ZA</td>\n",
       "      <td>[[[39, 33, 34, 39, 52, 61, 66, 65, 67, 71], [2...</td>\n",
       "      <td>4999795544424448</td>\n",
       "      <td>True</td>\n",
       "      <td>traffic light</td>\n",
       "      <td>data/traffic light/4999795544424448.png</td>\n",
       "    </tr>\n",
       "    <tr>\n",
       "      <th>3</th>\n",
       "      <td>VN</td>\n",
       "      <td>[[[12, 9], [128, 255]], [[0, 23, 36, 37, 42, 5...</td>\n",
       "      <td>4878417906368512</td>\n",
       "      <td>True</td>\n",
       "      <td>traffic light</td>\n",
       "      <td>data/traffic light/4878417906368512.png</td>\n",
       "    </tr>\n",
       "    <tr>\n",
       "      <th>4</th>\n",
       "      <td>HU</td>\n",
       "      <td>[[[9, 7, 0, 19, 49, 90, 96, 99, 93, 94, 62, 16...</td>\n",
       "      <td>5572841187573760</td>\n",
       "      <td>True</td>\n",
       "      <td>traffic light</td>\n",
       "      <td>data/traffic light/5572841187573760.png</td>\n",
       "    </tr>\n",
       "  </tbody>\n",
       "</table>\n",
       "</div>"
      ],
      "text/plain": [
       "  countrycode                                            drawing  \\\n",
       "0          RO  [[[0, 5, 3, 4, 10, 72, 82, 91, 99, 98, 87, 71,...   \n",
       "1          US  [[[0, 255], [3, 4]], [[86, 73, 73, 76, 85, 130...   \n",
       "2          ZA  [[[39, 33, 34, 39, 52, 61, 66, 65, 67, 71], [2...   \n",
       "3          VN  [[[12, 9], [128, 255]], [[0, 23, 36, 37, 42, 5...   \n",
       "4          HU  [[[9, 7, 0, 19, 49, 90, 96, 99, 93, 94, 62, 16...   \n",
       "\n",
       "             key_id  recognized           word  \\\n",
       "0  5613582005829632        True  traffic light   \n",
       "1  5769631006457856        True  traffic light   \n",
       "2  4999795544424448        True  traffic light   \n",
       "3  4878417906368512        True  traffic light   \n",
       "4  5572841187573760        True  traffic light   \n",
       "\n",
       "                                image_path  \n",
       "0  data/traffic light/5613582005829632.png  \n",
       "1  data/traffic light/5769631006457856.png  \n",
       "2  data/traffic light/4999795544424448.png  \n",
       "3  data/traffic light/4878417906368512.png  \n",
       "4  data/traffic light/5572841187573760.png  "
      ]
     },
     "execution_count": 50,
     "metadata": {},
     "output_type": "execute_result"
    }
   ],
   "source": [
    "df = filtered_df\n",
    "df.head()"
   ]
  },
  {
   "cell_type": "code",
   "execution_count": 51,
   "metadata": {},
   "outputs": [
    {
     "data": {
      "text/html": [
       "<div>\n",
       "<style scoped>\n",
       "    .dataframe tbody tr th:only-of-type {\n",
       "        vertical-align: middle;\n",
       "    }\n",
       "\n",
       "    .dataframe tbody tr th {\n",
       "        vertical-align: top;\n",
       "    }\n",
       "\n",
       "    .dataframe thead th {\n",
       "        text-align: right;\n",
       "    }\n",
       "</style>\n",
       "<table border=\"1\" class=\"dataframe\">\n",
       "  <thead>\n",
       "    <tr style=\"text-align: right;\">\n",
       "      <th></th>\n",
       "      <th>drawing</th>\n",
       "      <th>word</th>\n",
       "    </tr>\n",
       "  </thead>\n",
       "  <tbody>\n",
       "    <tr>\n",
       "      <th>0</th>\n",
       "      <td>[[[0, 5, 3, 4, 10, 72, 82, 91, 99, 98, 87, 71,...</td>\n",
       "      <td>traffic light</td>\n",
       "    </tr>\n",
       "    <tr>\n",
       "      <th>1</th>\n",
       "      <td>[[[0, 255], [3, 4]], [[86, 73, 73, 76, 85, 130...</td>\n",
       "      <td>traffic light</td>\n",
       "    </tr>\n",
       "    <tr>\n",
       "      <th>2</th>\n",
       "      <td>[[[39, 33, 34, 39, 52, 61, 66, 65, 67, 71], [2...</td>\n",
       "      <td>traffic light</td>\n",
       "    </tr>\n",
       "    <tr>\n",
       "      <th>3</th>\n",
       "      <td>[[[12, 9], [128, 255]], [[0, 23, 36, 37, 42, 5...</td>\n",
       "      <td>traffic light</td>\n",
       "    </tr>\n",
       "    <tr>\n",
       "      <th>4</th>\n",
       "      <td>[[[9, 7, 0, 19, 49, 90, 96, 99, 93, 94, 62, 16...</td>\n",
       "      <td>traffic light</td>\n",
       "    </tr>\n",
       "  </tbody>\n",
       "</table>\n",
       "</div>"
      ],
      "text/plain": [
       "                                             drawing           word\n",
       "0  [[[0, 5, 3, 4, 10, 72, 82, 91, 99, 98, 87, 71,...  traffic light\n",
       "1  [[[0, 255], [3, 4]], [[86, 73, 73, 76, 85, 130...  traffic light\n",
       "2  [[[39, 33, 34, 39, 52, 61, 66, 65, 67, 71], [2...  traffic light\n",
       "3  [[[12, 9], [128, 255]], [[0, 23, 36, 37, 42, 5...  traffic light\n",
       "4  [[[9, 7, 0, 19, 49, 90, 96, 99, 93, 94, 62, 16...  traffic light"
      ]
     },
     "execution_count": 51,
     "metadata": {},
     "output_type": "execute_result"
    }
   ],
   "source": [
    "# dropping all columns but the drawing and the word column \n",
    "df = df[['drawing', 'word']]\n",
    "df.head()"
   ]
  },
  {
   "cell_type": "code",
   "execution_count": 58,
   "metadata": {},
   "outputs": [
    {
     "data": {
      "image/png": "[encoded data removed]",
      "text/plain": [
       "<Figure size 640x480 with 1 Axes>"
      ]
     },
     "metadata": {},
     "output_type": "display_data"
    }
   ],
   "source": [
    "# plotting a random doodle\n",
    "# convert the string representation of the drawing to a list\n",
    "drawing = ast.literal_eval(df['drawing'].iloc[10000])\n",
    "\n",
    "# plot the drawing\n",
    "for x, y in drawing:\n",
    "    plt.plot(x, y, marker='.')\n",
    "plt.gca().invert_yaxis()\n",
    "plt.show()"
   ]
  },
  {
   "cell_type": "code",
   "execution_count": 53,
   "metadata": {},
   "outputs": [],
   "source": [
    "# function to do bounding boxes around the doodle\n",
    "\n",
    "def get_square_bbox_with_padding(drawing_str, padding=20):\n",
    "    strokes = ast.literal_eval(drawing_str)\n",
    "    x_all = []\n",
    "    y_all = []\n",
    "\n",
    "    for stroke in strokes:\n",
    "        x, y = stroke\n",
    "        x_all.extend(x)\n",
    "        y_all.extend(y)\n",
    "\n",
    "    x_min, x_max = min(x_all), max(x_all)\n",
    "    y_min, y_max = min(y_all), max(y_all)\n",
    "\n",
    "    # determine the width and height\n",
    "    width = x_max - x_min\n",
    "    height = y_max - y_min\n",
    "    max_dim = max(width, height)\n",
    "\n",
    "    # center the box to make it square\n",
    "    x_center = (x_min + x_max) / 2\n",
    "    y_center = (y_min + y_max) / 2\n",
    "\n",
    "    half_dim = max_dim / 2 + padding\n",
    "\n",
    "    # create square box\n",
    "    square_x_min = int(max(x_center - half_dim, 0))\n",
    "    square_x_max = int(min(x_center + half_dim, 255))  # clamp to 0–255\n",
    "    square_y_min = int(max(y_center - half_dim, 0))\n",
    "    square_y_max = int(min(y_center + half_dim, 255))\n",
    "\n",
    "    return square_x_min, square_y_min, square_x_max, square_y_max"
   ]
  },
  {
   "cell_type": "code",
   "execution_count": 54,
   "metadata": {},
   "outputs": [
    {
     "name": "stderr",
     "output_type": "stream",
     "text": [
      "/tmp/ipykernel_955316/3098203445.py:2: SettingWithCopyWarning: \n",
      "A value is trying to be set on a copy of a slice from a DataFrame.\n",
      "Try using .loc[row_indexer,col_indexer] = value instead\n",
      "\n",
      "See the caveats in the documentation: https://pandas.pydata.org/pandas-docs/stable/user_guide/indexing.html#returning-a-view-versus-a-copy\n",
      "  df['bbox'] = df['drawing'].apply(lambda x: get_square_bbox_with_padding(x, padding=20))\n"
     ]
    }
   ],
   "source": [
    "# applying the bounding box function to the dataframe and returning the bounding box as a new column\n",
    "df['bbox'] = df['drawing'].apply(lambda x: get_square_bbox_with_padding(x, padding=20))"
   ]
  },
  {
   "cell_type": "code",
   "execution_count": 55,
   "metadata": {},
   "outputs": [
    {
     "data": {
      "text/html": [
       "<div>\n",
       "<style scoped>\n",
       "    .dataframe tbody tr th:only-of-type {\n",
       "        vertical-align: middle;\n",
       "    }\n",
       "\n",
       "    .dataframe tbody tr th {\n",
       "        vertical-align: top;\n",
       "    }\n",
       "\n",
       "    .dataframe thead th {\n",
       "        text-align: right;\n",
       "    }\n",
       "</style>\n",
       "<table border=\"1\" class=\"dataframe\">\n",
       "  <thead>\n",
       "    <tr style=\"text-align: right;\">\n",
       "      <th></th>\n",
       "      <th>drawing</th>\n",
       "      <th>word</th>\n",
       "      <th>bbox</th>\n",
       "    </tr>\n",
       "  </thead>\n",
       "  <tbody>\n",
       "    <tr>\n",
       "      <th>0</th>\n",
       "      <td>[[[0, 5, 3, 4, 10, 72, 82, 91, 99, 98, 87, 71,...</td>\n",
       "      <td>traffic light</td>\n",
       "      <td>(0, 0, 197, 255)</td>\n",
       "    </tr>\n",
       "    <tr>\n",
       "      <th>1</th>\n",
       "      <td>[[[0, 255], [3, 4]], [[86, 73, 73, 76, 85, 130...</td>\n",
       "      <td>traffic light</td>\n",
       "      <td>(0, 0, 255, 255)</td>\n",
       "    </tr>\n",
       "    <tr>\n",
       "      <th>2</th>\n",
       "      <td>[[[39, 33, 34, 39, 52, 61, 66, 65, 67, 71], [2...</td>\n",
       "      <td>traffic light</td>\n",
       "      <td>(0, 0, 196, 255)</td>\n",
       "    </tr>\n",
       "    <tr>\n",
       "      <th>3</th>\n",
       "      <td>[[[12, 9], [128, 255]], [[0, 23, 36, 37, 42, 5...</td>\n",
       "      <td>traffic light</td>\n",
       "      <td>(0, 0, 181, 255)</td>\n",
       "    </tr>\n",
       "    <tr>\n",
       "      <th>4</th>\n",
       "      <td>[[[9, 7, 0, 19, 49, 90, 96, 99, 93, 94, 62, 16...</td>\n",
       "      <td>traffic light</td>\n",
       "      <td>(0, 0, 197, 255)</td>\n",
       "    </tr>\n",
       "  </tbody>\n",
       "</table>\n",
       "</div>"
      ],
      "text/plain": [
       "                                             drawing           word  \\\n",
       "0  [[[0, 5, 3, 4, 10, 72, 82, 91, 99, 98, 87, 71,...  traffic light   \n",
       "1  [[[0, 255], [3, 4]], [[86, 73, 73, 76, 85, 130...  traffic light   \n",
       "2  [[[39, 33, 34, 39, 52, 61, 66, 65, 67, 71], [2...  traffic light   \n",
       "3  [[[12, 9], [128, 255]], [[0, 23, 36, 37, 42, 5...  traffic light   \n",
       "4  [[[9, 7, 0, 19, 49, 90, 96, 99, 93, 94, 62, 16...  traffic light   \n",
       "\n",
       "               bbox  \n",
       "0  (0, 0, 197, 255)  \n",
       "1  (0, 0, 255, 255)  \n",
       "2  (0, 0, 196, 255)  \n",
       "3  (0, 0, 181, 255)  \n",
       "4  (0, 0, 197, 255)  "
      ]
     },
     "execution_count": 55,
     "metadata": {},
     "output_type": "execute_result"
    }
   ],
   "source": [
    "df.head()"
   ]
  },
  {
   "cell_type": "code",
   "execution_count": null,
   "metadata": {},
   "outputs": [
    {
     "data": {
      "image/png": "[encoded data removed]",
      "text/plain": [
       "<Figure size 400x400 with 1 Axes>"
      ]
     },
     "metadata": {},
     "output_type": "display_data"
    }
   ],
   "source": [
    "# function to visualize the doodle with the bounding box\n",
    "\n",
    "def visualize_doodle_with_bbox(drawing_str, bbox, canvas_size=400, stroke_width=2): ### you can adjust the canvas size, so you could change it to 256 or whatever you want\n",
    "    strokes = ast.literal_eval(drawing_str)\n",
    "\n",
    "    # blank canvas\n",
    "    img = Image.new(\"RGB\", (canvas_size, canvas_size), color=\"white\")\n",
    "    draw = ImageDraw.Draw(img)\n",
    "\n",
    "    # draw the stokes\n",
    "    for stroke in strokes:\n",
    "        x, y = stroke\n",
    "        points = list(zip(x, y))\n",
    "        draw.line(points, fill=\"black\", width=stroke_width)\n",
    "\n",
    "    # draw the bounding box\n",
    "    draw.rectangle(bbox, outline=\"red\", width=2)\n",
    "\n",
    "    return img\n",
    "\n",
    "\n",
    "\n",
    "# select a random row from the df using 3000 to match the previous example plot\n",
    "example_row = df.iloc[10000]\n",
    "img = visualize_doodle_with_bbox(example_row['drawing'], example_row['bbox'])\n",
    "\n",
    "# show the image\n",
    "plt.figure(figsize=(4, 4))\n",
    "plt.imshow(img)\n",
    "plt.axis('off')\n",
    "plt.title(f\"Word: {example_row['word']}\")\n",
    "plt.show()"
   ]
  },
  {
   "cell_type": "markdown",
   "metadata": {},
   "source": [
    "## This cell below allows you to draw a bounding box around the stroke data that you draw. **Do not move the box once the image drawing area shows up, this causes some sort of error and draws an line randomly**"
   ]
  },
  {
   "cell_type": "code",
   "execution_count": null,
   "metadata": {},
   "outputs": [
    {
     "data": {
      "image/png": "[encoded data removed]",
      "text/plain": [
       "<Figure size 640x480 with 1 Axes>"
      ]
     },
     "metadata": {},
     "output_type": "display_data"
    }
   ],
   "source": [
    "import tkinter as tk\n",
    "from PIL import Image, ImageDraw\n",
    "import matplotlib.pyplot as plt\n",
    "\n",
    "strokes = []  # list of the strokes\n",
    "current_stroke = ([], [])\n",
    "\n",
    "def start_stroke(event):\n",
    "    current_stroke[0].append(event.x)\n",
    "    current_stroke[1].append(event.y)\n",
    "\n",
    "def draw_stroke(event):\n",
    "    canvas.create_line(event.x, event.y, event.x + 1, event.y + 1)\n",
    "    current_stroke[0].append(event.x)\n",
    "    current_stroke[1].append(event.y)\n",
    "\n",
    "def end_stroke(event):\n",
    "    global strokes\n",
    "    strokes.append((current_stroke[0][:], current_stroke[1][:]))\n",
    "    current_stroke[0].clear()\n",
    "    current_stroke[1].clear()\n",
    "\n",
    "def get_square_bbox_with_padding(strokes, padding=20):\n",
    "    x_all = []\n",
    "    y_all = []\n",
    "\n",
    "    for x, y in strokes:\n",
    "        x_all.extend(x)\n",
    "        y_all.extend(y)\n",
    "\n",
    "    x_min, x_max = min(x_all), max(x_all)\n",
    "    y_min, y_max = min(y_all), max(y_all)\n",
    "\n",
    "    width = x_max - x_min\n",
    "    height = y_max - y_min\n",
    "    max_dim = max(width, height)\n",
    "\n",
    "    x_center = (x_min + x_max) / 2\n",
    "    y_center = (y_min + y_max) / 2\n",
    "\n",
    "    half_dim = max_dim / 2 + padding\n",
    "\n",
    "    square_x_min = int(max(x_center - half_dim, 0))\n",
    "    square_x_max = int(min(x_center + half_dim, canvas_size))\n",
    "    square_y_min = int(max(y_center - half_dim, 0))\n",
    "    square_y_max = int(min(y_center + half_dim, canvas_size))\n",
    "\n",
    "    return square_x_min, square_y_min, square_x_max, square_y_max\n",
    "\n",
    "def submit():\n",
    "    # draw stokes and bounding box\n",
    "    img = Image.new(\"RGB\", (canvas_size, canvas_size), \"white\")\n",
    "    draw = ImageDraw.Draw(img)\n",
    "\n",
    "    for x, y in strokes:\n",
    "        points = list(zip(x, y))\n",
    "        draw.line(points, fill=\"black\", width=2)\n",
    "\n",
    "    # calculate bounding box\n",
    "    bbox = get_square_bbox_with_padding(strokes, padding=10)\n",
    "    draw.rectangle(bbox, outline=\"red\", width=2)\n",
    "\n",
    "    # show image with bounding box\n",
    "    plt.imshow(img)\n",
    "    plt.axis('off')\n",
    "    plt.title(\"Doodle with Bounding Box\")\n",
    "    plt.show()\n",
    "    \n",
    "\"\"\"\n",
    "    # saving the stoke data\n",
    "    with open(\"my_drawing_strokes.txt\", \"w\") as f:\n",
    "        f.write(str(strokes))\n",
    "\n",
    "    print(\"drawing and bounding box complete!\")\n",
    "\"\"\"\n",
    "\n",
    "\n",
    "# setting up the tkinter canvas area\n",
    "canvas_size = 500\n",
    "root = tk.Tk()\n",
    "root.title(\"Draw something!\")\n",
    "\n",
    "canvas = tk.Canvas(root, width=canvas_size, height=canvas_size, bg=\"white\")\n",
    "canvas.pack()\n",
    "\n",
    "canvas.bind(\"<Button-1>\", start_stroke)\n",
    "canvas.bind(\"<B1-Motion>\", draw_stroke)\n",
    "canvas.bind(\"<ButtonRelease-1>\", end_stroke)\n",
    "\n",
    "submit_button = tk.Button(root, text=\"Submit\", command=submit)\n",
    "submit_button.pack(pady=10)\n",
    "\n",
    "root.mainloop()"
   ]
  },
  {
   "cell_type": "code",
   "execution_count": null,
   "metadata": {},
   "outputs": [],
   "source": []
  }
 ],
 "metadata": {
  "kernelspec": {
   "display_name": "torch",
   "language": "python",
   "name": "python3"
  },
  "language_info": {
   "codemirror_mode": {
    "name": "ipython",
    "version": 3
   },
   "file_extension": ".py",
   "mimetype": "text/x-python",
   "name": "python",
   "nbconvert_exporter": "python",
   "pygments_lexer": "ipython3",
   "version": "3.8.19"
  }
 },
 "nbformat": 4,
 "nbformat_minor": 2
}
