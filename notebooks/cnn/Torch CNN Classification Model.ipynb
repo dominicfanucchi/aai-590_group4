{
 "cells": [
  {
   "cell_type": "markdown",
   "metadata": {},
   "source": [
    "# Torch NN and Hugging Face model on the Doodle Dataset"
   ]
  },
  {
   "cell_type": "code",
   "execution_count": 32,
   "metadata": {},
   "outputs": [],
   "source": [
    "# import standard libraries\n",
    "import os\n",
    "import polars as pl\n",
    "import numpy as np\n",
    "import pandas as pd\n",
    "import matplotlib.pyplot as plt\n",
    "from sklearn.model_selection import train_test_split\n",
    "from sklearn.preprocessing import StandardScaler\n",
    "\n",
    "\n",
    "# hugging face libraries for classification\n",
    "import torch\n",
    "import torchvision.transforms as transforms\n",
    "import ast\n",
    "import cv2\n",
    "from PIL import Image\n",
    "from datasets import Dataset\n",
    "from transformers import ViTFeatureExtractor\n",
    "from sklearn.metrics import accuracy_score, precision_recall_fscore_support\n",
    "from tqdm import tqdm\n",
    "from datasets import Dataset, DatasetDict"
   ]
  },
  {
   "cell_type": "code",
   "execution_count": 33,
   "metadata": {},
   "outputs": [],
   "source": [
    "# loading the csv file from the folder \n",
    "\n",
    "df = pl.read_csv(\"/media/parker/Data_Drive/quick-draw-data/master_doodle_dataframe.csv\")"
   ]
  },
  {
   "cell_type": "code",
   "execution_count": 34,
   "metadata": {},
   "outputs": [
    {
     "data": {
      "text/html": [
       "<div><style>\n",
       ".dataframe > thead > tr,\n",
       ".dataframe > tbody > tr {\n",
       "  text-align: right;\n",
       "  white-space: pre-wrap;\n",
       "}\n",
       "</style>\n",
       "<small>shape: (5, 6)</small><table border=\"1\" class=\"dataframe\"><thead><tr><th>countrycode</th><th>drawing</th><th>key_id</th><th>recognized</th><th>word</th><th>image_path</th></tr><tr><td>str</td><td>str</td><td>i64</td><td>bool</td><td>str</td><td>str</td></tr></thead><tbody><tr><td>&quot;RO&quot;</td><td>&quot;[[[0, 5, 3, 4, 10, 72, 82, 91,…</td><td>5613582005829632</td><td>true</td><td>&quot;traffic light&quot;</td><td>&quot;data/traffic light/56135820058…</td></tr><tr><td>&quot;US&quot;</td><td>&quot;[[[0, 255], [3, 4]], [[86, 73,…</td><td>5769631006457856</td><td>true</td><td>&quot;traffic light&quot;</td><td>&quot;data/traffic light/57696310064…</td></tr><tr><td>&quot;ZA&quot;</td><td>&quot;[[[39, 33, 34, 39, 52, 61, 66,…</td><td>4999795544424448</td><td>true</td><td>&quot;traffic light&quot;</td><td>&quot;data/traffic light/49997955444…</td></tr><tr><td>&quot;VN&quot;</td><td>&quot;[[[12, 9], [128, 255]], [[0, 2…</td><td>4878417906368512</td><td>true</td><td>&quot;traffic light&quot;</td><td>&quot;data/traffic light/48784179063…</td></tr><tr><td>&quot;HU&quot;</td><td>&quot;[[[9, 7, 0, 19, 49, 90, 96, 99…</td><td>5572841187573760</td><td>true</td><td>&quot;traffic light&quot;</td><td>&quot;data/traffic light/55728411875…</td></tr></tbody></table></div>"
      ],
      "text/plain": [
       "shape: (5, 6)\n",
       "┌─────────────┬──────────────────┬──────────────────┬────────────┬───────────────┬─────────────────┐\n",
       "│ countrycode ┆ drawing          ┆ key_id           ┆ recognized ┆ word          ┆ image_path      │\n",
       "│ ---         ┆ ---              ┆ ---              ┆ ---        ┆ ---           ┆ ---             │\n",
       "│ str         ┆ str              ┆ i64              ┆ bool       ┆ str           ┆ str             │\n",
       "╞═════════════╪══════════════════╪══════════════════╪════════════╪═══════════════╪═════════════════╡\n",
       "│ RO          ┆ [[[0, 5, 3, 4,   ┆ 5613582005829632 ┆ true       ┆ traffic light ┆ data/traffic    │\n",
       "│             ┆ 10, 72, 82, 91,… ┆                  ┆            ┆               ┆ light/561358200 │\n",
       "│             ┆                  ┆                  ┆            ┆               ┆ 58…             │\n",
       "│ US          ┆ [[[0, 255], [3,  ┆ 5769631006457856 ┆ true       ┆ traffic light ┆ data/traffic    │\n",
       "│             ┆ 4]], [[86, 73,…  ┆                  ┆            ┆               ┆ light/576963100 │\n",
       "│             ┆                  ┆                  ┆            ┆               ┆ 64…             │\n",
       "│ ZA          ┆ [[[39, 33, 34,   ┆ 4999795544424448 ┆ true       ┆ traffic light ┆ data/traffic    │\n",
       "│             ┆ 39, 52, 61, 66,… ┆                  ┆            ┆               ┆ light/499979554 │\n",
       "│             ┆                  ┆                  ┆            ┆               ┆ 44…             │\n",
       "│ VN          ┆ [[[12, 9], [128, ┆ 4878417906368512 ┆ true       ┆ traffic light ┆ data/traffic    │\n",
       "│             ┆ 255]], [[0, 2…   ┆                  ┆            ┆               ┆ light/487841790 │\n",
       "│             ┆                  ┆                  ┆            ┆               ┆ 63…             │\n",
       "│ HU          ┆ [[[9, 7, 0, 19,  ┆ 5572841187573760 ┆ true       ┆ traffic light ┆ data/traffic    │\n",
       "│             ┆ 49, 90, 96, 99…  ┆                  ┆            ┆               ┆ light/557284118 │\n",
       "│             ┆                  ┆                  ┆            ┆               ┆ 75…             │\n",
       "└─────────────┴──────────────────┴──────────────────┴────────────┴───────────────┴─────────────────┘"
      ]
     },
     "execution_count": 34,
     "metadata": {},
     "output_type": "execute_result"
    }
   ],
   "source": [
    "df.head()"
   ]
  },
  {
   "cell_type": "code",
   "execution_count": 35,
   "metadata": {},
   "outputs": [],
   "source": [
    "# convert the polars dataframe to pandas dataframe\n",
    "\n",
    "df = df.to_pandas()"
   ]
  },
  {
   "cell_type": "code",
   "execution_count": 36,
   "metadata": {},
   "outputs": [],
   "source": [
    "# dropping the countrycode column, reconized, and the imagepath columns \n",
    "df = df.drop(columns=['countrycode', 'recognized', 'key_id', 'image_path'])"
   ]
  },
  {
   "cell_type": "code",
   "execution_count": 37,
   "metadata": {},
   "outputs": [
    {
     "data": {
      "text/plain": [
       "Index(['drawing', 'word'], dtype='object')"
      ]
     },
     "execution_count": 37,
     "metadata": {},
     "output_type": "execute_result"
    }
   ],
   "source": [
    "df.columns"
   ]
  },
  {
   "cell_type": "code",
   "execution_count": 38,
   "metadata": {},
   "outputs": [
    {
     "name": "stdout",
     "output_type": "stream",
     "text": [
      "['traffic light' 'rhinoceros' 'bed' 'school bus' 'van' 'octopus'\n",
      " 'firetruck' 'laptop' 'tractor' 'matches' 'windmill' 'square' 'pineapple'\n",
      " 'candle' 'mosquito' 'pear' 'boomerang' 'lollipop' 'yoga' 'waterslide'\n",
      " 'swan' 'triangle' 'diving board' 'crayon' 'hockey puck' 'moustache'\n",
      " 'calendar' 'cow' 'fire hydrant' 'hot air balloon' 'helmet' 'parrot'\n",
      " 'hot tub' 'baseball' 'saw' 'mouth' 'passport' 'campfire' 'car'\n",
      " 'bulldozer' 'pencil' 'wine glass' 'marker' 'axe' 'mug' 'see saw' 'foot'\n",
      " 'door' 'beach' 'cruise ship' 'drums' 'necklace' 'spoon' 'motorbike'\n",
      " 'megaphone' 'penguin' 'washing machine' 'giraffe' 'monkey' 'shoe'\n",
      " 'microphone' 'skyscraper' 'blackberry' 'sword' 'nail' 'birthday cake'\n",
      " 'carrot' 'lobster' 'hourglass' 'microwave' 'cannon' 'clarinet'\n",
      " 'basketball' 'pliers' 'bee' 'flashlight' 'leaf' 'belt' 'grass' 'river'\n",
      " 'peas' 'elbow' 'tiger' 'roller coaster' 'piano' 'trumpet' 'snowflake'\n",
      " 'bandage' 'bowtie' 'harp' 'onion' 'stairs' 'bus' 'oven' 'stop sign'\n",
      " 'chair' 'guitar' 'headphones' 'hockey stick' 'sheep' 'leg' 'popsicle'\n",
      " 'suitcase' 'snorkel' 'angel' 'scissors' 'line' 'shorts' 'toaster'\n",
      " 'lantern' 'rabbit' 'rain' 'camel' 'mouse' 'snail' 'cell phone' 'couch'\n",
      " 'butterfly' 'bear' 'light bulb' 'flower' 'paint can' 'hedgehog'\n",
      " 'teddy-bear' 'stitches' 'bathtub' 'blueberry' 'police car' 'crab' 'jail'\n",
      " 'ear' 'violin' 'grapes' 'ocean' 'telephone' 'bucket' 'anvil'\n",
      " 'animal migration' 'hamburger' 'dog' 'bush' 'whale' 'dresser' 'bicycle'\n",
      " 'church' 'table' 'hand' 'bread' 'toothpaste' 'raccoon' 'sandwich' 'barn'\n",
      " 'eyeglasses' 'cactus' 'smiley face' 'screwdriver' 'sun' 'envelope' 'map'\n",
      " 'radio' 'lighthouse' 'frog' 'peanut' 'sleeping bag' 'feather'\n",
      " 'The Great Wall of China' 'pillow' 'stethoscope' 'baseball bat' 'vase'\n",
      " 'sailboat' 'pond' 'crocodile' 'cake' 'kangaroo' 'pool' 'hurricane'\n",
      " 'hammer' 'tennis racquet' 'calculator' 'knee' 'The Eiffel Tower' 'cloud'\n",
      " 'lion' 'strawberry' 'fireplace' 'sink' 'hexagon' 'pizza' 'lipstick'\n",
      " 'flamingo' 'spider' 'star' 'streetlight' 'frying pan' 'cup' 'television'\n",
      " 'palm tree' 'eye' 'rake' 'pants' 'tooth' 'string bean' 'bracelet' 'crown'\n",
      " 'flip flops' 'teapot' 'compass' 'power outlet' 'beard' 'rainbow'\n",
      " 'toothbrush' 'canoe' 'alarm clock' 'tornado' 'circle' 'pig' 'horse'\n",
      " 'computer' 'squiggle' 'fan' 'broccoli' 'hat' 'wine bottle' 'umbrella'\n",
      " 'The Mona Lisa' 'backpack' 'chandelier' 'cooler' 'basket' 'paper clip'\n",
      " 'trombone' 'house' 'cat' 'dolphin' 'moon' 'shark' 'swing set' 'speedboat'\n",
      " 'skull' 'cello' 'toe' 'underwear' 'golf club' 'paintbrush' 'tree' 'panda'\n",
      " 'camouflage' 'pickup truck' 'ladder' 'arm' 'clock' 'fence' 'sea turtle'\n",
      " 'jacket' 'diamond' 'octagon' 'remote control' 'stove' 'train' 'tent'\n",
      " 'parachute' 'ice cream' 'truck' 'castle' 'finger' 'potato' 'binoculars'\n",
      " 'helicopter' 'snowman' 'ant' 'toilet' 'flying saucer' 'steak' 'owl'\n",
      " 't-shirt' 'house plant' 'soccer ball' 'apple' 'book' 'face' 'sock'\n",
      " 'drill' 'donut' 'saxophone' 'dishwasher' 'camera' 'hospital' 'broom'\n",
      " 'lightning' 'watermelon' 'spreadsheet' 'bridge' 'coffee cup' 'ambulance'\n",
      " 'key' 'picture frame' 'nose' 'purse' 'stereo' 'keyboard' 'elephant'\n",
      " 'zigzag' 'bird' 'sweater' 'mailbox' 'banana' 'bench' 'snake' 'scorpion'\n",
      " 'submarine' 'ceiling fan' 'duck' 'skateboard' 'eraser' 'fork' 'hot dog'\n",
      " 'squirrel' 'rollerskates' 'zebra' 'mountain' 'wristwatch' 'dumbbell'\n",
      " 'mermaid' 'cookie' 'garden' 'asparagus' 'bottlecap' 'airplane' 'mushroom'\n",
      " 'bat' 'wheel' 'dragon' 'goatee' 'floor lamp' 'garden hose' 'postcard'\n",
      " 'shovel' 'brain' 'fish']\n"
     ]
    }
   ],
   "source": [
    "# saving the unique values from the word column to a csv so we can specify the classess that we want to use\n",
    "\n",
    "words = df['word'].unique()\n",
    "print(words)\n"
   ]
  },
  {
   "cell_type": "code",
   "execution_count": 39,
   "metadata": {},
   "outputs": [],
   "source": [
    "# saving the words to a csv file\n",
    "words_df = pd.DataFrame(words)\n",
    "# setting the words df to a csv file for filtering and picking the better ones\n",
    "words_df.to_csv('words.csv', index=False)"
   ]
  },
  {
   "cell_type": "code",
   "execution_count": 40,
   "metadata": {},
   "outputs": [],
   "source": [
    "# loading up words again from the csv file\n",
    "words = pd.read_csv('words copy.csv')"
   ]
  },
  {
   "cell_type": "code",
   "execution_count": 41,
   "metadata": {},
   "outputs": [
    {
     "data": {
      "text/html": [
       "<div>\n",
       "<style scoped>\n",
       "    .dataframe tbody tr th:only-of-type {\n",
       "        vertical-align: middle;\n",
       "    }\n",
       "\n",
       "    .dataframe tbody tr th {\n",
       "        vertical-align: top;\n",
       "    }\n",
       "\n",
       "    .dataframe thead th {\n",
       "        text-align: right;\n",
       "    }\n",
       "</style>\n",
       "<table border=\"1\" class=\"dataframe\">\n",
       "  <thead>\n",
       "    <tr style=\"text-align: right;\">\n",
       "      <th></th>\n",
       "      <th>words</th>\n",
       "    </tr>\n",
       "  </thead>\n",
       "  <tbody>\n",
       "    <tr>\n",
       "      <th>0</th>\n",
       "      <td>traffic light</td>\n",
       "    </tr>\n",
       "    <tr>\n",
       "      <th>1</th>\n",
       "      <td>van</td>\n",
       "    </tr>\n",
       "    <tr>\n",
       "      <th>2</th>\n",
       "      <td>firetruck</td>\n",
       "    </tr>\n",
       "    <tr>\n",
       "      <th>3</th>\n",
       "      <td>tractor</td>\n",
       "    </tr>\n",
       "    <tr>\n",
       "      <th>4</th>\n",
       "      <td>windmill</td>\n",
       "    </tr>\n",
       "  </tbody>\n",
       "</table>\n",
       "</div>"
      ],
      "text/plain": [
       "           words\n",
       "0  traffic light\n",
       "1            van\n",
       "2      firetruck\n",
       "3        tractor\n",
       "4       windmill"
      ]
     },
     "execution_count": 41,
     "metadata": {},
     "output_type": "execute_result"
    }
   ],
   "source": [
    "words.head()"
   ]
  },
  {
   "cell_type": "code",
   "execution_count": 42,
   "metadata": {},
   "outputs": [],
   "source": [
    "# removing all null values from the dataframe\n",
    "words = words.dropna()"
   ]
  },
  {
   "cell_type": "code",
   "execution_count": 43,
   "metadata": {},
   "outputs": [],
   "source": [
    "# saving the words to a json file, so later we can load it up as a list\n",
    "words.to_json('words.json', orient='records')"
   ]
  },
  {
   "cell_type": "code",
   "execution_count": 44,
   "metadata": {},
   "outputs": [],
   "source": [
    "# load words and make a list\n",
    "words = pd.read_json('words.json')\n",
    "words = words['words']"
   ]
  },
  {
   "cell_type": "code",
   "execution_count": 45,
   "metadata": {},
   "outputs": [
    {
     "name": "stdout",
     "output_type": "stream",
     "text": [
      "['traffic light' 'van' 'firetruck' 'tractor' 'windmill' 'waterslide'\n",
      " 'swan' 'moustache' 'cow' 'hot air balloon' 'saw' 'campfire' 'car'\n",
      " 'bulldozer' 'axe' 'see saw' 'door' 'beach' 'motorbike' 'skyscraper'\n",
      " 'sword' 'cannon' 'grass' 'river' 'peas' 'piano' 'trumpet' 'bandage'\n",
      " 'stairs' 'oven' 'stop sign' 'sheep' 'cell phone' 'stitches' 'police car'\n",
      " 'jail' 'ocean' 'telephone' 'bush' 'barn' 'cactus' 'sun' 'radio'\n",
      " 'lighthouse' 'sleeping bag' 'baseball bat' 'hammer' 'cloud' 'frying pan'\n",
      " 'teapot' 'compass' 'backpack' 'speedboat' 'skull' 'tree' 'camouflage'\n",
      " 'pickup truck' 'castle' 'binoculars' 'helicopter' 'flying saucer'\n",
      " 't-shirt' 'hospital' 'lightning' 'bridge' 'ambulance' 'stereo' 'snake'\n",
      " 'submarine' 'mountain' 'dumbbell' 'airplane' 'shovel']\n"
     ]
    }
   ],
   "source": [
    "# filter the data frame now\n",
    "df = df[df['word'].isin(words)]\n",
    "print(df['word'].unique())"
   ]
  },
  {
   "cell_type": "code",
   "execution_count": null,
   "metadata": {},
   "outputs": [],
   "source": [
    "# filter down the selection even further using a list\n",
    "words_keep = [\n",
    "    'firetruck',\n",
    "    'skyscraper',\n",
    "    'hospital',\n",
    "    'cloud',\n",
    "    'skull',\n",
    "    'helicopter',\n",
    "    'tractor',\n",
    "    'traffic light',\n",
    "    'campfire',\n",
    "    'van',\n",
    "    'mountain',\n",
    "    'tree'\n",
    "    ]\n",
    "\n",
    "# filter the dataframe even more \n",
    "df = df[df['word'].isin(words_keep)]"
   ]
  },
  {
   "cell_type": "code",
   "execution_count": 47,
   "metadata": {},
   "outputs": [
    {
     "data": {
      "text/html": [
       "<div>\n",
       "<style scoped>\n",
       "    .dataframe tbody tr th:only-of-type {\n",
       "        vertical-align: middle;\n",
       "    }\n",
       "\n",
       "    .dataframe tbody tr th {\n",
       "        vertical-align: top;\n",
       "    }\n",
       "\n",
       "    .dataframe thead th {\n",
       "        text-align: right;\n",
       "    }\n",
       "</style>\n",
       "<table border=\"1\" class=\"dataframe\">\n",
       "  <thead>\n",
       "    <tr style=\"text-align: right;\">\n",
       "      <th></th>\n",
       "      <th>0</th>\n",
       "    </tr>\n",
       "  </thead>\n",
       "  <tbody>\n",
       "    <tr>\n",
       "      <th>0</th>\n",
       "      <td>firetruck</td>\n",
       "    </tr>\n",
       "    <tr>\n",
       "      <th>1</th>\n",
       "      <td>skyscraper</td>\n",
       "    </tr>\n",
       "    <tr>\n",
       "      <th>2</th>\n",
       "      <td>hospital</td>\n",
       "    </tr>\n",
       "    <tr>\n",
       "      <th>3</th>\n",
       "      <td>cloud</td>\n",
       "    </tr>\n",
       "    <tr>\n",
       "      <th>4</th>\n",
       "      <td>skull</td>\n",
       "    </tr>\n",
       "  </tbody>\n",
       "</table>\n",
       "</div>"
      ],
      "text/plain": [
       "            0\n",
       "0   firetruck\n",
       "1  skyscraper\n",
       "2    hospital\n",
       "3       cloud\n",
       "4       skull"
      ]
     },
     "execution_count": 47,
     "metadata": {},
     "output_type": "execute_result"
    }
   ],
   "source": [
    "# making words to keep a df \n",
    "words_keep_df = pd.DataFrame(words_keep)\n",
    "words_keep_df.head()"
   ]
  },
  {
   "cell_type": "code",
   "execution_count": 48,
   "metadata": {},
   "outputs": [
    {
     "data": {
      "text/html": [
       "<div>\n",
       "<style scoped>\n",
       "    .dataframe tbody tr th:only-of-type {\n",
       "        vertical-align: middle;\n",
       "    }\n",
       "\n",
       "    .dataframe tbody tr th {\n",
       "        vertical-align: top;\n",
       "    }\n",
       "\n",
       "    .dataframe thead th {\n",
       "        text-align: right;\n",
       "    }\n",
       "</style>\n",
       "<table border=\"1\" class=\"dataframe\">\n",
       "  <thead>\n",
       "    <tr style=\"text-align: right;\">\n",
       "      <th></th>\n",
       "      <th>word</th>\n",
       "    </tr>\n",
       "  </thead>\n",
       "  <tbody>\n",
       "    <tr>\n",
       "      <th>0</th>\n",
       "      <td>firetruck</td>\n",
       "    </tr>\n",
       "    <tr>\n",
       "      <th>1</th>\n",
       "      <td>skyscraper</td>\n",
       "    </tr>\n",
       "    <tr>\n",
       "      <th>2</th>\n",
       "      <td>hospital</td>\n",
       "    </tr>\n",
       "    <tr>\n",
       "      <th>3</th>\n",
       "      <td>cloud</td>\n",
       "    </tr>\n",
       "    <tr>\n",
       "      <th>4</th>\n",
       "      <td>skull</td>\n",
       "    </tr>\n",
       "  </tbody>\n",
       "</table>\n",
       "</div>"
      ],
      "text/plain": [
       "         word\n",
       "0   firetruck\n",
       "1  skyscraper\n",
       "2    hospital\n",
       "3       cloud\n",
       "4       skull"
      ]
     },
     "execution_count": 48,
     "metadata": {},
     "output_type": "execute_result"
    }
   ],
   "source": [
    "# making words the column header \n",
    "words_keep_df.columns = ['word']\n",
    "words_keep_df.head()"
   ]
  },
  {
   "cell_type": "code",
   "execution_count": 49,
   "metadata": {},
   "outputs": [],
   "source": [
    "# SAVING THE WORDS TO A json  FILE\n",
    "\n",
    "\n",
    "#words_keep_df = pd.DataFrame(words_keep)\n",
    "\n",
    "# Convert list to DataFrame with correct column name\n",
    "\n",
    "#words_keep_df = pd.DataFrame(words_keep, columns=['words'])\n",
    "\n",
    "# Save to JSON with correct formatting\n",
    "#words_keep_df.to_json('words_keep_final.json', orient='records', indent=4)"
   ]
  },
  {
   "cell_type": "code",
   "execution_count": 50,
   "metadata": {},
   "outputs": [
    {
     "data": {
      "image/png": "[encoded data removed]",
      "text/plain": [
       "<Figure size 640x480 with 1 Axes>"
      ]
     },
     "metadata": {},
     "output_type": "display_data"
    }
   ],
   "source": [
    "import ast  \n",
    "\n",
    "# random drawing \n",
    "image_data = df['drawing'].iloc[10000]\n",
    "\n",
    "# convert the string to a list \n",
    "if isinstance(image_data, str):  \n",
    "    image_data = ast.literal_eval(image_data) \n",
    "\n",
    "# creating a blank canvas to plot\n",
    "fig, ax = plt.subplots()\n",
    "ax.set_xlim(0, 255)\n",
    "ax.set_ylim(0, 255)\n",
    "ax.invert_yaxis()  \n",
    "\n",
    "# drawing the image\n",
    "for stroke in image_data:\n",
    "    x, y = stroke  \n",
    "    ax.plot(x, y, linewidth=3)\n",
    "\n",
    "plt.show()\n"
   ]
  },
  {
   "cell_type": "code",
   "execution_count": 51,
   "metadata": {},
   "outputs": [
    {
     "data": {
      "text/plain": [
       "Index(['drawing', 'word'], dtype='object')"
      ]
     },
     "execution_count": 51,
     "metadata": {},
     "output_type": "execute_result"
    }
   ],
   "source": [
    "df.columns"
   ]
  },
  {
   "cell_type": "code",
   "execution_count": 52,
   "metadata": {},
   "outputs": [
    {
     "name": "stdout",
     "output_type": "stream",
     "text": [
      "word\n",
      "traffic light    3000\n",
      "van              3000\n",
      "firetruck        3000\n",
      "tractor          3000\n",
      "campfire         3000\n",
      "skyscraper       3000\n",
      "cloud            3000\n",
      "skull            3000\n",
      "tree             3000\n",
      "helicopter       3000\n",
      "hospital         3000\n",
      "mountain         3000\n",
      "Name: count, dtype: int64\n"
     ]
    }
   ],
   "source": [
    "# printing the count of the distinct words in the 'word' column\n",
    "count_classes = df['word'].value_counts()\n",
    "print(count_classes)"
   ]
  },
  {
   "cell_type": "code",
   "execution_count": 53,
   "metadata": {},
   "outputs": [
    {
     "name": "stdout",
     "output_type": "stream",
     "text": [
      "Using device: cuda\n"
     ]
    }
   ],
   "source": [
    "# check if GPU is available\n",
    "device = torch.device(\"cuda\" if torch.cuda.is_available() else \"cpu\")\n",
    "print(f\"Using device: {device}\")"
   ]
  },
  {
   "cell_type": "code",
   "execution_count": 54,
   "metadata": {},
   "outputs": [
    {
     "name": "stdout",
     "output_type": "stream",
     "text": [
      "NVIDIA GeForce RTX 2060\n"
     ]
    }
   ],
   "source": [
    "# print the device name\n",
    "print(torch.cuda.get_device_name(0))"
   ]
  },
  {
   "cell_type": "code",
   "execution_count": 55,
   "metadata": {},
   "outputs": [],
   "source": [
    "# defined the fixed lengths of the arrays, this in term also limits our image size\n",
    "FIXED_LENGTH = 2048  \n",
    "\n",
    "# Function to convert stroke data to a fixed-size numpy array, which is like the MNIST dataset\n",
    "def strokes_to_array(strokes, max_length=FIXED_LENGTH):\n",
    "    points = []\n",
    "    \n",
    "    for stroke in strokes:\n",
    "        x, y = stroke\n",
    "        points.extend(list(zip(x, y)))\n",
    "\n",
    "    # Flatten list of tuples into 1D array\n",
    "    points = np.array(points).flatten()\n",
    "\n",
    "    # normalize values between -1 and 1 (right here I am making the image like MNIST dataset)\n",
    "    points = points / 255.0  \n",
    "\n",
    "    # pad with zeros if too short, truncate if too long\n",
    "    if len(points) < max_length:\n",
    "        points = np.pad(points, (0, max_length - len(points)), 'constant')\n",
    "    else:\n",
    "        points = points[:max_length]\n",
    "\n",
    "    return points\n",
    "\n",
    "# apply the transformation to the dataset\n",
    "df['drawing_array'] = df['drawing'].apply(lambda x: strokes_to_array(ast.literal_eval(x)))"
   ]
  },
  {
   "cell_type": "code",
   "execution_count": 56,
   "metadata": {},
   "outputs": [],
   "source": [
    "from torch.utils.data import Dataset, DataLoader\n",
    "\n",
    "# convert labels to numeric format\n",
    "word_to_idx = {word: idx for idx, word in enumerate(df['word'].unique())}\n",
    "df['label'] = df['word'].map(word_to_idx)\n",
    "\n",
    "# custom torch dataset class \n",
    "class QuickDrawDataset(Dataset):\n",
    "    def __init__(self, dataframe):\n",
    "        self.data = dataframe\n",
    "\n",
    "    def __len__(self):\n",
    "        return len(self.data)\n",
    "\n",
    "    def __getitem__(self, idx):\n",
    "        x = torch.tensor(self.data.iloc[idx]['drawing_array'], dtype=torch.float32)\n",
    "        y = torch.tensor(self.data.iloc[idx]['label'], dtype=torch.long)\n",
    "        return x, y\n",
    "\n",
    "# create dataset and dataloader for torch\n",
    "dataset = QuickDrawDataset(df)\n",
    "train_loader = DataLoader(dataset, batch_size=64, shuffle=True)"
   ]
  },
  {
   "cell_type": "markdown",
   "metadata": {},
   "source": [
    "### Torch Imports"
   ]
  },
  {
   "cell_type": "code",
   "execution_count": 57,
   "metadata": {},
   "outputs": [],
   "source": [
    "import torch.nn as nn\n",
    "import torch.optim as optim\n",
    "import torch.nn.functional as F"
   ]
  },
  {
   "cell_type": "code",
   "execution_count": 58,
   "metadata": {},
   "outputs": [],
   "source": [
    "# Define an MLP model\n",
    "import torch.nn as nn\n",
    "\n",
    "class LargeQuickDrawCNN(nn.Module):\n",
    "    def __init__(self, num_classes):\n",
    "        super(LargeQuickDrawCNN, self).__init__()\n",
    "\n",
    "        # convolutional layers (increased depth from last itteration)\n",
    "        self.conv1 = nn.Conv2d(1, 64, kernel_size=3, padding=1)  \n",
    "        self.conv2 = nn.Conv2d(64, 128, kernel_size=3, padding=1)  \n",
    "        self.conv3 = nn.Conv2d(128, 256, kernel_size=3, padding=1)  \n",
    "        self.conv4 = nn.Conv2d(256, 512, kernel_size=3, padding=1)  \n",
    "        \n",
    "        # pooling layer\n",
    "        self.pool = nn.MaxPool2d(kernel_size=2, stride=2)\n",
    "\n",
    "        # fully connected Layers (made the network network)\n",
    "        self.fc1 = nn.Linear(512 * 2 * 4, 1024)  \n",
    "        self.fc2 = nn.Linear(1024, 512)\n",
    "        self.fc3 = nn.Linear(512, num_classes)\n",
    "\n",
    "        # batch normalization\n",
    "        self.batchnorm1 = nn.BatchNorm2d(64)\n",
    "        self.batchnorm2 = nn.BatchNorm2d(128)\n",
    "        self.batchnorm3 = nn.BatchNorm2d(256)\n",
    "        self.batchnorm4 = nn.BatchNorm2d(512)\n",
    "\n",
    "        # dropout \n",
    "        self.dropout = nn.Dropout(0.5)\n",
    "\n",
    "    def forward(self, x):\n",
    "        # reshaping\n",
    "        x = x.view(-1, 1, 32, 64)  \n",
    "\n",
    "        # convolutional layers with BatchNorm, activation & pooling\n",
    "        x = self.pool(F.leaky_relu(self.batchnorm1(self.conv1(x)), negative_slope=0.1))\n",
    "        x = self.pool(F.leaky_relu(self.batchnorm2(self.conv2(x)), negative_slope=0.1))\n",
    "        x = self.pool(F.leaky_relu(self.batchnorm3(self.conv3(x)), negative_slope=0.1))\n",
    "        x = self.pool(F.leaky_relu(self.batchnorm4(self.conv4(x)), negative_slope=0.1))\n",
    "\n",
    "        # flatten before FC layers\n",
    "        x = x.view(x.size(0), -1)\n",
    "\n",
    "        # fully Connected Layers + Dropout\n",
    "        x = F.leaky_relu(self.fc1(x), negative_slope=0.1)\n",
    "        x = self.dropout(x)\n",
    "        x = F.leaky_relu(self.fc2(x), negative_slope=0.1)\n",
    "        x = self.fc3(x)\n",
    "\n",
    "        return x\n",
    "\n",
    "# init model to GPU \n",
    "num_classes = len(word_to_idx)\n",
    "model = LargeQuickDrawCNN(num_classes).to(torch.device(\"cuda\" if torch.cuda.is_available() else \"cpu\"))\n",
    "\n",
    "\n",
    "# init the loss funct and optimizer\n",
    "criterion = nn.CrossEntropyLoss()\n",
    "optimizer = optim.Adam(model.parameters(), lr=0.001)\n",
    "\n",
    "# for plotting and metrics\n",
    "train_losses = []\n",
    "train_accuracies = []\n",
    "val_accuracies = []\n",
    "\n",
    "# split data for training and val\n",
    "train_size = int(0.8 * len(dataset))\n",
    "val_size = len(dataset) - train_size\n",
    "train_dataset, val_dataset = torch.utils.data.random_split(dataset, [train_size, val_size])\n",
    "\n",
    "train_loader = DataLoader(train_dataset, batch_size=64, shuffle=True)\n",
    "val_loader = DataLoader(val_dataset, batch_size=64, shuffle=False)"
   ]
  },
  {
   "cell_type": "code",
   "execution_count": 59,
   "metadata": {},
   "outputs": [
    {
     "name": "stderr",
     "output_type": "stream",
     "text": [
      "Epoch [1/50]: 100%|██████████| 450/450 [00:10<00:00, 41.41it/s, acc=41, loss=1.31]   \n"
     ]
    },
    {
     "name": "stdout",
     "output_type": "stream",
     "text": [
      "Epoch [1/50] - Loss: 1.6740, Train Acc: 40.99%, Val Acc: 56.10%\n",
      "Precision: 0.6196, Recall: 0.5593, F1-score: 0.5488\n"
     ]
    },
    {
     "name": "stderr",
     "output_type": "stream",
     "text": [
      "Epoch [2/50]: 100%|██████████| 450/450 [00:10<00:00, 42.03it/s, acc=65.6, loss=1.06] \n"
     ]
    },
    {
     "name": "stdout",
     "output_type": "stream",
     "text": [
      "Epoch [2/50] - Loss: 1.0030, Train Acc: 65.65%, Val Acc: 68.90%\n",
      "Precision: 0.7406, Recall: 0.6862, F1-score: 0.6923\n"
     ]
    },
    {
     "name": "stderr",
     "output_type": "stream",
     "text": [
      "Epoch [3/50]: 100%|██████████| 450/450 [00:10<00:00, 42.03it/s, acc=74, loss=0.855]  \n"
     ]
    },
    {
     "name": "stdout",
     "output_type": "stream",
     "text": [
      "Epoch [3/50] - Loss: 0.7637, Train Acc: 73.97%, Val Acc: 74.62%\n",
      "Precision: 0.7670, Recall: 0.7457, F1-score: 0.7336\n"
     ]
    },
    {
     "name": "stderr",
     "output_type": "stream",
     "text": [
      "Epoch [4/50]: 100%|██████████| 450/450 [00:10<00:00, 41.51it/s, acc=78.2, loss=0.46] \n"
     ]
    },
    {
     "name": "stdout",
     "output_type": "stream",
     "text": [
      "Epoch [4/50] - Loss: 0.6376, Train Acc: 78.20%, Val Acc: 71.85%\n",
      "Precision: 0.7914, Recall: 0.7179, F1-score: 0.7256\n"
     ]
    },
    {
     "name": "stderr",
     "output_type": "stream",
     "text": [
      "Epoch [5/50]: 100%|██████████| 450/450 [00:10<00:00, 41.67it/s, acc=81.3, loss=0.392]\n"
     ]
    },
    {
     "name": "stdout",
     "output_type": "stream",
     "text": [
      "Epoch [5/50] - Loss: 0.5435, Train Acc: 81.32%, Val Acc: 82.36%\n",
      "Precision: 0.8288, Recall: 0.8232, F1-score: 0.8202\n"
     ]
    },
    {
     "name": "stderr",
     "output_type": "stream",
     "text": [
      "Epoch [6/50]: 100%|██████████| 450/450 [00:10<00:00, 41.39it/s, acc=83.7, loss=0.398]\n"
     ]
    },
    {
     "name": "stdout",
     "output_type": "stream",
     "text": [
      "Epoch [6/50] - Loss: 0.4708, Train Acc: 83.66%, Val Acc: 82.65%\n",
      "Precision: 0.8373, Recall: 0.8250, F1-score: 0.8247\n"
     ]
    },
    {
     "name": "stderr",
     "output_type": "stream",
     "text": [
      "Epoch [7/50]: 100%|██████████| 450/450 [00:10<00:00, 41.30it/s, acc=85.6, loss=0.4]  \n"
     ]
    },
    {
     "name": "stdout",
     "output_type": "stream",
     "text": [
      "Epoch [7/50] - Loss: 0.4149, Train Acc: 85.59%, Val Acc: 76.99%\n",
      "Precision: 0.8167, Recall: 0.7678, F1-score: 0.7742\n"
     ]
    },
    {
     "name": "stderr",
     "output_type": "stream",
     "text": [
      "Epoch [8/50]: 100%|██████████| 450/450 [00:10<00:00, 41.46it/s, acc=87.6, loss=0.29]  \n"
     ]
    },
    {
     "name": "stdout",
     "output_type": "stream",
     "text": [
      "Epoch [8/50] - Loss: 0.3527, Train Acc: 87.62%, Val Acc: 83.22%\n",
      "Precision: 0.8459, Recall: 0.8312, F1-score: 0.8311\n"
     ]
    },
    {
     "name": "stderr",
     "output_type": "stream",
     "text": [
      "Epoch [9/50]: 100%|██████████| 450/450 [00:10<00:00, 41.51it/s, acc=89.1, loss=0.402] \n"
     ]
    },
    {
     "name": "stdout",
     "output_type": "stream",
     "text": [
      "Epoch [9/50] - Loss: 0.3176, Train Acc: 89.11%, Val Acc: 85.74%\n",
      "Precision: 0.8667, Recall: 0.8581, F1-score: 0.8585\n"
     ]
    },
    {
     "name": "stderr",
     "output_type": "stream",
     "text": [
      "Epoch [10/50]: 100%|██████████| 450/450 [00:10<00:00, 42.09it/s, acc=90.3, loss=0.587] \n"
     ]
    },
    {
     "name": "stdout",
     "output_type": "stream",
     "text": [
      "Epoch [10/50] - Loss: 0.2769, Train Acc: 90.27%, Val Acc: 88.14%\n",
      "Precision: 0.8829, Recall: 0.8805, F1-score: 0.8805\n"
     ]
    },
    {
     "name": "stderr",
     "output_type": "stream",
     "text": [
      "Epoch [11/50]: 100%|██████████| 450/450 [00:10<00:00, 41.69it/s, acc=91.5, loss=0.244] \n"
     ]
    },
    {
     "name": "stdout",
     "output_type": "stream",
     "text": [
      "Epoch [11/50] - Loss: 0.2437, Train Acc: 91.47%, Val Acc: 87.24%\n",
      "Precision: 0.8766, Recall: 0.8726, F1-score: 0.8690\n"
     ]
    },
    {
     "name": "stderr",
     "output_type": "stream",
     "text": [
      "Epoch [12/50]: 100%|██████████| 450/450 [00:10<00:00, 41.69it/s, acc=92.6, loss=0.196] \n"
     ]
    },
    {
     "name": "stdout",
     "output_type": "stream",
     "text": [
      "Epoch [12/50] - Loss: 0.2105, Train Acc: 92.58%, Val Acc: 87.51%\n",
      "Precision: 0.8814, Recall: 0.8744, F1-score: 0.8752\n"
     ]
    },
    {
     "name": "stderr",
     "output_type": "stream",
     "text": [
      "Epoch [13/50]: 100%|██████████| 450/450 [00:10<00:00, 41.94it/s, acc=93.4, loss=0.324] \n"
     ]
    },
    {
     "name": "stdout",
     "output_type": "stream",
     "text": [
      "Epoch [13/50] - Loss: 0.1819, Train Acc: 93.43%, Val Acc: 80.53%\n",
      "Precision: 0.8255, Recall: 0.8045, F1-score: 0.7968\n"
     ]
    },
    {
     "name": "stderr",
     "output_type": "stream",
     "text": [
      "Epoch [14/50]: 100%|██████████| 450/450 [00:10<00:00, 41.97it/s, acc=93.8, loss=0.225] \n"
     ]
    },
    {
     "name": "stdout",
     "output_type": "stream",
     "text": [
      "Epoch [14/50] - Loss: 0.1734, Train Acc: 93.80%, Val Acc: 88.64%\n",
      "Precision: 0.8895, Recall: 0.8861, F1-score: 0.8863\n"
     ]
    },
    {
     "name": "stderr",
     "output_type": "stream",
     "text": [
      "Epoch [15/50]: 100%|██████████| 450/450 [00:10<00:00, 41.26it/s, acc=95.1, loss=0.2]   \n"
     ]
    },
    {
     "name": "stdout",
     "output_type": "stream",
     "text": [
      "Epoch [15/50] - Loss: 0.1381, Train Acc: 95.11%, Val Acc: 88.74%\n",
      "Precision: 0.8889, Recall: 0.8871, F1-score: 0.8844\n"
     ]
    },
    {
     "name": "stderr",
     "output_type": "stream",
     "text": [
      "Epoch [16/50]: 100%|██████████| 450/450 [00:10<00:00, 42.36it/s, acc=95.6, loss=0.112] \n"
     ]
    },
    {
     "name": "stdout",
     "output_type": "stream",
     "text": [
      "Epoch [16/50] - Loss: 0.1258, Train Acc: 95.62%, Val Acc: 84.71%\n",
      "Precision: 0.8552, Recall: 0.8465, F1-score: 0.8438\n"
     ]
    },
    {
     "name": "stderr",
     "output_type": "stream",
     "text": [
      "Epoch [17/50]: 100%|██████████| 450/450 [00:10<00:00, 42.43it/s, acc=96, loss=0.28]    \n"
     ]
    },
    {
     "name": "stdout",
     "output_type": "stream",
     "text": [
      "Epoch [17/50] - Loss: 0.1117, Train Acc: 95.97%, Val Acc: 82.81%\n",
      "Precision: 0.8551, Recall: 0.8267, F1-score: 0.8263\n"
     ]
    },
    {
     "name": "stderr",
     "output_type": "stream",
     "text": [
      "Epoch [18/50]: 100%|██████████| 450/450 [00:10<00:00, 42.16it/s, acc=96.4, loss=0.156]  \n"
     ]
    },
    {
     "name": "stdout",
     "output_type": "stream",
     "text": [
      "Epoch [18/50] - Loss: 0.1013, Train Acc: 96.42%, Val Acc: 89.04%\n",
      "Precision: 0.8928, Recall: 0.8905, F1-score: 0.8882\n"
     ]
    },
    {
     "name": "stderr",
     "output_type": "stream",
     "text": [
      "Epoch [19/50]: 100%|██████████| 450/450 [00:10<00:00, 42.41it/s, acc=96.7, loss=0.0947] \n"
     ]
    },
    {
     "name": "stdout",
     "output_type": "stream",
     "text": [
      "Epoch [19/50] - Loss: 0.0940, Train Acc: 96.72%, Val Acc: 88.57%\n",
      "Precision: 0.8906, Recall: 0.8855, F1-score: 0.8837\n"
     ]
    },
    {
     "name": "stderr",
     "output_type": "stream",
     "text": [
      "Epoch [20/50]: 100%|██████████| 450/450 [00:10<00:00, 42.50it/s, acc=97.4, loss=0.0853] \n"
     ]
    },
    {
     "name": "stdout",
     "output_type": "stream",
     "text": [
      "Epoch [20/50] - Loss: 0.0784, Train Acc: 97.36%, Val Acc: 88.90%\n",
      "Precision: 0.8883, Recall: 0.8882, F1-score: 0.8875\n"
     ]
    },
    {
     "name": "stderr",
     "output_type": "stream",
     "text": [
      "Epoch [21/50]: 100%|██████████| 450/450 [00:10<00:00, 42.21it/s, acc=97.2, loss=0.0497] \n"
     ]
    },
    {
     "name": "stdout",
     "output_type": "stream",
     "text": [
      "Epoch [21/50] - Loss: 0.0845, Train Acc: 97.19%, Val Acc: 89.99%\n",
      "Precision: 0.8998, Recall: 0.8995, F1-score: 0.8992\n"
     ]
    },
    {
     "name": "stderr",
     "output_type": "stream",
     "text": [
      "Epoch [22/50]: 100%|██████████| 450/450 [00:10<00:00, 42.59it/s, acc=97.8, loss=0.0734] \n"
     ]
    },
    {
     "name": "stdout",
     "output_type": "stream",
     "text": [
      "Epoch [22/50] - Loss: 0.0652, Train Acc: 97.81%, Val Acc: 87.33%\n",
      "Precision: 0.8815, Recall: 0.8721, F1-score: 0.8734\n"
     ]
    },
    {
     "name": "stderr",
     "output_type": "stream",
     "text": [
      "Epoch [23/50]: 100%|██████████| 450/450 [00:10<00:00, 42.74it/s, acc=97.6, loss=0.113]  \n"
     ]
    },
    {
     "name": "stdout",
     "output_type": "stream",
     "text": [
      "Epoch [23/50] - Loss: 0.0731, Train Acc: 97.61%, Val Acc: 87.97%\n",
      "Precision: 0.8840, Recall: 0.8798, F1-score: 0.8797\n"
     ]
    },
    {
     "name": "stderr",
     "output_type": "stream",
     "text": [
      "Epoch [24/50]: 100%|██████████| 450/450 [00:10<00:00, 41.96it/s, acc=98.1, loss=0.0743] \n"
     ]
    },
    {
     "name": "stdout",
     "output_type": "stream",
     "text": [
      "Epoch [24/50] - Loss: 0.0559, Train Acc: 98.10%, Val Acc: 90.04%\n",
      "Precision: 0.9014, Recall: 0.8997, F1-score: 0.8997\n"
     ]
    },
    {
     "name": "stderr",
     "output_type": "stream",
     "text": [
      "Epoch [25/50]: 100%|██████████| 450/450 [00:10<00:00, 42.13it/s, acc=97.7, loss=0.126]   \n"
     ]
    },
    {
     "name": "stdout",
     "output_type": "stream",
     "text": [
      "Epoch [25/50] - Loss: 0.0669, Train Acc: 97.73%, Val Acc: 88.97%\n",
      "Precision: 0.8931, Recall: 0.8897, F1-score: 0.8903\n"
     ]
    },
    {
     "name": "stderr",
     "output_type": "stream",
     "text": [
      "Epoch [26/50]: 100%|██████████| 450/450 [00:10<00:00, 41.19it/s, acc=97.8, loss=0.0816] \n"
     ]
    },
    {
     "name": "stdout",
     "output_type": "stream",
     "text": [
      "Epoch [26/50] - Loss: 0.0679, Train Acc: 97.82%, Val Acc: 89.40%\n",
      "Precision: 0.8941, Recall: 0.8934, F1-score: 0.8920\n"
     ]
    },
    {
     "name": "stderr",
     "output_type": "stream",
     "text": [
      "Epoch [27/50]: 100%|██████████| 450/450 [00:10<00:00, 41.59it/s, acc=98.2, loss=0.0883]  \n"
     ]
    },
    {
     "name": "stdout",
     "output_type": "stream",
     "text": [
      "Epoch [27/50] - Loss: 0.0551, Train Acc: 98.20%, Val Acc: 87.99%\n",
      "Precision: 0.8919, Recall: 0.8783, F1-score: 0.8807\n"
     ]
    },
    {
     "name": "stderr",
     "output_type": "stream",
     "text": [
      "Epoch [28/50]: 100%|██████████| 450/450 [00:10<00:00, 42.26it/s, acc=98.5, loss=0.0238]  \n"
     ]
    },
    {
     "name": "stdout",
     "output_type": "stream",
     "text": [
      "Epoch [28/50] - Loss: 0.0487, Train Acc: 98.47%, Val Acc: 88.68%\n",
      "Precision: 0.8894, Recall: 0.8856, F1-score: 0.8861\n"
     ]
    },
    {
     "name": "stderr",
     "output_type": "stream",
     "text": [
      "Epoch [29/50]: 100%|██████████| 450/450 [00:10<00:00, 42.03it/s, acc=98.3, loss=0.0119]  \n"
     ]
    },
    {
     "name": "stdout",
     "output_type": "stream",
     "text": [
      "Epoch [29/50] - Loss: 0.0502, Train Acc: 98.31%, Val Acc: 88.82%\n",
      "Precision: 0.8884, Recall: 0.8882, F1-score: 0.8859\n"
     ]
    },
    {
     "name": "stderr",
     "output_type": "stream",
     "text": [
      "Epoch [30/50]: 100%|██████████| 450/450 [00:10<00:00, 41.65it/s, acc=98.2, loss=0.0758] \n"
     ]
    },
    {
     "name": "stdout",
     "output_type": "stream",
     "text": [
      "Epoch [30/50] - Loss: 0.0551, Train Acc: 98.20%, Val Acc: 88.26%\n",
      "Precision: 0.8917, Recall: 0.8821, F1-score: 0.8836\n"
     ]
    },
    {
     "name": "stderr",
     "output_type": "stream",
     "text": [
      "Epoch [31/50]: 100%|██████████| 450/450 [00:10<00:00, 42.41it/s, acc=98.2, loss=0.015]   \n"
     ]
    },
    {
     "name": "stdout",
     "output_type": "stream",
     "text": [
      "Epoch [31/50] - Loss: 0.0558, Train Acc: 98.19%, Val Acc: 89.68%\n",
      "Precision: 0.8981, Recall: 0.8965, F1-score: 0.8963\n"
     ]
    },
    {
     "name": "stderr",
     "output_type": "stream",
     "text": [
      "Epoch [32/50]: 100%|██████████| 450/450 [00:10<00:00, 42.01it/s, acc=98.8, loss=0.0154]  \n"
     ]
    },
    {
     "name": "stdout",
     "output_type": "stream",
     "text": [
      "Epoch [32/50] - Loss: 0.0370, Train Acc: 98.78%, Val Acc: 89.90%\n",
      "Precision: 0.9003, Recall: 0.8981, F1-score: 0.8983\n"
     ]
    },
    {
     "name": "stderr",
     "output_type": "stream",
     "text": [
      "Epoch [33/50]: 100%|██████████| 450/450 [00:10<00:00, 42.36it/s, acc=98.4, loss=0.0795]  \n"
     ]
    },
    {
     "name": "stdout",
     "output_type": "stream",
     "text": [
      "Epoch [33/50] - Loss: 0.0536, Train Acc: 98.38%, Val Acc: 88.86%\n",
      "Precision: 0.8904, Recall: 0.8877, F1-score: 0.8868\n"
     ]
    },
    {
     "name": "stderr",
     "output_type": "stream",
     "text": [
      "Epoch [34/50]: 100%|██████████| 450/450 [00:10<00:00, 42.21it/s, acc=98.7, loss=0.0933]  \n"
     ]
    },
    {
     "name": "stdout",
     "output_type": "stream",
     "text": [
      "Epoch [34/50] - Loss: 0.0419, Train Acc: 98.69%, Val Acc: 88.01%\n",
      "Precision: 0.8857, Recall: 0.8797, F1-score: 0.8803\n"
     ]
    },
    {
     "name": "stderr",
     "output_type": "stream",
     "text": [
      "Epoch [35/50]: 100%|██████████| 450/450 [00:10<00:00, 42.26it/s, acc=98.7, loss=0.00403] \n"
     ]
    },
    {
     "name": "stdout",
     "output_type": "stream",
     "text": [
      "Epoch [35/50] - Loss: 0.0428, Train Acc: 98.67%, Val Acc: 89.69%\n",
      "Precision: 0.8977, Recall: 0.8965, F1-score: 0.8963\n"
     ]
    },
    {
     "name": "stderr",
     "output_type": "stream",
     "text": [
      "Epoch [36/50]: 100%|██████████| 450/450 [00:10<00:00, 42.21it/s, acc=98.4, loss=0.0258]  \n"
     ]
    },
    {
     "name": "stdout",
     "output_type": "stream",
     "text": [
      "Epoch [36/50] - Loss: 0.0516, Train Acc: 98.43%, Val Acc: 89.19%\n",
      "Precision: 0.8962, Recall: 0.8908, F1-score: 0.8919\n"
     ]
    },
    {
     "name": "stderr",
     "output_type": "stream",
     "text": [
      "Epoch [37/50]: 100%|██████████| 450/450 [00:10<00:00, 42.39it/s, acc=98.9, loss=0.000495]\n"
     ]
    },
    {
     "name": "stdout",
     "output_type": "stream",
     "text": [
      "Epoch [37/50] - Loss: 0.0356, Train Acc: 98.88%, Val Acc: 89.86%\n",
      "Precision: 0.9007, Recall: 0.8978, F1-score: 0.8983\n"
     ]
    },
    {
     "name": "stderr",
     "output_type": "stream",
     "text": [
      "Epoch [38/50]: 100%|██████████| 450/450 [00:10<00:00, 41.88it/s, acc=98.8, loss=0.00949] \n"
     ]
    },
    {
     "name": "stdout",
     "output_type": "stream",
     "text": [
      "Epoch [38/50] - Loss: 0.0396, Train Acc: 98.84%, Val Acc: 89.39%\n",
      "Precision: 0.8946, Recall: 0.8933, F1-score: 0.8928\n"
     ]
    },
    {
     "name": "stderr",
     "output_type": "stream",
     "text": [
      "Epoch [39/50]: 100%|██████████| 450/450 [00:10<00:00, 42.31it/s, acc=98.7, loss=0.00048] \n"
     ]
    },
    {
     "name": "stdout",
     "output_type": "stream",
     "text": [
      "Epoch [39/50] - Loss: 0.0450, Train Acc: 98.66%, Val Acc: 89.15%\n",
      "Precision: 0.8954, Recall: 0.8910, F1-score: 0.8914\n"
     ]
    },
    {
     "name": "stderr",
     "output_type": "stream",
     "text": [
      "Epoch [40/50]: 100%|██████████| 450/450 [00:10<00:00, 42.25it/s, acc=98.9, loss=0.00348] \n"
     ]
    },
    {
     "name": "stdout",
     "output_type": "stream",
     "text": [
      "Epoch [40/50] - Loss: 0.0378, Train Acc: 98.86%, Val Acc: 89.03%\n",
      "Precision: 0.8893, Recall: 0.8899, F1-score: 0.8882\n"
     ]
    },
    {
     "name": "stderr",
     "output_type": "stream",
     "text": [
      "Epoch [41/50]: 100%|██████████| 450/450 [00:10<00:00, 41.95it/s, acc=98.8, loss=0.00132] \n"
     ]
    },
    {
     "name": "stdout",
     "output_type": "stream",
     "text": [
      "Epoch [41/50] - Loss: 0.0415, Train Acc: 98.76%, Val Acc: 89.18%\n",
      "Precision: 0.8934, Recall: 0.8913, F1-score: 0.8911\n"
     ]
    },
    {
     "name": "stderr",
     "output_type": "stream",
     "text": [
      "Epoch [42/50]: 100%|██████████| 450/450 [00:10<00:00, 42.31it/s, acc=99, loss=0.0259]    \n"
     ]
    },
    {
     "name": "stdout",
     "output_type": "stream",
     "text": [
      "Epoch [42/50] - Loss: 0.0322, Train Acc: 99.01%, Val Acc: 89.90%\n",
      "Precision: 0.8980, Recall: 0.8987, F1-score: 0.8978\n"
     ]
    },
    {
     "name": "stderr",
     "output_type": "stream",
     "text": [
      "Epoch [43/50]: 100%|██████████| 450/450 [00:10<00:00, 42.48it/s, acc=98.8, loss=0.00859] \n"
     ]
    },
    {
     "name": "stdout",
     "output_type": "stream",
     "text": [
      "Epoch [43/50] - Loss: 0.0435, Train Acc: 98.75%, Val Acc: 89.43%\n",
      "Precision: 0.8987, Recall: 0.8941, F1-score: 0.8952\n"
     ]
    },
    {
     "name": "stderr",
     "output_type": "stream",
     "text": [
      "Epoch [44/50]: 100%|██████████| 450/450 [00:10<00:00, 42.28it/s, acc=99.1, loss=9.9e-5]  \n"
     ]
    },
    {
     "name": "stdout",
     "output_type": "stream",
     "text": [
      "Epoch [44/50] - Loss: 0.0298, Train Acc: 99.15%, Val Acc: 90.15%\n",
      "Precision: 0.9020, Recall: 0.9014, F1-score: 0.9012\n"
     ]
    },
    {
     "name": "stderr",
     "output_type": "stream",
     "text": [
      "Epoch [45/50]: 100%|██████████| 450/450 [00:10<00:00, 42.09it/s, acc=98.6, loss=0.0395]  \n"
     ]
    },
    {
     "name": "stdout",
     "output_type": "stream",
     "text": [
      "Epoch [45/50] - Loss: 0.0478, Train Acc: 98.62%, Val Acc: 87.96%\n",
      "Precision: 0.8891, Recall: 0.8786, F1-score: 0.8812\n"
     ]
    },
    {
     "name": "stderr",
     "output_type": "stream",
     "text": [
      "Epoch [46/50]: 100%|██████████| 450/450 [00:10<00:00, 42.54it/s, acc=99, loss=0.0322]    \n"
     ]
    },
    {
     "name": "stdout",
     "output_type": "stream",
     "text": [
      "Epoch [46/50] - Loss: 0.0350, Train Acc: 98.99%, Val Acc: 87.58%\n",
      "Precision: 0.8894, Recall: 0.8760, F1-score: 0.8781\n"
     ]
    },
    {
     "name": "stderr",
     "output_type": "stream",
     "text": [
      "Epoch [47/50]: 100%|██████████| 450/450 [00:10<00:00, 41.69it/s, acc=98.9, loss=0.161]   \n"
     ]
    },
    {
     "name": "stdout",
     "output_type": "stream",
     "text": [
      "Epoch [47/50] - Loss: 0.0357, Train Acc: 98.94%, Val Acc: 88.62%\n",
      "Precision: 0.8976, Recall: 0.8845, F1-score: 0.8870\n"
     ]
    },
    {
     "name": "stderr",
     "output_type": "stream",
     "text": [
      "Epoch [48/50]: 100%|██████████| 450/450 [00:10<00:00, 41.62it/s, acc=99.1, loss=0.0699]  \n"
     ]
    },
    {
     "name": "stdout",
     "output_type": "stream",
     "text": [
      "Epoch [48/50] - Loss: 0.0280, Train Acc: 99.11%, Val Acc: 89.33%\n",
      "Precision: 0.8942, Recall: 0.8929, F1-score: 0.8930\n"
     ]
    },
    {
     "name": "stderr",
     "output_type": "stream",
     "text": [
      "Epoch [49/50]: 100%|██████████| 450/450 [00:10<00:00, 41.50it/s, acc=98.9, loss=0.0252]  \n"
     ]
    },
    {
     "name": "stdout",
     "output_type": "stream",
     "text": [
      "Epoch [49/50] - Loss: 0.0369, Train Acc: 98.95%, Val Acc: 89.65%\n",
      "Precision: 0.8977, Recall: 0.8963, F1-score: 0.8959\n"
     ]
    },
    {
     "name": "stderr",
     "output_type": "stream",
     "text": [
      "Epoch [50/50]: 100%|██████████| 450/450 [00:10<00:00, 41.97it/s, acc=98.8, loss=0.000632]\n"
     ]
    },
    {
     "name": "stdout",
     "output_type": "stream",
     "text": [
      "Epoch [50/50] - Loss: 0.0421, Train Acc: 98.79%, Val Acc: 88.86%\n",
      "Precision: 0.8903, Recall: 0.8885, F1-score: 0.8872\n",
      "Training Complete!\n"
     ]
    }
   ],
   "source": [
    "# training \n",
    "num_epochs = 50\n",
    "for epoch in range(num_epochs):\n",
    "    model.train()\n",
    "    running_loss = 0.0\n",
    "    correct = 0\n",
    "    total = 0\n",
    "\n",
    "    loop = tqdm(train_loader, leave=True)\n",
    "    for inputs, labels in loop:\n",
    "        inputs, labels = inputs.to(device), labels.to(device)\n",
    "\n",
    "        optimizer.zero_grad()\n",
    "        outputs = model(inputs)\n",
    "        loss = criterion(outputs, labels)\n",
    "        loss.backward()\n",
    "        optimizer.step()\n",
    "\n",
    "        # tracking loss\n",
    "        running_loss += loss.item()\n",
    "\n",
    "        # compute accuracy\n",
    "        _, predicted = torch.max(outputs, 1)\n",
    "        correct += (predicted == labels).sum().item()\n",
    "        total += labels.size(0)\n",
    "\n",
    "        # progress bar \n",
    "        loop.set_description(f\"Epoch [{epoch+1}/{num_epochs}]\")\n",
    "        loop.set_postfix(loss=loss.item(), acc=100 * correct / total)\n",
    "\n",
    "    # store metrics\n",
    "    train_losses.append(running_loss / len(train_loader))\n",
    "    train_accuracies.append(100 * correct / total)\n",
    "\n",
    "    # validation \n",
    "    model.eval()\n",
    "    val_correct = 0\n",
    "    val_total = 0\n",
    "    y_true = []\n",
    "    y_pred = []\n",
    "\n",
    "    with torch.no_grad():\n",
    "        for inputs, labels in val_loader:\n",
    "            inputs, labels = inputs.to(device), labels.to(device)\n",
    "            outputs = model(inputs)\n",
    "\n",
    "            _, predicted = torch.max(outputs, 1)\n",
    "            val_correct += (predicted == labels).sum().item()\n",
    "            val_total += labels.size(0)\n",
    "\n",
    "            # store true and predicted labels for metrics\n",
    "            y_true.extend(labels.cpu().numpy())\n",
    "            y_pred.extend(predicted.cpu().numpy())\n",
    "\n",
    "    val_accuracy = 100 * val_correct / val_total\n",
    "    val_accuracies.append(val_accuracy)\n",
    "\n",
    "    # calc precision, recall, f1\n",
    "    precision, recall, f1, _ = precision_recall_fscore_support(y_true, y_pred, average=\"macro\")\n",
    "\n",
    "    print(f\"Epoch [{epoch+1}/{num_epochs}] - Loss: {train_losses[-1]:.4f}, Train Acc: {train_accuracies[-1]:.2f}%, Val Acc: {val_accuracy:.2f}%\")\n",
    "    print(f\"Precision: {precision:.4f}, Recall: {recall:.4f}, F1-score: {f1:.4f}\")\n",
    "\n",
    "print(\"Training Complete!\")"
   ]
  },
  {
   "cell_type": "code",
   "execution_count": 60,
   "metadata": {},
   "outputs": [
    {
     "data": {
      "image/png": "[encoded data removed]",
      "text/plain": [
       "<Figure size 640x480 with 2 Axes>"
      ]
     },
     "metadata": {},
     "output_type": "display_data"
    }
   ],
   "source": [
    "# plotting the loss and accuracy\n",
    "fig, ax1 = plt.subplots()\n",
    "\n",
    "ax1.set_xlabel(\"Epoch\")\n",
    "ax1.set_ylabel(\"Loss\", color=\"tab:red\")\n",
    "ax1.plot(range(1, num_epochs + 1), train_losses, label=\"Training Loss\", color=\"tab:red\")\n",
    "ax1.tick_params(axis=\"y\", labelcolor=\"tab:red\")\n",
    "\n",
    "ax2 = ax1.twinx()\n",
    "ax2.set_ylabel(\"Accuracy (%)\", color=\"tab:blue\")\n",
    "ax2.plot(range(1, num_epochs + 1), train_accuracies, label=\"Train Acc\", linestyle=\"--\", color=\"tab:blue\")\n",
    "ax2.plot(range(1, num_epochs + 1), val_accuracies, label=\"Val Acc\", linestyle=\":\", color=\"tab:green\")\n",
    "ax2.tick_params(axis=\"y\", labelcolor=\"tab:blue\")\n",
    "\n",
    "fig.tight_layout()\n",
    "plt.title(\"Training Loss & Accuracy\")\n",
    "plt.legend()\n",
    "plt.show()"
   ]
  },
  {
   "cell_type": "code",
   "execution_count": 61,
   "metadata": {},
   "outputs": [],
   "source": [
    "# saving model down to a pkl file\n",
    "#torch.save(model.state_dict(), \"quick_draw_model.pth\")"
   ]
  },
  {
   "cell_type": "code",
   "execution_count": null,
   "metadata": {},
   "outputs": [],
   "source": []
  }
 ],
 "metadata": {
  "kernelspec": {
   "display_name": "torch",
   "language": "python",
   "name": "python3"
  },
  "language_info": {
   "codemirror_mode": {
    "name": "ipython",
    "version": 3
   },
   "file_extension": ".py",
   "mimetype": "text/x-python",
   "name": "python",
   "nbconvert_exporter": "python",
   "pygments_lexer": "ipython3",
   "version": "3.8.19"
  }
 },
 "nbformat": 4,
 "nbformat_minor": 2
}
