{
 "cells": [
  {
   "cell_type": "markdown",
   "metadata": {},
   "source": [
    "Organizing and Labeling\n",
    "- Splitting each class's images into 80% train and 90% validation\n",
    "- Flattening images into train/images and validation/images\n",
    "- Creating YOLO labels (YOLO txt files) for the images in both training and validation sets\n",
    "- Generating YAML file "
   ]
  },
  {
   "cell_type": "code",
   "execution_count": null,
   "metadata": {},
   "outputs": [],
   "source": [
    "import os\n",
    "import shutil\n",
    "import random \n",
    "from glob import glob\n",
    "from tqdm import tqdm\n",
    "from ultralytics import YOLO\n",
    "import torch\n",
    "import cv2\n",
    "import matplotlib.pyplot as plt\n",
    "import pandas as pd"
   ]
  },
  {
   "cell_type": "code",
   "execution_count": null,
   "metadata": {},
   "outputs": [],
   "source": [
    "\n",
    "# Specifying locations for data:\n",
    "\n",
    "doodle_data = r\"C:\\MSAAI\\AAI-590\\Capstone-Local\\Data\"\n",
    "dataset_directory = r\"C:\\MSAAI\\AAI-590\\Capstone-Local\"\n",
    "train_image_directory = os.path.join(dataset_directory, \"train\", \"images\")\n",
    "train_label_directory = os.path.join(dataset_directory, \"train\", \"labels\")\n",
    "validation_image_directory = os.path.join(dataset_directory, \"validation\", \"images\")\n",
    "validation_label_directory = os.path.join(dataset_directory, \"validation\", \"labels\")\n",
    "\n",
    "# creating directories for the train and validation sets and their labels:\n",
    "\n",
    "os.makedirs(train_image_directory, exist_ok=True)\n",
    "os.makedirs(train_label_directory, exist_ok=True)\n",
    "os.makedirs(validation_image_directory, exist_ok=True)\n",
    "os.makedirs(validation_label_directory, exist_ok=True)"
   ]
  },
  {
   "cell_type": "code",
   "execution_count": null,
   "metadata": {},
   "outputs": [],
   "source": [
    "# defining classes\n",
    "\n",
    "classes = [\n",
    "    \"campfire\",\n",
    "    \"cloud\",\n",
    "    \"firetruck\",\n",
    "    \"helicopter\",\n",
    "    \"hospital\",\n",
    "    \"mountain\",\n",
    "    \"skull\",\n",
    "    \"skyscraper\",\n",
    "    \"tractor\",\n",
    "    \"traffic light\",\n",
    "    \"tree\",\n",
    "    \"van\"\n",
    "]"
   ]
  },
  {
   "cell_type": "code",
   "execution_count": null,
   "metadata": {},
   "outputs": [],
   "source": [
    "#\n",
    "\n",
    "for class_id, class_name in enumerate(classes):\n",
    "    class_folder = os.path.join(doodle_data, class_name)\n",
    "    if not os.path.isdir(class_folder):\n",
    "        print(f\"Warning: Folder not found for class '{class_name}'\")\n",
    "        continue\n",
    "\n",
    "    images = glob(os.path.join(class_folder, \"*.png\"))\n",
    "    print (f\"Found {len(images)} images for class '{class_name}'\")\n",
    "\n",
    "    random.shuffle(images)\n",
    "\n",
    "    split_index = int(0.8 * len(images))\n",
    "    train_images = images[:split_index]\n",
    "    validation_images = images[split_index:]\n",
    "\n",
    "    for image_path in train_images:\n",
    "        filename = os.path.basename(image_path)\n",
    "        base, _ = os.path.splitext(filename)\n",
    "\n",
    "        dest_img = os.path.join(train_image_directory, filename)\n",
    "        shutil.copy2(image_path, dest_img)\n",
    "\n",
    "        label_path = os.path.join(train_label_directory, f\"{base}.txt\")\n",
    "        with open(label_path, \"w\") as f:\n",
    "            f.write(f\"{class_id} 0.5 0.5 1 1\\n\")\n",
    "\n",
    "    for image_path in validation_images:\n",
    "        filename = os.path.basename(image_path)\n",
    "        base, _ = os.path.splitext(filename)\n",
    "\n",
    "        # Copy image to val/images\n",
    "        dest_img = os.path.join(validation_image_directory, filename)\n",
    "        shutil.copy2(image_path, dest_img)\n",
    "\n",
    "        # Create YOLO label\n",
    "        label_path = os.path.join(validation_label_directory, f\"{base}.txt\")\n",
    "        with open(label_path, \"w\") as f:\n",
    "            f.write(f\"{class_id} 0.5 0.5 1 1\\n\")\n",
    "\n",
    "print(\"Dataset split & YOLO labeling complete!\")\n",
    "\n"
   ]
  },
  {
   "cell_type": "code",
   "execution_count": null,
   "metadata": {},
   "outputs": [],
   "source": [
    "# Creating YAML file:\n",
    "\n",
    "yaml_path = os.path.join(dataset_directory, \"data.yaml\")\n",
    "with open(yaml_path, \"w\") as f:\n",
    "    f.write(\n",
    "        f\"train: {os.path.join(dataset_directory, 'train', 'images')}\\n\"\n",
    "        f\"val: {os.path.join(dataset_directory, 'validation', 'images')}\\n\\n\"\n",
    "        f\"nc: {len(classes)}\\n\"\n",
    "        f\"names: {classes}\\n\"\n",
    "    )\n",
    "\n",
    "print(f\"data.yaml created at: {yaml_path}\")"
   ]
  },
  {
   "cell_type": "markdown",
   "metadata": {},
   "source": [
    "Check if your labels are formatted correctly for YOLO"
   ]
  },
  {
   "cell_type": "code",
   "execution_count": null,
   "metadata": {},
   "outputs": [],
   "source": [
    "def check_and_normalize_yolo_labels(label_dir, image_width=640, image_height=640):\n",
    "    print(f\"\\nChecking and normalizing: {label_dir}\")\n",
    "    \n",
    "    txt_files = [f for f in os.listdir(label_dir) if f.endswith(\".txt\")]\n",
    "    \n",
    "    for file in tqdm(txt_files, desc=f\"Processing {os.path.basename(label_dir)}\", unit=\"file\"):\n",
    "        path = os.path.join(label_dir, file)\n",
    "        with open(path, \"r\") as f:\n",
    "            lines = f.readlines()\n",
    "\n",
    "        fixed_lines = []\n",
    "        needs_fix = False\n",
    "\n",
    "        for line in lines:\n",
    "            parts = line.strip().split()\n",
    "            if len(parts) != 5:\n",
    "                print(f\"Invalid line in {file}: {line.strip()}\")\n",
    "                continue\n",
    "\n",
    "            try:\n",
    "                cls = int(parts[0])\n",
    "                coords = list(map(float, parts[1:]))\n",
    "            except ValueError:\n",
    "                print(f\"Non-numeric values in {file}: {line.strip()}\")\n",
    "                continue\n",
    "\n",
    "            # Check if normalization is needed\n",
    "            if any(val > 1.0 for val in coords):\n",
    "                needs_fix = True\n",
    "                x, y, w, h = coords\n",
    "                x /= image_width\n",
    "                y /= image_height\n",
    "                w /= image_width\n",
    "                h /= image_height\n",
    "                coords = [x, y, w, h]\n",
    "\n",
    "            fixed_line = f\"{cls} {' '.join(f'{v:.6f}' for v in coords)}\"\n",
    "            fixed_lines.append(fixed_line)\n",
    "\n",
    "        if needs_fix:\n",
    "            with open(path, \"w\") as f:\n",
    "                f.write(\"\\n\".join(fixed_lines) + \"\\n\")\n",
    "\n",
    "    print(f\"Completed: {label_dir}\\n\")\n"
   ]
  },
  {
   "cell_type": "code",
   "execution_count": null,
   "metadata": {},
   "outputs": [],
   "source": [
    "check_and_normalize_yolo_labels(\"yolo_dataset/labels/test\")"
   ]
  },
  {
   "cell_type": "code",
   "execution_count": null,
   "metadata": {},
   "outputs": [],
   "source": [
    "check_and_normalize_yolo_labels(\"yolo_dataset/labels/validation\")"
   ]
  },
  {
   "cell_type": "code",
   "execution_count": null,
   "metadata": {},
   "outputs": [],
   "source": [
    "check_and_normalize_yolo_labels(\"yolo_dataset/labels/train\")"
   ]
  },
  {
   "cell_type": "markdown",
   "metadata": {},
   "source": [
    "Training the YOLO Model "
   ]
  },
  {
   "cell_type": "code",
   "execution_count": null,
   "metadata": {},
   "outputs": [],
   "source": [
    "device = torch.device('cuda') if torch.cuda.is_available() else torch.device('cpu')\n",
    "print(f'Using: {device}')"
   ]
  },
  {
   "cell_type": "markdown",
   "metadata": {},
   "source": [
    "## 📊 Experiment Log\n",
    "\n",
    "| Run | Model     | Epochs | Batch | Image Size | Notes                         | mAP@50  | mAP@50-95 |\n",
    "|-----|-----------|--------|-------|------------|-------------------------------|---------|-----------|\n",
    "| 1   | yolov8n   | 25     | 16    | 640        | Baseline run with fixed labels| 0.00145 | 0.00039   |\n",
    "| 2   | yolov8n   | 50     | 16    | 640        | More epochs                   | 0. | 0.   |\n"
   ]
  },
  {
   "cell_type": "code",
   "execution_count": null,
   "metadata": {},
   "outputs": [],
   "source": [
    "# model training configs\n",
    "\n",
    "model_size = 'yolov8n.pt'   # or yolov8s.pt for a slightly larger model\n",
    "epochs = 25                 # increase for better results\n",
    "batch_size = 32             # increase to stabilize gradients if your GPU can handle it\n",
    "imgsz = 640                 # match your image size if you prefer (or 128 for speed)\n",
    "cache = True\n",
    "\n",
    "# increase for faster data loading speed\n",
    "# make sure your system has enough ram to use 2 workers (32GB)\n",
    "# otherwise the training will crash\n",
    "num_workers = 2"
   ]
  },
  {
   "cell_type": "code",
   "execution_count": null,
   "metadata": {},
   "outputs": [],
   "source": [
    "model = YOLO(f\"models/{model_size}\")\n",
    "\n",
    "model.train(\n",
    "    project=\"dominic_yolo_runs\",\n",
    "    name=\"finetuned_model\",\n",
    "    data=\"yolo_dataset/data.yaml\",\n",
    "    device=device,\n",
    "    epochs=epochs,\n",
    "    imgsz=imgsz,\n",
    "    batch=batch_size,\n",
    "    lr0=0.01,                   # base learning rate\n",
    "    optimizer='SGD',            # or 'Adam'\n",
    "    exist_ok=True,\n",
    "    workers=num_workers,        # parallel data loading\n",
    "    cache=cache,                # speeds up subsequent epochs\n",
    "    plots=True,                 # False --> skips image generation, saving time on training\n",
    "    verbose=False               # turn off logging\n",
    ")"
   ]
  },
  {
   "cell_type": "markdown",
   "metadata": {},
   "source": [
    "Testing on"
   ]
  },
  {
   "cell_type": "code",
   "execution_count": null,
   "metadata": {},
   "outputs": [],
   "source": [
    "# Load your trained YOLO model using the best checkpoint\n",
    "# model = YOLO(\"c:/Users/gabri/runs/detect/train17/weights/best.pt\")\n",
    "model = YOLO(\"dominic_yolo_runs/finetuned_model/weights/best.pt\")\n",
    "\n",
    "# Path to your synthetic test image (640x640 pixels with multiple doodles)\n",
    "test_image_path = r\"image_0016.png\""
   ]
  },
  {
   "cell_type": "code",
   "execution_count": null,
   "metadata": {},
   "outputs": [],
   "source": [
    "# Run inference on the test image\n",
    "results = model.predict(source=test_image_path, imgsz=640, conf=0.25)\n",
    "\n",
    "# Get the image with the bounding boxes drawn\n",
    "image_with_boxes = results[0].plot()\n",
    "\n",
    "# Display the image using matplotlib\n",
    "plt.figure(figsize=(8, 8))\n",
    "plt.imshow(cv2.cvtColor(image_with_boxes, cv2.COLOR_BGR2RGB))\n",
    "plt.title(\"Synthetic Data Inference Result\")\n",
    "plt.axis(\"off\")\n",
    "plt.show()"
   ]
  },
  {
   "cell_type": "code",
   "execution_count": null,
   "metadata": {},
   "outputs": [],
   "source": [
    "model = YOLO(\"dominic_yolo_runs/finetuned_model/weights/best.pt\")\n",
    "\n",
    "test_image_path = \"image_0016.png\"  # Adjust path if needed\n",
    "\n",
    "results = model.predict(source=test_image_path, imgsz=640, conf=0.25)\n",
    "\n",
    "if len(results) == 0:\n",
    "    print(\"No results returned by the model.\")\n",
    "else:\n",
    "    print(f\"Predictions found: {results[0].names}\")\n",
    "\n",
    "    # draw boxes\n",
    "    output_img = results[0].plot()\n",
    "\n",
    "    if output_img is None or output_img.size == 0:\n",
    "        print(\"Output image is empty.\")\n",
    "    else:\n",
    "        # save output image\n",
    "        output_path = 'outputs/images/yolov8_inference_output.png'\n",
    "        cv2.imwrite(output_path, output_img)\n",
    "        print(f'Output image saved to: {output_path}')"
   ]
  },
  {
   "cell_type": "markdown",
   "metadata": {},
   "source": [
    "Automated Tuning\n",
    "\n",
    "\n",
    "Currently taking a long time for automated turning, so manual tuning is required! See code above with markdown cell to keep track of hyperparameter changes."
   ]
  },
  {
   "cell_type": "code",
   "execution_count": null,
   "metadata": {},
   "outputs": [],
   "source": [
    "# automated hyperparameter turning\n",
    "results = model.tune(\n",
    "    data='yolo_dataset/data.yaml',\n",
    "    epochs=50,\n",
    "    iterations=25,\n",
    "    batch=32,\n",
    "    imgsz=416,\n",
    "    plots=False,\n",
    "    save=True,\n",
    "    patience=10         # early stopping\n",
    ")"
   ]
  },
  {
   "cell_type": "code",
   "execution_count": null,
   "metadata": {},
   "outputs": [],
   "source": [
    "tune_results = results.tune_results\n",
    "df = pd.DataFrame(tune_results)\n",
    "df = df.sort_values(by='metrics/mAP50(B)', ascending=False)\n",
    "\n",
    "from datetime import datetime\n",
    "timestamp = datetime.now().strftime('%Y-%m-%d_%H-%M-%S')\n",
    "csv_path = f'tuning_results_{timestamp}.csv'\n",
    "df.to_csv(csv_path, index=False)\n",
    "\n",
    "print('Tuning results saved to {csv_path}')\n",
    "df.head()"
   ]
  },
  {
   "cell_type": "code",
   "execution_count": null,
   "metadata": {},
   "outputs": [],
   "source": [
    "best_run_dir = results.best_result.get('save_dir', None)\n",
    "\n",
    "if best_run_dir and os.path.exists(best_run_dir):\n",
    "    zip_name = f\"best_yolo_run_{timestamp}\"\n",
    "    zip_path = shutil.make_archive(zip_name, 'zip', best_run_dir)\n",
    "    print(f\"Best model zipped to: {zip_path}\")\n",
    "else:\n",
    "    print(\"Best run directory not found. Skipping zip.\")"
   ]
  }
 ],
 "metadata": {
  "kernelspec": {
   "display_name": "Python 3",
   "language": "python",
   "name": "python3"
  },
  "language_info": {
   "codemirror_mode": {
    "name": "ipython",
    "version": 3
   },
   "file_extension": ".py",
   "mimetype": "text/x-python",
   "name": "python",
   "nbconvert_exporter": "python",
   "pygments_lexer": "ipython3",
   "version": "3.10.2"
  }
 },
 "nbformat": 4,
 "nbformat_minor": 2
}
