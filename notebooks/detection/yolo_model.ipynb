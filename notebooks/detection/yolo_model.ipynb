{
 "cells": [
  {
   "cell_type": "code",
   "execution_count": null,
   "metadata": {},
   "outputs": [],
   "source": [
    "!pip install ultralytics --quiet\n",
    "!pip install tqdm --quiet"
   ]
  },
  {
   "cell_type": "markdown",
   "metadata": {},
   "source": [
    "#### This notebook is desgined to be used with the following folders/files:\n",
    "- yolo_dataset/images/\n",
    "- yolo_dataset/labels/test/\n",
    "- yolo_dataset/labels/train/\n",
    "- yolo_dataset/labels/validation/\n",
    "- yolo_dataset/data.yaml\n",
    "- <del>ValidData/valid_df.csv\n",
    "\n",
    "which can be found here --> Capstone Drive [link](https://drive.google.com/drive/folders/1PDhYnGtgJ2uIekZMpIevll753sodh9Th)"
   ]
  },
  {
   "cell_type": "code",
   "execution_count": 2,
   "metadata": {},
   "outputs": [],
   "source": [
    "import torch\n",
    "import os\n",
    "from tqdm import tqdm\n",
    "from ultralytics import YOLO"
   ]
  },
  {
   "cell_type": "markdown",
   "metadata": {},
   "source": [
    "<del>TODO: Add code that converts `valid_df.csv` into YOLO formatted validation labels"
   ]
  },
  {
   "cell_type": "markdown",
   "metadata": {},
   "source": [
    "### Check if your labels are formatted correctly for YOLO"
   ]
  },
  {
   "cell_type": "code",
   "execution_count": null,
   "metadata": {},
   "outputs": [],
   "source": [
    "def check_and_normalize_yolo_labels(label_dir, image_width=640, image_height=640):\n",
    "    print(f\"Checking and normalizing: {label_dir}\")\n",
    "    \n",
    "    txt_files = [f for f in os.listdir(label_dir) if f.endswith(\".txt\")]\n",
    "    \n",
    "    for file in tqdm(txt_files, desc=f\"Processing {os.path.basename(label_dir)}\", unit=\"file\"):\n",
    "        path = os.path.join(label_dir, file)\n",
    "        with open(path, \"r\") as f:\n",
    "            lines = f.readlines()\n",
    "\n",
    "        fixed_lines = []\n",
    "        needs_fix = False\n",
    "\n",
    "        for line in lines:\n",
    "            parts = line.strip().split()\n",
    "            if len(parts) != 5:\n",
    "                print(f\"Invalid line in {file}: {line.strip()}\")\n",
    "                continue\n",
    "\n",
    "            try:\n",
    "                cls = int(parts[0])\n",
    "                coords = list(map(float, parts[1:]))\n",
    "            except ValueError:\n",
    "                print(f\"Non-numeric values in {file}: {line.strip()}\")\n",
    "                continue\n",
    "\n",
    "            # Check if normalization is needed\n",
    "            if any(val > 1.0 for val in coords):\n",
    "                needs_fix = True\n",
    "                x, y, w, h = coords\n",
    "                x /= image_width\n",
    "                y /= image_height\n",
    "                w /= image_width\n",
    "                h /= image_height\n",
    "                coords = [x, y, w, h]\n",
    "\n",
    "            fixed_line = f\"{cls} {' '.join(f'{v:.6f}' for v in coords)}\"\n",
    "            fixed_lines.append(fixed_line)\n",
    "\n",
    "        if needs_fix:\n",
    "            with open(path, \"w\") as f:\n",
    "                f.write(\"\\n\".join(fixed_lines) + \"\\n\")\n",
    "\n",
    "    print(f\"Completed: {label_dir}\\n\")"
   ]
  },
  {
   "cell_type": "code",
   "execution_count": null,
   "metadata": {},
   "outputs": [],
   "source": [
    "# check all label folders\n",
    "check_and_normalize_yolo_labels(\"yolo_dataset/labels/test\")\n",
    "check_and_normalize_yolo_labels(\"yolo_dataset/labels/validation\")\n",
    "check_and_normalize_yolo_labels(\"yolo_dataset/labels/train\")"
   ]
  },
  {
   "cell_type": "markdown",
   "metadata": {},
   "source": [
    "### Training the YOLO Model"
   ]
  },
  {
   "cell_type": "code",
   "execution_count": null,
   "metadata": {},
   "outputs": [],
   "source": [
    "device = torch.device('cuda') if torch.cuda.is_available() else torch.device('cpu')\n",
    "print(f'Using: {device}')\n",
    "\n",
    "model = YOLO('models/yolov8n.pt') # or yolov8s.pt for a slightly larger model"
   ]
  },
  {
   "cell_type": "code",
   "execution_count": null,
   "metadata": {},
   "outputs": [],
   "source": [
    "# increase for faster data loading speed\n",
    "# make sure your system has enough ram to use 2 workers (32GB)\n",
    "# otherwise the training will crash\n",
    "num_workers = 2\n",
    "\n",
    "model.train(\n",
    "    data=\"yolo_dataset/data.yaml\",\n",
    "    epochs=25,              # increase for better results\n",
    "    imgsz=640,              # match your image size if you prefer (or 128 for speed)\n",
    "    batch=16,\n",
    "    lr0=0.01,               # base learning rate\n",
    "    optimizer='SGD',        # or 'Adam'\n",
    "    project=\"dominic_yolo_runs\",\n",
    "    name=\"finetuned_model\",\n",
    "    exist_ok=True,\n",
    "    device=device,\n",
    "    workers=num_workers,    # parallel data loading\n",
    "    cache=True,             # speeds up subsequent epochs\n",
    "    plots=False,            # skips image generation, saving time on training\n",
    "    verbose=False           # turn off logging\n",
    ")"
   ]
  },
  {
   "cell_type": "code",
   "execution_count": null,
   "metadata": {},
   "outputs": [],
   "source": [
    "print(\"\\nTraining complete. Here's a quick look at results:\")\n",
    "print()"
   ]
  },
  {
   "cell_type": "code",
   "execution_count": null,
   "metadata": {},
   "outputs": [],
   "source": [
    "model.val()"
   ]
  },
  {
   "cell_type": "markdown",
   "metadata": {},
   "source": [
    "### Finetuning YOLO Model"
   ]
  },
  {
   "cell_type": "code",
   "execution_count": null,
   "metadata": {},
   "outputs": [],
   "source": []
  }
 ],
 "metadata": {
  "kernelspec": {
   "display_name": "Python 3",
   "language": "python",
   "name": "python3"
  },
  "language_info": {
   "codemirror_mode": {
    "name": "ipython",
    "version": 3
   },
   "file_extension": ".py",
   "mimetype": "text/x-python",
   "name": "python",
   "nbconvert_exporter": "python",
   "pygments_lexer": "ipython3",
   "version": "3.10.2"
  }
 },
 "nbformat": 4,
 "nbformat_minor": 2
}
