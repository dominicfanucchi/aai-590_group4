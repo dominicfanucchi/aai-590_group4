{
 "cells": [
  {
   "cell_type": "markdown",
   "metadata": {},
   "source": [
    "# Torch NN and Hugging Face model on the Doodle Dataset"
   ]
  },
  {
   "cell_type": "code",
   "execution_count": 24,
   "metadata": {},
   "outputs": [],
   "source": [
    "# import standard libraries\n",
    "import os\n",
    "import polars as pl\n",
    "import numpy as np\n",
    "import pandas as pd\n",
    "import matplotlib.pyplot as plt\n",
    "from sklearn.model_selection import train_test_split\n",
    "from sklearn.preprocessing import StandardScaler\n",
    "\n",
    "\n",
    "# hugging face libraries for classification\n",
    "import torch\n",
    "import torchvision.transforms as transforms\n",
    "import ast\n",
    "import cv2\n",
    "from PIL import Image\n",
    "from datasets import Dataset\n",
    "from transformers import ViTFeatureExtractor\n",
    "from sklearn.metrics import accuracy_score, precision_recall_fscore_support\n",
    "from tqdm import tqdm\n",
    "from datasets import Dataset, DatasetDict"
   ]
  },
  {
   "cell_type": "code",
   "execution_count": 25,
   "metadata": {},
   "outputs": [],
   "source": [
    "# loading the csv file from the folder \n",
    "\n",
    "df = pl.read_csv(\"/media/parker/Data_Drive/quick-draw-data/master_doodle_dataframe.csv\")"
   ]
  },
  {
   "cell_type": "code",
   "execution_count": 26,
   "metadata": {},
   "outputs": [
    {
     "data": {
      "text/html": [
       "<div><style>\n",
       ".dataframe > thead > tr,\n",
       ".dataframe > tbody > tr {\n",
       "  text-align: right;\n",
       "  white-space: pre-wrap;\n",
       "}\n",
       "</style>\n",
       "<small>shape: (5, 6)</small><table border=\"1\" class=\"dataframe\"><thead><tr><th>countrycode</th><th>drawing</th><th>key_id</th><th>recognized</th><th>word</th><th>image_path</th></tr><tr><td>str</td><td>str</td><td>i64</td><td>bool</td><td>str</td><td>str</td></tr></thead><tbody><tr><td>&quot;RO&quot;</td><td>&quot;[[[0, 5, 3, 4, 10, 72, 82, 91,…</td><td>5613582005829632</td><td>true</td><td>&quot;traffic light&quot;</td><td>&quot;data/traffic light/56135820058…</td></tr><tr><td>&quot;US&quot;</td><td>&quot;[[[0, 255], [3, 4]], [[86, 73,…</td><td>5769631006457856</td><td>true</td><td>&quot;traffic light&quot;</td><td>&quot;data/traffic light/57696310064…</td></tr><tr><td>&quot;ZA&quot;</td><td>&quot;[[[39, 33, 34, 39, 52, 61, 66,…</td><td>4999795544424448</td><td>true</td><td>&quot;traffic light&quot;</td><td>&quot;data/traffic light/49997955444…</td></tr><tr><td>&quot;VN&quot;</td><td>&quot;[[[12, 9], [128, 255]], [[0, 2…</td><td>4878417906368512</td><td>true</td><td>&quot;traffic light&quot;</td><td>&quot;data/traffic light/48784179063…</td></tr><tr><td>&quot;HU&quot;</td><td>&quot;[[[9, 7, 0, 19, 49, 90, 96, 99…</td><td>5572841187573760</td><td>true</td><td>&quot;traffic light&quot;</td><td>&quot;data/traffic light/55728411875…</td></tr></tbody></table></div>"
      ],
      "text/plain": [
       "shape: (5, 6)\n",
       "┌─────────────┬──────────────────┬──────────────────┬────────────┬───────────────┬─────────────────┐\n",
       "│ countrycode ┆ drawing          ┆ key_id           ┆ recognized ┆ word          ┆ image_path      │\n",
       "│ ---         ┆ ---              ┆ ---              ┆ ---        ┆ ---           ┆ ---             │\n",
       "│ str         ┆ str              ┆ i64              ┆ bool       ┆ str           ┆ str             │\n",
       "╞═════════════╪══════════════════╪══════════════════╪════════════╪═══════════════╪═════════════════╡\n",
       "│ RO          ┆ [[[0, 5, 3, 4,   ┆ 5613582005829632 ┆ true       ┆ traffic light ┆ data/traffic    │\n",
       "│             ┆ 10, 72, 82, 91,… ┆                  ┆            ┆               ┆ light/561358200 │\n",
       "│             ┆                  ┆                  ┆            ┆               ┆ 58…             │\n",
       "│ US          ┆ [[[0, 255], [3,  ┆ 5769631006457856 ┆ true       ┆ traffic light ┆ data/traffic    │\n",
       "│             ┆ 4]], [[86, 73,…  ┆                  ┆            ┆               ┆ light/576963100 │\n",
       "│             ┆                  ┆                  ┆            ┆               ┆ 64…             │\n",
       "│ ZA          ┆ [[[39, 33, 34,   ┆ 4999795544424448 ┆ true       ┆ traffic light ┆ data/traffic    │\n",
       "│             ┆ 39, 52, 61, 66,… ┆                  ┆            ┆               ┆ light/499979554 │\n",
       "│             ┆                  ┆                  ┆            ┆               ┆ 44…             │\n",
       "│ VN          ┆ [[[12, 9], [128, ┆ 4878417906368512 ┆ true       ┆ traffic light ┆ data/traffic    │\n",
       "│             ┆ 255]], [[0, 2…   ┆                  ┆            ┆               ┆ light/487841790 │\n",
       "│             ┆                  ┆                  ┆            ┆               ┆ 63…             │\n",
       "│ HU          ┆ [[[9, 7, 0, 19,  ┆ 5572841187573760 ┆ true       ┆ traffic light ┆ data/traffic    │\n",
       "│             ┆ 49, 90, 96, 99…  ┆                  ┆            ┆               ┆ light/557284118 │\n",
       "│             ┆                  ┆                  ┆            ┆               ┆ 75…             │\n",
       "└─────────────┴──────────────────┴──────────────────┴────────────┴───────────────┴─────────────────┘"
      ]
     },
     "execution_count": 26,
     "metadata": {},
     "output_type": "execute_result"
    }
   ],
   "source": [
    "df.head()"
   ]
  },
  {
   "cell_type": "code",
   "execution_count": 27,
   "metadata": {},
   "outputs": [],
   "source": [
    "# convert the polars dataframe to pandas dataframe\n",
    "\n",
    "df = df.to_pandas()"
   ]
  },
  {
   "cell_type": "code",
   "execution_count": 28,
   "metadata": {},
   "outputs": [],
   "source": [
    "# dropping the countrycode column, reconized, and the imagepath columns \n",
    "df = df.drop(columns=['countrycode', 'recognized', 'key_id', 'image_path'])"
   ]
  },
  {
   "cell_type": "code",
   "execution_count": 29,
   "metadata": {},
   "outputs": [
    {
     "data": {
      "text/plain": [
       "Index(['drawing', 'word'], dtype='object')"
      ]
     },
     "execution_count": 29,
     "metadata": {},
     "output_type": "execute_result"
    }
   ],
   "source": [
    "df.columns"
   ]
  },
  {
   "cell_type": "code",
   "execution_count": null,
   "metadata": {},
   "outputs": [
    {
     "name": "stdout",
     "output_type": "stream",
     "text": [
      "['traffic light' 'rhinoceros' 'bed' 'school bus' 'van' 'octopus'\n",
      " 'firetruck' 'laptop' 'tractor' 'matches' 'windmill' 'square' 'pineapple'\n",
      " 'candle' 'mosquito' 'pear' 'boomerang' 'lollipop' 'yoga' 'waterslide'\n",
      " 'swan' 'triangle' 'diving board' 'crayon' 'hockey puck' 'moustache'\n",
      " 'calendar' 'cow' 'fire hydrant' 'hot air balloon' 'helmet' 'parrot'\n",
      " 'hot tub' 'baseball' 'saw' 'mouth' 'passport' 'campfire' 'car'\n",
      " 'bulldozer' 'pencil' 'wine glass' 'marker' 'axe' 'mug' 'see saw' 'foot'\n",
      " 'door' 'beach' 'cruise ship' 'drums' 'necklace' 'spoon' 'motorbike'\n",
      " 'megaphone' 'penguin' 'washing machine' 'giraffe' 'monkey' 'shoe'\n",
      " 'microphone' 'skyscraper' 'blackberry' 'sword' 'nail' 'birthday cake'\n",
      " 'carrot' 'lobster' 'hourglass' 'microwave' 'cannon' 'clarinet'\n",
      " 'basketball' 'pliers' 'bee' 'flashlight' 'leaf' 'belt' 'grass' 'river'\n",
      " 'peas' 'elbow' 'tiger' 'roller coaster' 'piano' 'trumpet' 'snowflake'\n",
      " 'bandage' 'bowtie' 'harp' 'onion' 'stairs' 'bus' 'oven' 'stop sign'\n",
      " 'chair' 'guitar' 'headphones' 'hockey stick' 'sheep' 'leg' 'popsicle'\n",
      " 'suitcase' 'snorkel' 'angel' 'scissors' 'line' 'shorts' 'toaster'\n",
      " 'lantern' 'rabbit' 'rain' 'camel' 'mouse' 'snail' 'cell phone' 'couch'\n",
      " 'butterfly' 'bear' 'light bulb' 'flower' 'paint can' 'hedgehog'\n",
      " 'teddy-bear' 'stitches' 'bathtub' 'blueberry' 'police car' 'crab' 'jail'\n",
      " 'ear' 'violin' 'grapes' 'ocean' 'telephone' 'bucket' 'anvil'\n",
      " 'animal migration' 'hamburger' 'dog' 'bush' 'whale' 'dresser' 'bicycle'\n",
      " 'church' 'table' 'hand' 'bread' 'toothpaste' 'raccoon' 'sandwich' 'barn'\n",
      " 'eyeglasses' 'cactus' 'smiley face' 'screwdriver' 'sun' 'envelope' 'map'\n",
      " 'radio' 'lighthouse' 'frog' 'peanut' 'sleeping bag' 'feather'\n",
      " 'The Great Wall of China' 'pillow' 'stethoscope' 'baseball bat' 'vase'\n",
      " 'sailboat' 'pond' 'crocodile' 'cake' 'kangaroo' 'pool' 'hurricane'\n",
      " 'hammer' 'tennis racquet' 'calculator' 'knee' 'The Eiffel Tower' 'cloud'\n",
      " 'lion' 'strawberry' 'fireplace' 'sink' 'hexagon' 'pizza' 'lipstick'\n",
      " 'flamingo' 'spider' 'star' 'streetlight' 'frying pan' 'cup' 'television'\n",
      " 'palm tree' 'eye' 'rake' 'pants' 'tooth' 'string bean' 'bracelet' 'crown'\n",
      " 'flip flops' 'teapot' 'compass' 'power outlet' 'beard' 'rainbow'\n",
      " 'toothbrush' 'canoe' 'alarm clock' 'tornado' 'circle' 'pig' 'horse'\n",
      " 'computer' 'squiggle' 'fan' 'broccoli' 'hat' 'wine bottle' 'umbrella'\n",
      " 'The Mona Lisa' 'backpack' 'chandelier' 'cooler' 'basket' 'paper clip'\n",
      " 'trombone' 'house' 'cat' 'dolphin' 'moon' 'shark' 'swing set' 'speedboat'\n",
      " 'skull' 'cello' 'toe' 'underwear' 'golf club' 'paintbrush' 'tree' 'panda'\n",
      " 'camouflage' 'pickup truck' 'ladder' 'arm' 'clock' 'fence' 'sea turtle'\n",
      " 'jacket' 'diamond' 'octagon' 'remote control' 'stove' 'train' 'tent'\n",
      " 'parachute' 'ice cream' 'truck' 'castle' 'finger' 'potato' 'binoculars'\n",
      " 'helicopter' 'snowman' 'ant' 'toilet' 'flying saucer' 'steak' 'owl'\n",
      " 't-shirt' 'house plant' 'soccer ball' 'apple' 'book' 'face' 'sock'\n",
      " 'drill' 'donut' 'saxophone' 'dishwasher' 'camera' 'hospital' 'broom'\n",
      " 'lightning' 'watermelon' 'spreadsheet' 'bridge' 'coffee cup' 'ambulance'\n",
      " 'key' 'picture frame' 'nose' 'purse' 'stereo' 'keyboard' 'elephant'\n",
      " 'zigzag' 'bird' 'sweater' 'mailbox' 'banana' 'bench' 'snake' 'scorpion'\n",
      " 'submarine' 'ceiling fan' 'duck' 'skateboard' 'eraser' 'fork' 'hot dog'\n",
      " 'squirrel' 'rollerskates' 'zebra' 'mountain' 'wristwatch' 'dumbbell'\n",
      " 'mermaid' 'cookie' 'garden' 'asparagus' 'bottlecap' 'airplane' 'mushroom'\n",
      " 'bat' 'wheel' 'dragon' 'goatee' 'floor lamp' 'garden hose' 'postcard'\n",
      " 'shovel' 'brain' 'fish']\n"
     ]
    }
   ],
   "source": [
    "# saving the unique values from the word column to a csv so we can specify the classess that we want to use\n",
    "\n",
    "words = df['word'].unique()\n",
    "print(words)\n"
   ]
  },
  {
   "cell_type": "code",
   "execution_count": 31,
   "metadata": {},
   "outputs": [],
   "source": [
    "# saving the words to a csv file\n",
    "words_df = pd.DataFrame(words)\n",
    "# setting the words df to a csv file for filtering and picking the better ones\n",
    "words_df.to_csv('words.csv', index=False)"
   ]
  },
  {
   "cell_type": "code",
   "execution_count": 32,
   "metadata": {},
   "outputs": [],
   "source": [
    "# loading up words again from the csv file\n",
    "words = pd.read_csv('words copy.csv')"
   ]
  },
  {
   "cell_type": "code",
   "execution_count": 33,
   "metadata": {},
   "outputs": [
    {
     "data": {
      "text/html": [
       "<div>\n",
       "<style scoped>\n",
       "    .dataframe tbody tr th:only-of-type {\n",
       "        vertical-align: middle;\n",
       "    }\n",
       "\n",
       "    .dataframe tbody tr th {\n",
       "        vertical-align: top;\n",
       "    }\n",
       "\n",
       "    .dataframe thead th {\n",
       "        text-align: right;\n",
       "    }\n",
       "</style>\n",
       "<table border=\"1\" class=\"dataframe\">\n",
       "  <thead>\n",
       "    <tr style=\"text-align: right;\">\n",
       "      <th></th>\n",
       "      <th>words</th>\n",
       "    </tr>\n",
       "  </thead>\n",
       "  <tbody>\n",
       "    <tr>\n",
       "      <th>0</th>\n",
       "      <td>traffic light</td>\n",
       "    </tr>\n",
       "    <tr>\n",
       "      <th>1</th>\n",
       "      <td>van</td>\n",
       "    </tr>\n",
       "    <tr>\n",
       "      <th>2</th>\n",
       "      <td>firetruck</td>\n",
       "    </tr>\n",
       "    <tr>\n",
       "      <th>3</th>\n",
       "      <td>tractor</td>\n",
       "    </tr>\n",
       "    <tr>\n",
       "      <th>4</th>\n",
       "      <td>windmill</td>\n",
       "    </tr>\n",
       "  </tbody>\n",
       "</table>\n",
       "</div>"
      ],
      "text/plain": [
       "           words\n",
       "0  traffic light\n",
       "1            van\n",
       "2      firetruck\n",
       "3        tractor\n",
       "4       windmill"
      ]
     },
     "execution_count": 33,
     "metadata": {},
     "output_type": "execute_result"
    }
   ],
   "source": [
    "words.head()"
   ]
  },
  {
   "cell_type": "code",
   "execution_count": 34,
   "metadata": {},
   "outputs": [],
   "source": [
    "# removing all null values from the dataframe\n",
    "words = words.dropna()"
   ]
  },
  {
   "cell_type": "code",
   "execution_count": 35,
   "metadata": {},
   "outputs": [],
   "source": [
    "# saving the words to a json file, so later we can load it up as a list\n",
    "words.to_json('words.json', orient='records')"
   ]
  },
  {
   "cell_type": "code",
   "execution_count": 36,
   "metadata": {},
   "outputs": [],
   "source": [
    "# load words and make a list\n",
    "words = pd.read_json('words.json')\n",
    "words = words['words']"
   ]
  },
  {
   "cell_type": "code",
   "execution_count": 37,
   "metadata": {},
   "outputs": [
    {
     "name": "stdout",
     "output_type": "stream",
     "text": [
      "['traffic light' 'van' 'firetruck' 'tractor' 'windmill' 'waterslide'\n",
      " 'swan' 'moustache' 'cow' 'hot air balloon' 'saw' 'campfire' 'car'\n",
      " 'bulldozer' 'axe' 'see saw' 'door' 'beach' 'motorbike' 'skyscraper'\n",
      " 'sword' 'cannon' 'grass' 'river' 'peas' 'piano' 'trumpet' 'bandage'\n",
      " 'stairs' 'oven' 'stop sign' 'sheep' 'cell phone' 'stitches' 'police car'\n",
      " 'jail' 'ocean' 'telephone' 'bush' 'barn' 'cactus' 'sun' 'radio'\n",
      " 'lighthouse' 'sleeping bag' 'baseball bat' 'hammer' 'cloud' 'frying pan'\n",
      " 'teapot' 'compass' 'backpack' 'speedboat' 'skull' 'tree' 'camouflage'\n",
      " 'pickup truck' 'castle' 'binoculars' 'helicopter' 'flying saucer'\n",
      " 't-shirt' 'hospital' 'lightning' 'bridge' 'ambulance' 'stereo' 'snake'\n",
      " 'submarine' 'mountain' 'dumbbell' 'airplane' 'shovel']\n"
     ]
    }
   ],
   "source": [
    "# filter the data frame now\n",
    "df = df[df['word'].isin(words)]\n",
    "print(df['word'].unique())"
   ]
  },
  {
   "cell_type": "code",
   "execution_count": 38,
   "metadata": {},
   "outputs": [],
   "source": [
    "# filter down the selection even further using a list\n",
    "words_keep = ['traffic light', 'van', 'firetruck', 'tractor', 'axe', 'motorbike', 'skyscraper',\n",
    "              'sword', 'cannon', 'grass', 'river', 'jail', 'telephone', 'radio',\n",
    "              'baseball bat', 'hammer', 'cloud', 'backpack', 'speedboat', 'skull', 'snake',\n",
    "              'submarine']\n",
    "\n",
    "\n",
    "\n",
    "# submarine = bad ~ 0\n",
    "# grass = good ~ 1 \n",
    "\n",
    "'''\n",
    "\n",
    "EXAMPLE \n",
    "0 = axe \n",
    "1 = river \n",
    "0 = sub \n",
    "1 = grass \n",
    "\n",
    "\n",
    "#                   0    0    0 - axe ppl\n",
    "start point - x     0    1 -> 0 - zombie      y - end point  \n",
    "#                \\  1 /  0    0 - bomb\n",
    "\n",
    "\n",
    "'''\n",
    "\n",
    "# filter the dataframe even more \n",
    "df = df[df['word'].isin(words_keep)]"
   ]
  },
  {
   "cell_type": "code",
   "execution_count": 39,
   "metadata": {},
   "outputs": [
    {
     "data": {
      "text/html": [
       "<div>\n",
       "<style scoped>\n",
       "    .dataframe tbody tr th:only-of-type {\n",
       "        vertical-align: middle;\n",
       "    }\n",
       "\n",
       "    .dataframe tbody tr th {\n",
       "        vertical-align: top;\n",
       "    }\n",
       "\n",
       "    .dataframe thead th {\n",
       "        text-align: right;\n",
       "    }\n",
       "</style>\n",
       "<table border=\"1\" class=\"dataframe\">\n",
       "  <thead>\n",
       "    <tr style=\"text-align: right;\">\n",
       "      <th></th>\n",
       "      <th>0</th>\n",
       "    </tr>\n",
       "  </thead>\n",
       "  <tbody>\n",
       "    <tr>\n",
       "      <th>0</th>\n",
       "      <td>traffic light</td>\n",
       "    </tr>\n",
       "    <tr>\n",
       "      <th>1</th>\n",
       "      <td>van</td>\n",
       "    </tr>\n",
       "    <tr>\n",
       "      <th>2</th>\n",
       "      <td>firetruck</td>\n",
       "    </tr>\n",
       "    <tr>\n",
       "      <th>3</th>\n",
       "      <td>tractor</td>\n",
       "    </tr>\n",
       "    <tr>\n",
       "      <th>4</th>\n",
       "      <td>axe</td>\n",
       "    </tr>\n",
       "  </tbody>\n",
       "</table>\n",
       "</div>"
      ],
      "text/plain": [
       "               0\n",
       "0  traffic light\n",
       "1            van\n",
       "2      firetruck\n",
       "3        tractor\n",
       "4            axe"
      ]
     },
     "execution_count": 39,
     "metadata": {},
     "output_type": "execute_result"
    }
   ],
   "source": [
    "# making words to keep a df \n",
    "words_keep_df = pd.DataFrame(words_keep)\n",
    "words_keep_df.head()"
   ]
  },
  {
   "cell_type": "code",
   "execution_count": 40,
   "metadata": {},
   "outputs": [
    {
     "data": {
      "text/html": [
       "<div>\n",
       "<style scoped>\n",
       "    .dataframe tbody tr th:only-of-type {\n",
       "        vertical-align: middle;\n",
       "    }\n",
       "\n",
       "    .dataframe tbody tr th {\n",
       "        vertical-align: top;\n",
       "    }\n",
       "\n",
       "    .dataframe thead th {\n",
       "        text-align: right;\n",
       "    }\n",
       "</style>\n",
       "<table border=\"1\" class=\"dataframe\">\n",
       "  <thead>\n",
       "    <tr style=\"text-align: right;\">\n",
       "      <th></th>\n",
       "      <th>word</th>\n",
       "    </tr>\n",
       "  </thead>\n",
       "  <tbody>\n",
       "    <tr>\n",
       "      <th>0</th>\n",
       "      <td>traffic light</td>\n",
       "    </tr>\n",
       "    <tr>\n",
       "      <th>1</th>\n",
       "      <td>van</td>\n",
       "    </tr>\n",
       "    <tr>\n",
       "      <th>2</th>\n",
       "      <td>firetruck</td>\n",
       "    </tr>\n",
       "    <tr>\n",
       "      <th>3</th>\n",
       "      <td>tractor</td>\n",
       "    </tr>\n",
       "    <tr>\n",
       "      <th>4</th>\n",
       "      <td>axe</td>\n",
       "    </tr>\n",
       "  </tbody>\n",
       "</table>\n",
       "</div>"
      ],
      "text/plain": [
       "            word\n",
       "0  traffic light\n",
       "1            van\n",
       "2      firetruck\n",
       "3        tractor\n",
       "4            axe"
      ]
     },
     "execution_count": 40,
     "metadata": {},
     "output_type": "execute_result"
    }
   ],
   "source": [
    "# making words the column header \n",
    "words_keep_df.columns = ['word']\n",
    "words_keep_df.head()"
   ]
  },
  {
   "cell_type": "code",
   "execution_count": 41,
   "metadata": {},
   "outputs": [],
   "source": [
    "# SAVING THE WORDS TO A json  FILE\n",
    "\n",
    "words_keep_df = pd.DataFrame(words_keep)\n",
    "\n",
    "# Convert list to DataFrame with correct column name\n",
    "words_keep_df = pd.DataFrame(words_keep, columns=['words'])\n",
    "\n",
    "# Save to JSON with correct formatting\n",
    "words_keep_df.to_json('words_keep.json', orient='records', indent=4)"
   ]
  },
  {
   "cell_type": "code",
   "execution_count": 42,
   "metadata": {},
   "outputs": [
    {
     "data": {
      "image/png": "[encoded data removed]",
      "text/plain": [
       "<Figure size 640x480 with 1 Axes>"
      ]
     },
     "metadata": {},
     "output_type": "display_data"
    }
   ],
   "source": [
    "import ast  \n",
    "\n",
    "# random drawing \n",
    "image_data = df['drawing'].iloc[10000]\n",
    "\n",
    "# convert the string to a list \n",
    "if isinstance(image_data, str):  \n",
    "    image_data = ast.literal_eval(image_data) \n",
    "\n",
    "# creating a blank canvas to plot\n",
    "fig, ax = plt.subplots()\n",
    "ax.set_xlim(0, 255)\n",
    "ax.set_ylim(0, 255)\n",
    "ax.invert_yaxis()  \n",
    "\n",
    "# drawing the image\n",
    "for stroke in image_data:\n",
    "    x, y = stroke  \n",
    "    ax.plot(x, y, linewidth=3)\n",
    "\n",
    "plt.show()\n"
   ]
  },
  {
   "cell_type": "code",
   "execution_count": 43,
   "metadata": {},
   "outputs": [
    {
     "data": {
      "text/plain": [
       "Index(['drawing', 'word'], dtype='object')"
      ]
     },
     "execution_count": 43,
     "metadata": {},
     "output_type": "execute_result"
    }
   ],
   "source": [
    "df.columns"
   ]
  },
  {
   "cell_type": "code",
   "execution_count": 44,
   "metadata": {},
   "outputs": [
    {
     "name": "stdout",
     "output_type": "stream",
     "text": [
      "word\n",
      "traffic light    3000\n",
      "van              3000\n",
      "snake            3000\n",
      "skull            3000\n",
      "speedboat        3000\n",
      "backpack         3000\n",
      "cloud            3000\n",
      "hammer           3000\n",
      "baseball bat     3000\n",
      "radio            3000\n",
      "telephone        3000\n",
      "jail             3000\n",
      "river            3000\n",
      "grass            3000\n",
      "cannon           3000\n",
      "sword            3000\n",
      "skyscraper       3000\n",
      "motorbike        3000\n",
      "axe              3000\n",
      "tractor          3000\n",
      "firetruck        3000\n",
      "submarine        3000\n",
      "Name: count, dtype: int64\n"
     ]
    }
   ],
   "source": [
    "# printing the count of the distinct words in the 'word' column\n",
    "count_classes = df['word'].value_counts()\n",
    "print(count_classes)"
   ]
  },
  {
   "cell_type": "code",
   "execution_count": 45,
   "metadata": {},
   "outputs": [
    {
     "name": "stdout",
     "output_type": "stream",
     "text": [
      "Using device: cuda\n"
     ]
    }
   ],
   "source": [
    "# check if GPU is available\n",
    "device = torch.device(\"cuda\" if torch.cuda.is_available() else \"cpu\")\n",
    "print(f\"Using device: {device}\")"
   ]
  },
  {
   "cell_type": "code",
   "execution_count": 46,
   "metadata": {},
   "outputs": [
    {
     "name": "stdout",
     "output_type": "stream",
     "text": [
      "NVIDIA GeForce RTX 2060\n"
     ]
    }
   ],
   "source": [
    "# print the device name\n",
    "print(torch.cuda.get_device_name(0))"
   ]
  },
  {
   "cell_type": "code",
   "execution_count": 47,
   "metadata": {},
   "outputs": [],
   "source": [
    "# defined the fixed lengths of the arrays, this in term also limits our image size\n",
    "FIXED_LENGTH = 2048  \n",
    "\n",
    "# Function to convert stroke data to a fixed-size numpy array, which is like the MNIST dataset\n",
    "def strokes_to_array(strokes, max_length=FIXED_LENGTH):\n",
    "    points = []\n",
    "    \n",
    "    for stroke in strokes:\n",
    "        x, y = stroke\n",
    "        points.extend(list(zip(x, y)))\n",
    "\n",
    "    # Flatten list of tuples into 1D array\n",
    "    points = np.array(points).flatten()\n",
    "\n",
    "    # normalize values between -1 and 1 (right here I am making the image like MNIST dataset)\n",
    "    points = points / 255.0  \n",
    "\n",
    "    # pad with zeros if too short, truncate if too long\n",
    "    if len(points) < max_length:\n",
    "        points = np.pad(points, (0, max_length - len(points)), 'constant')\n",
    "    else:\n",
    "        points = points[:max_length]\n",
    "\n",
    "    return points\n",
    "\n",
    "# apply the transformation to the dataset\n",
    "df['drawing_array'] = df['drawing'].apply(lambda x: strokes_to_array(ast.literal_eval(x)))"
   ]
  },
  {
   "cell_type": "code",
   "execution_count": 48,
   "metadata": {},
   "outputs": [],
   "source": [
    "from torch.utils.data import Dataset, DataLoader\n",
    "\n",
    "# convert labels to numeric format\n",
    "word_to_idx = {word: idx for idx, word in enumerate(df['word'].unique())}\n",
    "df['label'] = df['word'].map(word_to_idx)\n",
    "\n",
    "# custom torch dataset class \n",
    "class QuickDrawDataset(Dataset):\n",
    "    def __init__(self, dataframe):\n",
    "        self.data = dataframe\n",
    "\n",
    "    def __len__(self):\n",
    "        return len(self.data)\n",
    "\n",
    "    def __getitem__(self, idx):\n",
    "        x = torch.tensor(self.data.iloc[idx]['drawing_array'], dtype=torch.float32)\n",
    "        y = torch.tensor(self.data.iloc[idx]['label'], dtype=torch.long)\n",
    "        return x, y\n",
    "\n",
    "# create dataset and dataloader for torch\n",
    "dataset = QuickDrawDataset(df)\n",
    "train_loader = DataLoader(dataset, batch_size=64, shuffle=True)"
   ]
  },
  {
   "cell_type": "markdown",
   "metadata": {},
   "source": [
    "### Torch Imports"
   ]
  },
  {
   "cell_type": "code",
   "execution_count": 49,
   "metadata": {},
   "outputs": [],
   "source": [
    "import torch.nn as nn\n",
    "import torch.optim as optim\n",
    "import torch.nn.functional as F"
   ]
  },
  {
   "cell_type": "code",
   "execution_count": 50,
   "metadata": {},
   "outputs": [],
   "source": [
    "# Define an MLP model\n",
    "import torch.nn as nn\n",
    "\n",
    "class LargeQuickDrawCNN(nn.Module):\n",
    "    def __init__(self, num_classes):\n",
    "        super(LargeQuickDrawCNN, self).__init__()\n",
    "\n",
    "        # convolutional layers (increased depth from last itteration)\n",
    "        self.conv1 = nn.Conv2d(1, 64, kernel_size=3, padding=1)  \n",
    "        self.conv2 = nn.Conv2d(64, 128, kernel_size=3, padding=1)  \n",
    "        self.conv3 = nn.Conv2d(128, 256, kernel_size=3, padding=1)  \n",
    "        self.conv4 = nn.Conv2d(256, 512, kernel_size=3, padding=1)  \n",
    "        \n",
    "        # pooling layer\n",
    "        self.pool = nn.MaxPool2d(kernel_size=2, stride=2)\n",
    "\n",
    "        # fully connected Layers (made the network network)\n",
    "        self.fc1 = nn.Linear(512 * 2 * 4, 1024)  \n",
    "        self.fc2 = nn.Linear(1024, 512)\n",
    "        self.fc3 = nn.Linear(512, num_classes)\n",
    "\n",
    "        # batch normalization\n",
    "        self.batchnorm1 = nn.BatchNorm2d(64)\n",
    "        self.batchnorm2 = nn.BatchNorm2d(128)\n",
    "        self.batchnorm3 = nn.BatchNorm2d(256)\n",
    "        self.batchnorm4 = nn.BatchNorm2d(512)\n",
    "\n",
    "        # dropout \n",
    "        self.dropout = nn.Dropout(0.5)\n",
    "\n",
    "    def forward(self, x):\n",
    "        # reshaping\n",
    "        x = x.view(-1, 1, 32, 64)  \n",
    "\n",
    "        # convolutional layers with BatchNorm, activation & pooling\n",
    "        x = self.pool(F.leaky_relu(self.batchnorm1(self.conv1(x)), negative_slope=0.1))\n",
    "        x = self.pool(F.leaky_relu(self.batchnorm2(self.conv2(x)), negative_slope=0.1))\n",
    "        x = self.pool(F.leaky_relu(self.batchnorm3(self.conv3(x)), negative_slope=0.1))\n",
    "        x = self.pool(F.leaky_relu(self.batchnorm4(self.conv4(x)), negative_slope=0.1))\n",
    "\n",
    "        # flatten before FC layers\n",
    "        x = x.view(x.size(0), -1)\n",
    "\n",
    "        # fully Connected Layers + Dropout\n",
    "        x = F.leaky_relu(self.fc1(x), negative_slope=0.1)\n",
    "        x = self.dropout(x)\n",
    "        x = F.leaky_relu(self.fc2(x), negative_slope=0.1)\n",
    "        x = self.fc3(x)\n",
    "\n",
    "        return x\n",
    "\n",
    "# init model to GPU \n",
    "num_classes = len(word_to_idx)\n",
    "model = LargeQuickDrawCNN(num_classes).to(torch.device(\"cuda\" if torch.cuda.is_available() else \"cpu\"))\n",
    "\n",
    "\n",
    "# init the loss funct and optimizer\n",
    "criterion = nn.CrossEntropyLoss()\n",
    "optimizer = optim.Adam(model.parameters(), lr=0.001)\n",
    "\n",
    "# for plotting and metrics\n",
    "train_losses = []\n",
    "train_accuracies = []\n",
    "val_accuracies = []\n",
    "\n",
    "# split data for training and val\n",
    "train_size = int(0.8 * len(dataset))\n",
    "val_size = len(dataset) - train_size\n",
    "train_dataset, val_dataset = torch.utils.data.random_split(dataset, [train_size, val_size])\n",
    "\n",
    "train_loader = DataLoader(train_dataset, batch_size=64, shuffle=True)\n",
    "val_loader = DataLoader(val_dataset, batch_size=64, shuffle=False)"
   ]
  },
  {
   "cell_type": "code",
   "execution_count": 51,
   "metadata": {},
   "outputs": [
    {
     "name": "stderr",
     "output_type": "stream",
     "text": [
      "Epoch [1/30]: 100%|██████████| 825/825 [00:19<00:00, 41.50it/s, acc=32.3, loss=1.35]\n"
     ]
    },
    {
     "name": "stdout",
     "output_type": "stream",
     "text": [
      "Epoch [1/30] - Loss: 2.1446, Train Acc: 32.32%, Val Acc: 48.88%\n",
      "Precision: 0.5568, Recall: 0.4879, F1-score: 0.4758\n"
     ]
    },
    {
     "name": "stderr",
     "output_type": "stream",
     "text": [
      "Epoch [2/30]: 100%|██████████| 825/825 [00:19<00:00, 42.96it/s, acc=60.4, loss=0.992]\n"
     ]
    },
    {
     "name": "stdout",
     "output_type": "stream",
     "text": [
      "Epoch [2/30] - Loss: 1.2325, Train Acc: 60.37%, Val Acc: 67.40%\n",
      "Precision: 0.7021, Recall: 0.6746, F1-score: 0.6758\n"
     ]
    },
    {
     "name": "stderr",
     "output_type": "stream",
     "text": [
      "Epoch [3/30]: 100%|██████████| 825/825 [00:19<00:00, 42.92it/s, acc=70.6, loss=0.752]\n"
     ]
    },
    {
     "name": "stdout",
     "output_type": "stream",
     "text": [
      "Epoch [3/30] - Loss: 0.9004, Train Acc: 70.57%, Val Acc: 74.61%\n",
      "Precision: 0.7605, Recall: 0.7461, F1-score: 0.7432\n"
     ]
    },
    {
     "name": "stderr",
     "output_type": "stream",
     "text": [
      "Epoch [4/30]: 100%|██████████| 825/825 [00:19<00:00, 43.32it/s, acc=76.3, loss=0.865]\n"
     ]
    },
    {
     "name": "stdout",
     "output_type": "stream",
     "text": [
      "Epoch [4/30] - Loss: 0.7220, Train Acc: 76.25%, Val Acc: 75.63%\n",
      "Precision: 0.7795, Recall: 0.7566, F1-score: 0.7547\n"
     ]
    },
    {
     "name": "stderr",
     "output_type": "stream",
     "text": [
      "Epoch [5/30]: 100%|██████████| 825/825 [00:19<00:00, 43.20it/s, acc=80, loss=0.531]  \n"
     ]
    },
    {
     "name": "stdout",
     "output_type": "stream",
     "text": [
      "Epoch [5/30] - Loss: 0.6054, Train Acc: 79.97%, Val Acc: 79.39%\n",
      "Precision: 0.8059, Recall: 0.7944, F1-score: 0.7944\n"
     ]
    },
    {
     "name": "stderr",
     "output_type": "stream",
     "text": [
      "Epoch [6/30]: 100%|██████████| 825/825 [00:19<00:00, 43.23it/s, acc=82.8, loss=0.361]\n"
     ]
    },
    {
     "name": "stdout",
     "output_type": "stream",
     "text": [
      "Epoch [6/30] - Loss: 0.5134, Train Acc: 82.78%, Val Acc: 80.43%\n",
      "Precision: 0.8149, Recall: 0.8055, F1-score: 0.8025\n"
     ]
    },
    {
     "name": "stderr",
     "output_type": "stream",
     "text": [
      "Epoch [7/30]: 100%|██████████| 825/825 [00:19<00:00, 43.30it/s, acc=85.1, loss=0.352]\n"
     ]
    },
    {
     "name": "stdout",
     "output_type": "stream",
     "text": [
      "Epoch [7/30] - Loss: 0.4375, Train Acc: 85.07%, Val Acc: 82.29%\n",
      "Precision: 0.8312, Recall: 0.8219, F1-score: 0.8218\n"
     ]
    },
    {
     "name": "stderr",
     "output_type": "stream",
     "text": [
      "Epoch [8/30]: 100%|██████████| 825/825 [00:19<00:00, 43.36it/s, acc=87, loss=0.472]  \n"
     ]
    },
    {
     "name": "stdout",
     "output_type": "stream",
     "text": [
      "Epoch [8/30] - Loss: 0.3766, Train Acc: 87.03%, Val Acc: 83.83%\n",
      "Precision: 0.8440, Recall: 0.8386, F1-score: 0.8394\n"
     ]
    },
    {
     "name": "stderr",
     "output_type": "stream",
     "text": [
      "Epoch [9/30]: 100%|██████████| 825/825 [00:19<00:00, 43.22it/s, acc=89, loss=0.334]   \n"
     ]
    },
    {
     "name": "stdout",
     "output_type": "stream",
     "text": [
      "Epoch [9/30] - Loss: 0.3251, Train Acc: 88.95%, Val Acc: 83.09%\n",
      "Precision: 0.8324, Recall: 0.8308, F1-score: 0.8298\n"
     ]
    },
    {
     "name": "stderr",
     "output_type": "stream",
     "text": [
      "Epoch [10/30]: 100%|██████████| 825/825 [00:19<00:00, 43.39it/s, acc=90.1, loss=0.244] \n"
     ]
    },
    {
     "name": "stdout",
     "output_type": "stream",
     "text": [
      "Epoch [10/30] - Loss: 0.2852, Train Acc: 90.08%, Val Acc: 83.90%\n",
      "Precision: 0.8438, Recall: 0.8390, F1-score: 0.8391\n"
     ]
    },
    {
     "name": "stderr",
     "output_type": "stream",
     "text": [
      "Epoch [11/30]: 100%|██████████| 825/825 [00:18<00:00, 43.54it/s, acc=91.5, loss=0.22]  \n"
     ]
    },
    {
     "name": "stdout",
     "output_type": "stream",
     "text": [
      "Epoch [11/30] - Loss: 0.2475, Train Acc: 91.53%, Val Acc: 83.98%\n",
      "Precision: 0.8453, Recall: 0.8398, F1-score: 0.8404\n"
     ]
    },
    {
     "name": "stderr",
     "output_type": "stream",
     "text": [
      "Epoch [12/30]: 100%|██████████| 825/825 [00:18<00:00, 43.57it/s, acc=92.6, loss=0.404] \n"
     ]
    },
    {
     "name": "stdout",
     "output_type": "stream",
     "text": [
      "Epoch [12/30] - Loss: 0.2107, Train Acc: 92.62%, Val Acc: 83.42%\n",
      "Precision: 0.8433, Recall: 0.8351, F1-score: 0.8343\n"
     ]
    },
    {
     "name": "stderr",
     "output_type": "stream",
     "text": [
      "Epoch [13/30]: 100%|██████████| 825/825 [00:19<00:00, 43.32it/s, acc=93.5, loss=0.305] \n"
     ]
    },
    {
     "name": "stdout",
     "output_type": "stream",
     "text": [
      "Epoch [13/30] - Loss: 0.1817, Train Acc: 93.53%, Val Acc: 84.52%\n",
      "Precision: 0.8492, Recall: 0.8454, F1-score: 0.8448\n"
     ]
    },
    {
     "name": "stderr",
     "output_type": "stream",
     "text": [
      "Epoch [14/30]: 100%|██████████| 825/825 [00:19<00:00, 43.00it/s, acc=94.3, loss=0.247] \n"
     ]
    },
    {
     "name": "stdout",
     "output_type": "stream",
     "text": [
      "Epoch [14/30] - Loss: 0.1681, Train Acc: 94.34%, Val Acc: 84.73%\n",
      "Precision: 0.8498, Recall: 0.8472, F1-score: 0.8471\n"
     ]
    },
    {
     "name": "stderr",
     "output_type": "stream",
     "text": [
      "Epoch [15/30]: 100%|██████████| 825/825 [00:19<00:00, 42.75it/s, acc=94.8, loss=0.14]   \n"
     ]
    },
    {
     "name": "stdout",
     "output_type": "stream",
     "text": [
      "Epoch [15/30] - Loss: 0.1505, Train Acc: 94.79%, Val Acc: 84.27%\n",
      "Precision: 0.8478, Recall: 0.8431, F1-score: 0.8430\n"
     ]
    },
    {
     "name": "stderr",
     "output_type": "stream",
     "text": [
      "Epoch [16/30]: 100%|██████████| 825/825 [00:19<00:00, 42.56it/s, acc=95.3, loss=0.171] \n"
     ]
    },
    {
     "name": "stdout",
     "output_type": "stream",
     "text": [
      "Epoch [16/30] - Loss: 0.1358, Train Acc: 95.27%, Val Acc: 84.77%\n",
      "Precision: 0.8519, Recall: 0.8472, F1-score: 0.8475\n"
     ]
    },
    {
     "name": "stderr",
     "output_type": "stream",
     "text": [
      "Epoch [17/30]: 100%|██████████| 825/825 [00:18<00:00, 43.58it/s, acc=95.5, loss=0.095]  \n"
     ]
    },
    {
     "name": "stdout",
     "output_type": "stream",
     "text": [
      "Epoch [17/30] - Loss: 0.1271, Train Acc: 95.55%, Val Acc: 84.18%\n",
      "Precision: 0.8458, Recall: 0.8414, F1-score: 0.8418\n"
     ]
    },
    {
     "name": "stderr",
     "output_type": "stream",
     "text": [
      "Epoch [18/30]: 100%|██████████| 825/825 [00:18<00:00, 43.63it/s, acc=96, loss=0.12]     \n"
     ]
    },
    {
     "name": "stdout",
     "output_type": "stream",
     "text": [
      "Epoch [18/30] - Loss: 0.1161, Train Acc: 96.05%, Val Acc: 84.45%\n",
      "Precision: 0.8482, Recall: 0.8445, F1-score: 0.8445\n"
     ]
    },
    {
     "name": "stderr",
     "output_type": "stream",
     "text": [
      "Epoch [19/30]: 100%|██████████| 825/825 [00:19<00:00, 43.37it/s, acc=96.1, loss=0.0882] \n"
     ]
    },
    {
     "name": "stdout",
     "output_type": "stream",
     "text": [
      "Epoch [19/30] - Loss: 0.1144, Train Acc: 96.11%, Val Acc: 84.63%\n",
      "Precision: 0.8511, Recall: 0.8459, F1-score: 0.8458\n"
     ]
    },
    {
     "name": "stderr",
     "output_type": "stream",
     "text": [
      "Epoch [20/30]: 100%|██████████| 825/825 [00:18<00:00, 43.43it/s, acc=96.3, loss=0.141]  \n"
     ]
    },
    {
     "name": "stdout",
     "output_type": "stream",
     "text": [
      "Epoch [20/30] - Loss: 0.1086, Train Acc: 96.30%, Val Acc: 83.80%\n",
      "Precision: 0.8445, Recall: 0.8379, F1-score: 0.8385\n"
     ]
    },
    {
     "name": "stderr",
     "output_type": "stream",
     "text": [
      "Epoch [21/30]: 100%|██████████| 825/825 [00:19<00:00, 43.18it/s, acc=96.9, loss=0.125]  \n"
     ]
    },
    {
     "name": "stdout",
     "output_type": "stream",
     "text": [
      "Epoch [21/30] - Loss: 0.0935, Train Acc: 96.93%, Val Acc: 84.52%\n",
      "Precision: 0.8487, Recall: 0.8454, F1-score: 0.8453\n"
     ]
    },
    {
     "name": "stderr",
     "output_type": "stream",
     "text": [
      "Epoch [22/30]: 100%|██████████| 825/825 [00:19<00:00, 42.79it/s, acc=96.7, loss=0.148]  \n"
     ]
    },
    {
     "name": "stdout",
     "output_type": "stream",
     "text": [
      "Epoch [22/30] - Loss: 0.0991, Train Acc: 96.70%, Val Acc: 84.00%\n",
      "Precision: 0.8515, Recall: 0.8398, F1-score: 0.8414\n"
     ]
    },
    {
     "name": "stderr",
     "output_type": "stream",
     "text": [
      "Epoch [23/30]: 100%|██████████| 825/825 [00:19<00:00, 43.09it/s, acc=97.1, loss=0.0651] \n"
     ]
    },
    {
     "name": "stdout",
     "output_type": "stream",
     "text": [
      "Epoch [23/30] - Loss: 0.0880, Train Acc: 97.08%, Val Acc: 84.42%\n",
      "Precision: 0.8486, Recall: 0.8444, F1-score: 0.8440\n"
     ]
    },
    {
     "name": "stderr",
     "output_type": "stream",
     "text": [
      "Epoch [24/30]: 100%|██████████| 825/825 [00:19<00:00, 42.95it/s, acc=97, loss=0.0434]   \n"
     ]
    },
    {
     "name": "stdout",
     "output_type": "stream",
     "text": [
      "Epoch [24/30] - Loss: 0.0907, Train Acc: 97.01%, Val Acc: 83.89%\n",
      "Precision: 0.8421, Recall: 0.8388, F1-score: 0.8374\n"
     ]
    },
    {
     "name": "stderr",
     "output_type": "stream",
     "text": [
      "Epoch [25/30]: 100%|██████████| 825/825 [00:19<00:00, 43.33it/s, acc=97.2, loss=0.022]  \n"
     ]
    },
    {
     "name": "stdout",
     "output_type": "stream",
     "text": [
      "Epoch [25/30] - Loss: 0.0845, Train Acc: 97.23%, Val Acc: 85.11%\n",
      "Precision: 0.8564, Recall: 0.8508, F1-score: 0.8518\n"
     ]
    },
    {
     "name": "stderr",
     "output_type": "stream",
     "text": [
      "Epoch [26/30]: 100%|██████████| 825/825 [00:19<00:00, 43.23it/s, acc=97.5, loss=0.119]  \n"
     ]
    },
    {
     "name": "stdout",
     "output_type": "stream",
     "text": [
      "Epoch [26/30] - Loss: 0.0774, Train Acc: 97.49%, Val Acc: 84.31%\n",
      "Precision: 0.8488, Recall: 0.8434, F1-score: 0.8442\n"
     ]
    },
    {
     "name": "stderr",
     "output_type": "stream",
     "text": [
      "Epoch [27/30]: 100%|██████████| 825/825 [00:19<00:00, 43.41it/s, acc=97.3, loss=0.0704] \n"
     ]
    },
    {
     "name": "stdout",
     "output_type": "stream",
     "text": [
      "Epoch [27/30] - Loss: 0.0870, Train Acc: 97.25%, Val Acc: 85.11%\n",
      "Precision: 0.8548, Recall: 0.8510, F1-score: 0.8510\n"
     ]
    },
    {
     "name": "stderr",
     "output_type": "stream",
     "text": [
      "Epoch [28/30]: 100%|██████████| 825/825 [00:18<00:00, 43.47it/s, acc=97.4, loss=0.0742] \n"
     ]
    },
    {
     "name": "stdout",
     "output_type": "stream",
     "text": [
      "Epoch [28/30] - Loss: 0.0805, Train Acc: 97.43%, Val Acc: 84.48%\n",
      "Precision: 0.8501, Recall: 0.8449, F1-score: 0.8457\n"
     ]
    },
    {
     "name": "stderr",
     "output_type": "stream",
     "text": [
      "Epoch [29/30]: 100%|██████████| 825/825 [00:18<00:00, 43.70it/s, acc=97.6, loss=0.375]  \n"
     ]
    },
    {
     "name": "stdout",
     "output_type": "stream",
     "text": [
      "Epoch [29/30] - Loss: 0.0764, Train Acc: 97.58%, Val Acc: 85.02%\n",
      "Precision: 0.8519, Recall: 0.8497, F1-score: 0.8498\n"
     ]
    },
    {
     "name": "stderr",
     "output_type": "stream",
     "text": [
      "Epoch [30/30]: 100%|██████████| 825/825 [00:18<00:00, 43.74it/s, acc=97.8, loss=0.131]  \n"
     ]
    },
    {
     "name": "stdout",
     "output_type": "stream",
     "text": [
      "Epoch [30/30] - Loss: 0.0704, Train Acc: 97.79%, Val Acc: 84.45%\n",
      "Precision: 0.8517, Recall: 0.8443, F1-score: 0.8456\n",
      "Training Complete!\n"
     ]
    }
   ],
   "source": [
    "# training \n",
    "num_epochs = 30\n",
    "for epoch in range(num_epochs):\n",
    "    model.train()\n",
    "    running_loss = 0.0\n",
    "    correct = 0\n",
    "    total = 0\n",
    "\n",
    "    loop = tqdm(train_loader, leave=True)\n",
    "    for inputs, labels in loop:\n",
    "        inputs, labels = inputs.to(device), labels.to(device)\n",
    "\n",
    "        optimizer.zero_grad()\n",
    "        outputs = model(inputs)\n",
    "        loss = criterion(outputs, labels)\n",
    "        loss.backward()\n",
    "        optimizer.step()\n",
    "\n",
    "        # tracking loss\n",
    "        running_loss += loss.item()\n",
    "\n",
    "        # compute accuracy\n",
    "        _, predicted = torch.max(outputs, 1)\n",
    "        correct += (predicted == labels).sum().item()\n",
    "        total += labels.size(0)\n",
    "\n",
    "        # progress bar \n",
    "        loop.set_description(f\"Epoch [{epoch+1}/{num_epochs}]\")\n",
    "        loop.set_postfix(loss=loss.item(), acc=100 * correct / total)\n",
    "\n",
    "    # store metrics\n",
    "    train_losses.append(running_loss / len(train_loader))\n",
    "    train_accuracies.append(100 * correct / total)\n",
    "\n",
    "    # validation \n",
    "    model.eval()\n",
    "    val_correct = 0\n",
    "    val_total = 0\n",
    "    y_true = []\n",
    "    y_pred = []\n",
    "\n",
    "    with torch.no_grad():\n",
    "        for inputs, labels in val_loader:\n",
    "            inputs, labels = inputs.to(device), labels.to(device)\n",
    "            outputs = model(inputs)\n",
    "\n",
    "            _, predicted = torch.max(outputs, 1)\n",
    "            val_correct += (predicted == labels).sum().item()\n",
    "            val_total += labels.size(0)\n",
    "\n",
    "            # store true and predicted labels for metrics\n",
    "            y_true.extend(labels.cpu().numpy())\n",
    "            y_pred.extend(predicted.cpu().numpy())\n",
    "\n",
    "    val_accuracy = 100 * val_correct / val_total\n",
    "    val_accuracies.append(val_accuracy)\n",
    "\n",
    "    # calc precision, recall, f1\n",
    "    precision, recall, f1, _ = precision_recall_fscore_support(y_true, y_pred, average=\"macro\")\n",
    "\n",
    "    print(f\"Epoch [{epoch+1}/{num_epochs}] - Loss: {train_losses[-1]:.4f}, Train Acc: {train_accuracies[-1]:.2f}%, Val Acc: {val_accuracy:.2f}%\")\n",
    "    print(f\"Precision: {precision:.4f}, Recall: {recall:.4f}, F1-score: {f1:.4f}\")\n",
    "\n",
    "print(\"Training Complete!\")"
   ]
  },
  {
   "cell_type": "code",
   "execution_count": 52,
   "metadata": {},
   "outputs": [
    {
     "data": {
      "image/png": "[encoded data removed]",
      "text/plain": [
       "<Figure size 640x480 with 2 Axes>"
      ]
     },
     "metadata": {},
     "output_type": "display_data"
    }
   ],
   "source": [
    "# plotting the loss and accuracy\n",
    "fig, ax1 = plt.subplots()\n",
    "\n",
    "ax1.set_xlabel(\"Epoch\")\n",
    "ax1.set_ylabel(\"Loss\", color=\"tab:red\")\n",
    "ax1.plot(range(1, num_epochs + 1), train_losses, label=\"Training Loss\", color=\"tab:red\")\n",
    "ax1.tick_params(axis=\"y\", labelcolor=\"tab:red\")\n",
    "\n",
    "ax2 = ax1.twinx()\n",
    "ax2.set_ylabel(\"Accuracy (%)\", color=\"tab:blue\")\n",
    "ax2.plot(range(1, num_epochs + 1), train_accuracies, label=\"Train Acc\", linestyle=\"--\", color=\"tab:blue\")\n",
    "ax2.plot(range(1, num_epochs + 1), val_accuracies, label=\"Val Acc\", linestyle=\":\", color=\"tab:green\")\n",
    "ax2.tick_params(axis=\"y\", labelcolor=\"tab:blue\")\n",
    "\n",
    "fig.tight_layout()\n",
    "plt.title(\"Training Loss & Accuracy\")\n",
    "plt.legend()\n",
    "plt.show()"
   ]
  },
  {
   "cell_type": "code",
   "execution_count": 57,
   "metadata": {},
   "outputs": [],
   "source": [
    "# saving model down to a pkl file\n",
    "torch.save(model.state_dict(), \"quick_draw_model.pth\")"
   ]
  }
 ],
 "metadata": {
  "kernelspec": {
   "display_name": "torch",
   "language": "python",
   "name": "python3"
  },
  "language_info": {
   "codemirror_mode": {
    "name": "ipython",
    "version": 3
   },
   "file_extension": ".py",
   "mimetype": "text/x-python",
   "name": "python",
   "nbconvert_exporter": "python",
   "pygments_lexer": "ipython3",
   "version": "3.8.19"
  }
 },
 "nbformat": 4,
 "nbformat_minor": 2
}
