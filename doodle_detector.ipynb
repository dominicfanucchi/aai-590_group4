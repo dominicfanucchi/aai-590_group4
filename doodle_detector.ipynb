{
 "cells": [
  {
   "cell_type": "code",
   "execution_count": null,
   "metadata": {},
   "outputs": [],
   "source": [
    "import kagglehub\n",
    "import os\n",
    "import json\n",
    "import numpy as np\n",
    "import cv2\n",
    "from tqdm import tqdm\n",
    "import ultralytics\n",
    "from ultralytics import YOLO\n"
   ]
  },
  {
   "cell_type": "code",
   "execution_count": 2,
   "metadata": {},
   "outputs": [
    {
     "name": "stdout",
     "output_type": "stream",
     "text": [
      "Warning: Looks like you're using an outdated `kagglehub` version, please consider updating (latest version: 0.3.10)\n",
      "Downloaded path: C:\\Users\\gabri\\.cache\\kagglehub\\datasets\\google\\tinyquickdraw\\versions\\3\n"
     ]
    }
   ],
   "source": [
    "kaggle_download_path = kagglehub.dataset_download(\"google/tinyquickdraw\")\n",
    "print(\"Downloaded path:\", kaggle_download_path)"
   ]
  },
  {
   "cell_type": "code",
   "execution_count": 3,
   "metadata": {},
   "outputs": [
    {
     "name": "stdout",
     "output_type": "stream",
     "text": [
      "Downloaded files: ['baseball bat.ndjson', 'finger.ndjson', 'helmet.ndjson', 'hexagon.ndjson', 'hockey stick.ndjson', 'quickdraw_simplified', 'sketches']\n"
     ]
    }
   ],
   "source": [
    "downloaded_files = os.listdir(kaggle_download_path)\n",
    "print(\"Downloaded files:\", downloaded_files)"
   ]
  },
  {
   "cell_type": "code",
   "execution_count": null,
   "metadata": {},
   "outputs": [],
   "source": [
    "# Defining dataset paths\n",
    "ndjson_path = kaggle_download_path  # The directory containing .ndjson files\n",
    "output_path = \"C:/MSAAI/AAI-590/Data/tinyquickdraw_dataset\"  "
   ]
  },
  {
   "cell_type": "code",
   "execution_count": null,
   "metadata": {},
   "outputs": [],
   "source": [
    "# Creating output directories\n",
    "os.makedirs(output_path, exist_ok=True)\n",
    "train_path = os.path.join(output_path, \"train\")\n",
    "valid_path = os.path.join(output_path, \"valid\")\n",
    "\n",
    "os.makedirs(train_path, exist_ok=True)\n",
    "os.makedirs(valid_path, exist_ok=True)"
   ]
  },
  {
   "cell_type": "code",
   "execution_count": null,
   "metadata": {},
   "outputs": [],
   "source": [
    "# Function to draw strokes and save as PNG\n",
    "def draw_doodle(strokes, filename, save_path, img_size=256):\n",
    "    img = np.ones((img_size, img_size), dtype=np.uint8) * 255  # White background\n",
    "    for stroke in strokes:\n",
    "        for i in range(len(stroke[0]) - 1):\n",
    "            cv2.line(img, (stroke[0][i], stroke[1][i]), (stroke[0][i+1], stroke[1][i+1]), 0, 2)\n",
    "    \n",
    "    # Resizing for YOLO\n",
    "    img = cv2.resize(img, (64, 64)) \n",
    "    cv2.imwrite(os.path.join(save_path, filename), img)"
   ]
  },
  {
   "cell_type": "code",
   "execution_count": null,
   "metadata": {},
   "outputs": [
    {
     "name": "stderr",
     "output_type": "stream",
     "text": [
      "100%|██████████| 7/7 [05:29<00:00, 47.00s/it]"
     ]
    },
    {
     "name": "stdout",
     "output_type": "stream",
     "text": [
      "NDJSON to PNG conversion completed!\n"
     ]
    },
    {
     "name": "stderr",
     "output_type": "stream",
     "text": [
      "\n"
     ]
    }
   ],
   "source": [
    "# Processing each .ndjson file\n",
    "for file in tqdm(os.listdir(ndjson_path)):\n",
    "    if file.endswith(\".ndjson\"):\n",
    "        label = file.replace(\".ndjson\", \"\")  # Using filename as class label\n",
    "        label_path = os.path.join(train_path, label)\n",
    "        os.makedirs(label_path, exist_ok=True)\n",
    "\n",
    "        with open(os.path.join(ndjson_path, file), \"r\") as f:\n",
    "            drawings = [json.loads(line) for line in f]\n",
    "\n",
    "        # Saving first 80% to train, last 20% to validation\n",
    "        num_train = int(len(drawings) * 0.8)\n",
    "        \n",
    "        for i, drawing in enumerate(drawings):\n",
    "            filename = f\"{label}_{i}.png\"\n",
    "            save_dir = train_path if i < num_train else valid_path\n",
    "            save_label_path = os.path.join(save_dir, label)\n",
    "            os.makedirs(save_label_path, exist_ok=True)\n",
    "            draw_doodle(drawing[\"drawing\"], filename, save_label_path)\n",
    "\n",
    "print(\"NDJSON to PNG conversion completed!\")"
   ]
  },
  {
   "cell_type": "markdown",
   "metadata": {},
   "source": [
    "Defining YOLO Dataset config:"
   ]
  },
  {
   "cell_type": "code",
   "execution_count": null,
   "metadata": {},
   "outputs": [
    {
     "name": "stderr",
     "output_type": "stream",
     "text": [
      "100%|██████████| 548967/548967 [02:03<00:00, 4456.74it/s]\n",
      "100%|██████████| 137243/137243 [00:28<00:00, 4735.53it/s]"
     ]
    },
    {
     "name": "stdout",
     "output_type": "stream",
     "text": [
      "YOLO annotations created successfully!\n"
     ]
    },
    {
     "name": "stderr",
     "output_type": "stream",
     "text": [
      "\n"
     ]
    }
   ],
   "source": [
    "import glob\n",
    "\n",
    "# YOLO annotation format: <class_id> <x_center> <y_center> <width> <height>\n",
    "def create_yolo_labels(image_folder, label_folder, class_mapping):\n",
    "    os.makedirs(label_folder, exist_ok=True)\n",
    "    images = glob.glob(os.path.join(image_folder, \"*/*.png\"))\n",
    "\n",
    "    for img_path in tqdm(images):\n",
    "        img_name = os.path.basename(img_path)\n",
    "        class_name = os.path.basename(os.path.dirname(img_path))\n",
    "        class_id = class_mapping[class_name]\n",
    "\n",
    "        label_path = os.path.join(label_folder, img_name.replace(\".png\", \".txt\"))\n",
    "        with open(label_path, \"w\") as f:\n",
    "            f.write(f\"{class_id} 0.5 0.5 1 1\\n\")  # Bounding box: whole image\n",
    "\n",
    "# Creating class mapping\n",
    "class_names = sorted([f.replace(\".ndjson\", \"\") for f in os.listdir(ndjson_path) if f.endswith(\".ndjson\")])\n",
    "class_mapping = {name: i for i, name in enumerate(class_names)}\n",
    "\n",
    "# Generating labels\n",
    "create_yolo_labels(train_path, os.path.join(output_path, \"train_labels\"), class_mapping)\n",
    "create_yolo_labels(valid_path, os.path.join(output_path, \"valid_labels\"), class_mapping)\n",
    "\n",
    "print(\"YOLO annotations created successfully!\")"
   ]
  },
  {
   "cell_type": "code",
   "execution_count": null,
   "metadata": {},
   "outputs": [
    {
     "name": "stdout",
     "output_type": "stream",
     "text": [
      "Dataset configuration saved as data.yaml\n"
     ]
    }
   ],
   "source": [
    "data_yaml = f\"\"\"train: {output_path}/train\n",
    "val: {output_path}/valid\n",
    "\n",
    "nc: {len(class_names)}  # Number of classes\n",
    "names: {class_names}\n",
    "\"\"\"\n",
    "\n",
    "# Saving data.yaml\n",
    "with open(\"data.yaml\", \"w\") as f:\n",
    "    f.write(data_yaml)\n",
    "\n",
    "print(\"Dataset configuration saved as data.yaml\")\n",
    "\n"
   ]
  },
  {
   "cell_type": "code",
   "execution_count": null,
   "metadata": {},
   "outputs": [
    {
     "name": "stdout",
     "output_type": "stream",
     "text": [
      "CUDA Available: True\n",
      "Ultralytics Version: 8.3.64\n"
     ]
    }
   ],
   "source": [
    "print(\"CUDA Available:\", torch.cuda.is_available())\n",
    "print(\"Ultralytics Version:\", ultralytics.__version__)"
   ]
  },
  {
   "cell_type": "code",
   "execution_count": null,
   "metadata": {},
   "outputs": [
    {
     "name": "stdout",
     "output_type": "stream",
     "text": [
      "Collecting ultralytics==8.3.60\n",
      "  Downloading ultralytics-8.3.60-py3-none-any.whl.metadata (35 kB)\n",
      "Requirement already satisfied: numpy>=1.23.0 in c:\\users\\gabri\\anaconda3\\envs\\torch_cv\\lib\\site-packages (from ultralytics==8.3.60) (1.23.5)\n",
      "Requirement already satisfied: matplotlib>=3.3.0 in c:\\users\\gabri\\anaconda3\\envs\\torch_cv\\lib\\site-packages (from ultralytics==8.3.60) (3.9.2)\n",
      "Requirement already satisfied: opencv-python>=4.6.0 in c:\\users\\gabri\\anaconda3\\envs\\torch_cv\\lib\\site-packages (from ultralytics==8.3.60) (4.10.0.84)\n",
      "Requirement already satisfied: pillow>=7.1.2 in c:\\users\\gabri\\anaconda3\\envs\\torch_cv\\lib\\site-packages (from ultralytics==8.3.60) (10.4.0)\n",
      "Requirement already satisfied: pyyaml>=5.3.1 in c:\\users\\gabri\\anaconda3\\envs\\torch_cv\\lib\\site-packages (from ultralytics==8.3.60) (6.0.1)\n",
      "Requirement already satisfied: requests>=2.23.0 in c:\\users\\gabri\\anaconda3\\envs\\torch_cv\\lib\\site-packages (from ultralytics==8.3.60) (2.32.3)\n",
      "Requirement already satisfied: scipy>=1.4.1 in c:\\users\\gabri\\anaconda3\\envs\\torch_cv\\lib\\site-packages (from ultralytics==8.3.60) (1.13.1)\n",
      "Requirement already satisfied: torch>=1.8.0 in c:\\users\\gabri\\anaconda3\\envs\\torch_cv\\lib\\site-packages (from ultralytics==8.3.60) (2.4.1)\n",
      "Requirement already satisfied: torchvision>=0.9.0 in c:\\users\\gabri\\anaconda3\\envs\\torch_cv\\lib\\site-packages (from ultralytics==8.3.60) (0.19.1)\n",
      "Requirement already satisfied: tqdm>=4.64.0 in c:\\users\\gabri\\anaconda3\\envs\\torch_cv\\lib\\site-packages (from ultralytics==8.3.60) (4.66.5)\n",
      "Requirement already satisfied: psutil in c:\\users\\gabri\\anaconda3\\envs\\torch_cv\\lib\\site-packages (from ultralytics==8.3.60) (5.9.0)\n",
      "Requirement already satisfied: py-cpuinfo in c:\\users\\gabri\\anaconda3\\envs\\torch_cv\\lib\\site-packages (from ultralytics==8.3.60) (9.0.0)\n",
      "Requirement already satisfied: pandas>=1.1.4 in c:\\users\\gabri\\anaconda3\\envs\\torch_cv\\lib\\site-packages (from ultralytics==8.3.60) (2.2.2)\n",
      "Requirement already satisfied: seaborn>=0.11.0 in c:\\users\\gabri\\anaconda3\\envs\\torch_cv\\lib\\site-packages (from ultralytics==8.3.60) (0.13.2)\n",
      "Requirement already satisfied: ultralytics-thop>=2.0.0 in c:\\users\\gabri\\anaconda3\\envs\\torch_cv\\lib\\site-packages (from ultralytics==8.3.60) (2.0.14)\n",
      "Requirement already satisfied: contourpy>=1.0.1 in c:\\users\\gabri\\anaconda3\\envs\\torch_cv\\lib\\site-packages (from matplotlib>=3.3.0->ultralytics==8.3.60) (1.2.0)\n",
      "Requirement already satisfied: cycler>=0.10 in c:\\users\\gabri\\anaconda3\\envs\\torch_cv\\lib\\site-packages (from matplotlib>=3.3.0->ultralytics==8.3.60) (0.11.0)\n",
      "Requirement already satisfied: fonttools>=4.22.0 in c:\\users\\gabri\\anaconda3\\envs\\torch_cv\\lib\\site-packages (from matplotlib>=3.3.0->ultralytics==8.3.60) (4.51.0)\n",
      "Requirement already satisfied: kiwisolver>=1.3.1 in c:\\users\\gabri\\anaconda3\\envs\\torch_cv\\lib\\site-packages (from matplotlib>=3.3.0->ultralytics==8.3.60) (1.4.4)\n",
      "Requirement already satisfied: packaging>=20.0 in c:\\users\\gabri\\anaconda3\\envs\\torch_cv\\lib\\site-packages (from matplotlib>=3.3.0->ultralytics==8.3.60) (24.1)\n",
      "Requirement already satisfied: pyparsing>=2.3.1 in c:\\users\\gabri\\anaconda3\\envs\\torch_cv\\lib\\site-packages (from matplotlib>=3.3.0->ultralytics==8.3.60) (3.1.2)\n",
      "Requirement already satisfied: python-dateutil>=2.7 in c:\\users\\gabri\\anaconda3\\envs\\torch_cv\\lib\\site-packages (from matplotlib>=3.3.0->ultralytics==8.3.60) (2.9.0.post0)\n",
      "Requirement already satisfied: pytz>=2020.1 in c:\\users\\gabri\\anaconda3\\envs\\torch_cv\\lib\\site-packages (from pandas>=1.1.4->ultralytics==8.3.60) (2024.1)\n",
      "Requirement already satisfied: tzdata>=2022.7 in c:\\users\\gabri\\anaconda3\\envs\\torch_cv\\lib\\site-packages (from pandas>=1.1.4->ultralytics==8.3.60) (2023.3)\n",
      "Requirement already satisfied: charset-normalizer<4,>=2 in c:\\users\\gabri\\anaconda3\\envs\\torch_cv\\lib\\site-packages (from requests>=2.23.0->ultralytics==8.3.60) (3.3.2)\n",
      "Requirement already satisfied: idna<4,>=2.5 in c:\\users\\gabri\\anaconda3\\envs\\torch_cv\\lib\\site-packages (from requests>=2.23.0->ultralytics==8.3.60) (3.7)\n",
      "Requirement already satisfied: urllib3<3,>=1.21.1 in c:\\users\\gabri\\anaconda3\\envs\\torch_cv\\lib\\site-packages (from requests>=2.23.0->ultralytics==8.3.60) (2.2.2)\n",
      "Requirement already satisfied: certifi>=2017.4.17 in c:\\users\\gabri\\anaconda3\\envs\\torch_cv\\lib\\site-packages (from requests>=2.23.0->ultralytics==8.3.60) (2024.12.14)\n",
      "Requirement already satisfied: filelock in c:\\users\\gabri\\anaconda3\\envs\\torch_cv\\lib\\site-packages (from torch>=1.8.0->ultralytics==8.3.60) (3.13.1)\n",
      "Requirement already satisfied: typing-extensions>=4.8.0 in c:\\users\\gabri\\anaconda3\\envs\\torch_cv\\lib\\site-packages (from torch>=1.8.0->ultralytics==8.3.60) (4.11.0)\n",
      "Requirement already satisfied: sympy in c:\\users\\gabri\\anaconda3\\envs\\torch_cv\\lib\\site-packages (from torch>=1.8.0->ultralytics==8.3.60) (1.13.2)\n",
      "Requirement already satisfied: networkx in c:\\users\\gabri\\anaconda3\\envs\\torch_cv\\lib\\site-packages (from torch>=1.8.0->ultralytics==8.3.60) (3.2.1)\n",
      "Requirement already satisfied: jinja2 in c:\\users\\gabri\\anaconda3\\envs\\torch_cv\\lib\\site-packages (from torch>=1.8.0->ultralytics==8.3.60) (3.1.4)\n",
      "Requirement already satisfied: fsspec in c:\\users\\gabri\\anaconda3\\envs\\torch_cv\\lib\\site-packages (from torch>=1.8.0->ultralytics==8.3.60) (2024.3.1)\n",
      "Requirement already satisfied: colorama in c:\\users\\gabri\\anaconda3\\envs\\torch_cv\\lib\\site-packages (from tqdm>=4.64.0->ultralytics==8.3.60) (0.4.6)\n",
      "Requirement already satisfied: six>=1.5 in c:\\users\\gabri\\anaconda3\\envs\\torch_cv\\lib\\site-packages (from python-dateutil>=2.7->matplotlib>=3.3.0->ultralytics==8.3.60) (1.16.0)\n",
      "Requirement already satisfied: MarkupSafe>=2.0 in c:\\users\\gabri\\anaconda3\\envs\\torch_cv\\lib\\site-packages (from jinja2->torch>=1.8.0->ultralytics==8.3.60) (2.1.3)\n",
      "Requirement already satisfied: mpmath<1.4,>=1.1.0 in c:\\users\\gabri\\anaconda3\\envs\\torch_cv\\lib\\site-packages (from sympy->torch>=1.8.0->ultralytics==8.3.60) (1.3.0)\n",
      "Downloading ultralytics-8.3.60-py3-none-any.whl (906 kB)\n",
      "   ---------------------------------------- 0.0/906.9 kB ? eta -:--:--\n",
      "   --------------------------------------- 906.9/906.9 kB 20.8 MB/s eta 0:00:00\n",
      "Installing collected packages: ultralytics\n",
      "  Attempting uninstall: ultralytics\n",
      "    Found existing installation: ultralytics 8.3.91\n",
      "    Uninstalling ultralytics-8.3.91:\n",
      "      Successfully uninstalled ultralytics-8.3.91\n",
      "Successfully installed ultralytics-8.3.60\n",
      "Note: you may need to restart the kernel to use updated packages.\n"
     ]
    }
   ],
   "source": [
    "#lowering ultralytics version for compatability \n",
    "pip install ultralytics==8.3.60"
   ]
  },
  {
   "cell_type": "code",
   "execution_count": 20,
   "metadata": {},
   "outputs": [
    {
     "name": "stdout",
     "output_type": "stream",
     "text": [
      "Train folder contents: ['baseball bat', 'baseball bat.cache', 'finger', 'helmet', 'hexagon', 'hockey stick']\n"
     ]
    }
   ],
   "source": [
    "train_path = \"C:/MSAAI/AAI-590/Data/tinyquickdraw_dataset/train\"\n",
    "print(\"Train folder contents:\", os.listdir(train_path))\n"
   ]
  },
  {
   "cell_type": "code",
   "execution_count": null,
   "metadata": {},
   "outputs": [
    {
     "name": "stdout",
     "output_type": "stream",
     "text": [
      "New https://pypi.org/project/ultralytics/8.3.91 available  Update with 'pip install -U ultralytics'\n",
      "Ultralytics 8.3.64  Python-3.10.14 torch-2.4.1 CUDA:0 (NVIDIA GeForce RTX 4070 Ti, 12282MiB)\n",
      "\u001b[34m\u001b[1mengine\\trainer: \u001b[0mtask=detect, mode=train, model=yolov8n.pt, data=data.yaml, epochs=10, time=None, patience=100, batch=8, imgsz=128, save=True, save_period=-1, cache=False, device=cuda, workers=0, project=None, name=train13, exist_ok=False, pretrained=True, optimizer=auto, verbose=True, seed=0, deterministic=True, single_cls=False, rect=False, cos_lr=False, close_mosaic=10, resume=False, amp=True, fraction=1.0, profile=False, freeze=None, multi_scale=False, overlap_mask=True, mask_ratio=4, dropout=0.0, val=True, split=val, save_json=False, save_hybrid=False, conf=None, iou=0.7, max_det=300, half=False, dnn=False, plots=True, source=None, vid_stride=1, stream_buffer=False, visualize=False, augment=False, agnostic_nms=False, classes=None, retina_masks=False, embed=None, show=False, save_frames=False, save_txt=False, save_conf=False, save_crop=False, show_labels=True, show_conf=True, show_boxes=True, line_width=None, format=torchscript, keras=False, optimize=False, int8=False, dynamic=False, simplify=True, opset=None, workspace=None, nms=False, lr0=0.01, lrf=0.01, momentum=0.937, weight_decay=0.0005, warmup_epochs=3.0, warmup_momentum=0.8, warmup_bias_lr=0.1, box=7.5, cls=0.5, dfl=1.5, pose=12.0, kobj=1.0, nbs=64, hsv_h=0.015, hsv_s=0.7, hsv_v=0.4, degrees=0.0, translate=0.1, scale=0.5, shear=0.0, perspective=0.0, flipud=0.0, fliplr=0.5, bgr=0.0, mosaic=1.0, mixup=0.0, copy_paste=0.0, copy_paste_mode=flip, auto_augment=randaugment, erasing=0.4, crop_fraction=1.0, cfg=None, tracker=botsort.yaml, save_dir=c:\\Users\\gabri\\runs\\detect\\train13\n",
      "Overriding model.yaml nc=80 with nc=5\n",
      "\n",
      "                   from  n    params  module                                       arguments                     \n",
      "  0                  -1  1       464  ultralytics.nn.modules.conv.Conv             [3, 16, 3, 2]                 \n",
      "  1                  -1  1      4672  ultralytics.nn.modules.conv.Conv             [16, 32, 3, 2]                \n",
      "  2                  -1  1      7360  ultralytics.nn.modules.block.C2f             [32, 32, 1, True]             \n",
      "  3                  -1  1     18560  ultralytics.nn.modules.conv.Conv             [32, 64, 3, 2]                \n",
      "  4                  -1  2     49664  ultralytics.nn.modules.block.C2f             [64, 64, 2, True]             \n",
      "  5                  -1  1     73984  ultralytics.nn.modules.conv.Conv             [64, 128, 3, 2]               \n",
      "  6                  -1  2    197632  ultralytics.nn.modules.block.C2f             [128, 128, 2, True]           \n",
      "  7                  -1  1    295424  ultralytics.nn.modules.conv.Conv             [128, 256, 3, 2]              \n",
      "  8                  -1  1    460288  ultralytics.nn.modules.block.C2f             [256, 256, 1, True]           \n",
      "  9                  -1  1    164608  ultralytics.nn.modules.block.SPPF            [256, 256, 5]                 \n",
      " 10                  -1  1         0  torch.nn.modules.upsampling.Upsample         [None, 2, 'nearest']          \n",
      " 11             [-1, 6]  1         0  ultralytics.nn.modules.conv.Concat           [1]                           \n",
      " 12                  -1  1    148224  ultralytics.nn.modules.block.C2f             [384, 128, 1]                 \n",
      " 13                  -1  1         0  torch.nn.modules.upsampling.Upsample         [None, 2, 'nearest']          \n",
      " 14             [-1, 4]  1         0  ultralytics.nn.modules.conv.Concat           [1]                           \n",
      " 15                  -1  1     37248  ultralytics.nn.modules.block.C2f             [192, 64, 1]                  \n",
      " 16                  -1  1     36992  ultralytics.nn.modules.conv.Conv             [64, 64, 3, 2]                \n",
      " 17            [-1, 12]  1         0  ultralytics.nn.modules.conv.Concat           [1]                           \n",
      " 18                  -1  1    123648  ultralytics.nn.modules.block.C2f             [192, 128, 1]                 \n",
      " 19                  -1  1    147712  ultralytics.nn.modules.conv.Conv             [128, 128, 3, 2]              \n",
      " 20             [-1, 9]  1         0  ultralytics.nn.modules.conv.Concat           [1]                           \n",
      " 21                  -1  1    493056  ultralytics.nn.modules.block.C2f             [384, 256, 1]                 \n",
      " 22        [15, 18, 21]  1    752287  ultralytics.nn.modules.head.Detect           [5, [64, 128, 256]]           \n",
      "Model summary: 225 layers, 3,011,823 parameters, 3,011,807 gradients, 8.2 GFLOPs\n",
      "\n",
      "Transferred 319/355 items from pretrained weights\n",
      "\u001b[34m\u001b[1mTensorBoard: \u001b[0mStart with 'tensorboard --logdir c:\\Users\\gabri\\runs\\detect\\train13', view at http://localhost:6006/\n",
      "Freezing layer 'model.22.dfl.conv.weight'\n",
      "\u001b[34m\u001b[1mAMP: \u001b[0mrunning Automatic Mixed Precision (AMP) checks...\n",
      "\u001b[34m\u001b[1mAMP: \u001b[0mchecks passed \n"
     ]
    },
    {
     "name": "stderr",
     "output_type": "stream",
     "text": [
      "\u001b[34m\u001b[1mtrain: \u001b[0mScanning C:\\MSAAI\\AAI-590\\Data\\tinyquickdraw_dataset\\train\\baseball bat.cache... 0 images, 548967 backgrounds, 0 corrupt: 100%|██████████| 548967/548967 [00:00<?, ?it/s]\n"
     ]
    },
    {
     "name": "stdout",
     "output_type": "stream",
     "text": [
      "WARNING  No labels found in C:\\MSAAI\\AAI-590\\Data\\tinyquickdraw_dataset\\train\\baseball bat.cache, training may not work correctly. See https://docs.ultralytics.com/datasets for dataset formatting guidance.\n"
     ]
    },
    {
     "name": "stderr",
     "output_type": "stream",
     "text": [
      "\u001b[34m\u001b[1mval: \u001b[0mScanning C:\\MSAAI\\AAI-590\\Data\\tinyquickdraw_dataset\\valid\\baseball bat.cache... 0 images, 137243 backgrounds, 0 corrupt: 100%|██████████| 137243/137243 [00:00<?, ?it/s]"
     ]
    },
    {
     "name": "stdout",
     "output_type": "stream",
     "text": [
      "WARNING  No labels found in C:\\MSAAI\\AAI-590\\Data\\tinyquickdraw_dataset\\valid\\baseball bat.cache, training may not work correctly. See https://docs.ultralytics.com/datasets for dataset formatting guidance.\n"
     ]
    },
    {
     "name": "stderr",
     "output_type": "stream",
     "text": [
      "\n"
     ]
    },
    {
     "name": "stdout",
     "output_type": "stream",
     "text": [
      "Plotting labels to c:\\Users\\gabri\\runs\\detect\\train13\\labels.jpg... \n",
      "zero-size array to reduction operation maximum which has no identity\n",
      "\u001b[34m\u001b[1moptimizer:\u001b[0m 'optimizer=auto' found, ignoring 'lr0=0.01' and 'momentum=0.937' and determining best 'optimizer', 'lr0' and 'momentum' automatically... \n",
      "\u001b[34m\u001b[1moptimizer:\u001b[0m SGD(lr=0.01, momentum=0.9) with parameter groups 57 weight(decay=0.0), 64 weight(decay=0.0005), 63 bias(decay=0.0)\n",
      "\u001b[34m\u001b[1mTensorBoard: \u001b[0mmodel graph visualization added \n",
      "Image sizes 128 train, 128 val\n",
      "Using 0 dataloader workers\n",
      "Logging results to \u001b[1mc:\\Users\\gabri\\runs\\detect\\train13\u001b[0m\n",
      "Starting training for 10 epochs...\n",
      "Closing dataloader mosaic\n",
      "\n",
      "      Epoch    GPU_mem   box_loss   cls_loss   dfl_loss  Instances       Size\n"
     ]
    },
    {
     "name": "stderr",
     "output_type": "stream",
     "text": [
      "       1/10     0.197G          0     0.0684          0          0        128: 100%|██████████| 68621/68621 [1:24:50<00:00, 13.48it/s]\n",
      "                 Class     Images  Instances      Box(P          R      mAP50  mAP50-95): 100%|██████████| 8578/8578 [09:49<00:00, 14.55it/s]\n"
     ]
    },
    {
     "ename": "RuntimeError",
     "evalue": "torch.cat(): expected a non-empty list of Tensors",
     "output_type": "error",
     "traceback": [
      "\u001b[1;31m---------------------------------------------------------------------------\u001b[0m",
      "\u001b[1;31mRuntimeError\u001b[0m                              Traceback (most recent call last)",
      "Cell \u001b[1;32mIn[19], line 5\u001b[0m\n\u001b[0;32m      2\u001b[0m model \u001b[38;5;241m=\u001b[39m YOLO(\u001b[38;5;124m\"\u001b[39m\u001b[38;5;124myolov8n.pt\u001b[39m\u001b[38;5;124m\"\u001b[39m)\n\u001b[0;32m      4\u001b[0m \u001b[38;5;66;03m# Train the model using the optimized settings\u001b[39;00m\n\u001b[1;32m----> 5\u001b[0m \u001b[43mmodel\u001b[49m\u001b[38;5;241;43m.\u001b[39;49m\u001b[43mtrain\u001b[49m\u001b[43m(\u001b[49m\n\u001b[0;32m      6\u001b[0m \u001b[43m    \u001b[49m\u001b[43mdata\u001b[49m\u001b[38;5;241;43m=\u001b[39;49m\u001b[38;5;124;43m\"\u001b[39;49m\u001b[38;5;124;43mdata.yaml\u001b[39;49m\u001b[38;5;124;43m\"\u001b[39;49m\u001b[43m,\u001b[49m\u001b[43m    \u001b[49m\u001b[38;5;66;43;03m# Your dataset configuration file\u001b[39;49;00m\n\u001b[0;32m      7\u001b[0m \u001b[43m    \u001b[49m\u001b[43mepochs\u001b[49m\u001b[38;5;241;43m=\u001b[39;49m\u001b[38;5;241;43m10\u001b[39;49m\u001b[43m,\u001b[49m\u001b[43m           \u001b[49m\u001b[38;5;66;43;03m# Number of training epochs\u001b[39;49;00m\n\u001b[0;32m      8\u001b[0m \u001b[43m    \u001b[49m\u001b[43mimgsz\u001b[49m\u001b[38;5;241;43m=\u001b[39;49m\u001b[38;5;241;43m128\u001b[39;49m\u001b[43m,\u001b[49m\u001b[43m           \u001b[49m\u001b[38;5;66;43;03m# Image size (128x128 works well for doodles)\u001b[39;49;00m\n\u001b[0;32m      9\u001b[0m \u001b[43m    \u001b[49m\u001b[43mbatch\u001b[49m\u001b[38;5;241;43m=\u001b[39;49m\u001b[38;5;241;43m8\u001b[39;49m\u001b[43m,\u001b[49m\u001b[43m             \u001b[49m\u001b[38;5;66;43;03m# Batch size\u001b[39;49;00m\n\u001b[0;32m     10\u001b[0m \u001b[43m    \u001b[49m\u001b[43mdevice\u001b[49m\u001b[38;5;241;43m=\u001b[39;49m\u001b[38;5;124;43m\"\u001b[39;49m\u001b[38;5;124;43mcuda\u001b[39;49m\u001b[38;5;124;43m\"\u001b[39;49m\u001b[43m,\u001b[49m\u001b[43m       \u001b[49m\u001b[38;5;66;43;03m# Use GPU\u001b[39;49;00m\n\u001b[0;32m     11\u001b[0m \u001b[43m    \u001b[49m\u001b[43mworkers\u001b[49m\u001b[38;5;241;43m=\u001b[39;49m\u001b[38;5;241;43m0\u001b[39;49m\u001b[43m           \u001b[49m\u001b[38;5;66;43;03m# Use 0 workers to avoid multiprocessing issues on Windows\u001b[39;49;00m\n\u001b[0;32m     12\u001b[0m \u001b[43m)\u001b[49m\n",
      "File \u001b[1;32mc:\\Users\\gabri\\anaconda3\\envs\\Torch_CV\\lib\\site-packages\\ultralytics\\engine\\model.py:806\u001b[0m, in \u001b[0;36mtrain\u001b[1;34m(self, trainer, **kwargs)\u001b[0m\n\u001b[0;32m    797\u001b[0m         self.metrics = getattr(self.trainer.validator, \"metrics\", None)  # TODO: no metrics returned by DDP\n\u001b[0;32m    798\u001b[0m     return self.metrics\n\u001b[0;32m    800\u001b[0m def tune(\n\u001b[0;32m    801\u001b[0m     self,\n\u001b[0;32m    802\u001b[0m     use_ray=False,\n\u001b[0;32m    803\u001b[0m     iterations=10,\n\u001b[0;32m    804\u001b[0m     *args: Any,\n\u001b[0;32m    805\u001b[0m     **kwargs: Any,\n\u001b[1;32m--> 806\u001b[0m ):\n\u001b[0;32m    807\u001b[0m     \"\"\"\n\u001b[0;32m    808\u001b[0m     Conducts hyperparameter tuning for the model, with an option to use Ray Tune.\n\u001b[0;32m    809\u001b[0m \n\u001b[1;32m   (...)\u001b[0m\n\u001b[0;32m    834\u001b[0m         >>> results = model.tune(use_ray=True, iterations=20, data=\"coco8.yaml\")\n\u001b[0;32m    835\u001b[0m     \"\"\"\n\u001b[0;32m    836\u001b[0m     self._check_is_pytorch_model()\n",
      "File \u001b[1;32mc:\\Users\\gabri\\anaconda3\\envs\\Torch_CV\\lib\\site-packages\\ultralytics\\engine\\trainer.py:207\u001b[0m, in \u001b[0;36mtrain\u001b[1;34m(self)\u001b[0m\n\u001b[0;32m    205\u001b[0m     except Exception as e:\n\u001b[0;32m    206\u001b[0m         raise e\n\u001b[1;32m--> 207\u001b[0m     finally:\n\u001b[0;32m    208\u001b[0m         ddp_cleanup(self, str(file))\n\u001b[0;32m    210\u001b[0m else:\n",
      "File \u001b[1;32mc:\\Users\\gabri\\anaconda3\\envs\\Torch_CV\\lib\\site-packages\\ultralytics\\engine\\trainer.py:433\u001b[0m, in \u001b[0;36m_do_train\u001b[1;34m(self, world_size)\u001b[0m\n\u001b[0;32m      0\u001b[0m <Error retrieving source code with stack_data see ipython/ipython#13598>\n",
      "File \u001b[1;32mc:\\Users\\gabri\\anaconda3\\envs\\Torch_CV\\lib\\site-packages\\ultralytics\\engine\\trainer.py:606\u001b[0m, in \u001b[0;36mvalidate\u001b[1;34m(self)\u001b[0m\n\u001b[0;32m    600\u001b[0m \u001b[38;5;250m\u001b[39m\u001b[38;5;124;03m\"\"\"\u001b[39;00m\n\u001b[0;32m    601\u001b[0m \u001b[38;5;124;03mRuns validation on test set using self.validator.\u001b[39;00m\n\u001b[0;32m    602\u001b[0m \n\u001b[0;32m    603\u001b[0m \u001b[38;5;124;03mThe returned dict is expected to contain \"fitness\" key.\u001b[39;00m\n\u001b[0;32m    604\u001b[0m \u001b[38;5;124;03m\"\"\"\u001b[39;00m\n\u001b[0;32m    605\u001b[0m metrics \u001b[38;5;241m=\u001b[39m \u001b[38;5;28mself\u001b[39m\u001b[38;5;241m.\u001b[39mvalidator(\u001b[38;5;28mself\u001b[39m)\n\u001b[1;32m--> 606\u001b[0m fitness \u001b[38;5;241m=\u001b[39m metrics\u001b[38;5;241m.\u001b[39mpop(\u001b[38;5;124m\"\u001b[39m\u001b[38;5;124mfitness\u001b[39m\u001b[38;5;124m\"\u001b[39m, \u001b[38;5;241m-\u001b[39m\u001b[38;5;28mself\u001b[39m\u001b[38;5;241m.\u001b[39mloss\u001b[38;5;241m.\u001b[39mdetach()\u001b[38;5;241m.\u001b[39mcpu()\u001b[38;5;241m.\u001b[39mnumpy())  \u001b[38;5;66;03m# use loss as fitness measure if not found\u001b[39;00m\n\u001b[0;32m    607\u001b[0m \u001b[38;5;28;01mif\u001b[39;00m \u001b[38;5;129;01mnot\u001b[39;00m \u001b[38;5;28mself\u001b[39m\u001b[38;5;241m.\u001b[39mbest_fitness \u001b[38;5;129;01mor\u001b[39;00m \u001b[38;5;28mself\u001b[39m\u001b[38;5;241m.\u001b[39mbest_fitness \u001b[38;5;241m<\u001b[39m fitness:\n\u001b[0;32m    608\u001b[0m     \u001b[38;5;28mself\u001b[39m\u001b[38;5;241m.\u001b[39mbest_fitness \u001b[38;5;241m=\u001b[39m fitness\n",
      "File \u001b[1;32mc:\\Users\\gabri\\anaconda3\\envs\\Torch_CV\\lib\\site-packages\\torch\\utils\\_contextlib.py:116\u001b[0m, in \u001b[0;36mcontext_decorator.<locals>.decorate_context\u001b[1;34m(*args, **kwargs)\u001b[0m\n\u001b[0;32m    113\u001b[0m \u001b[38;5;129m@functools\u001b[39m\u001b[38;5;241m.\u001b[39mwraps(func)\n\u001b[0;32m    114\u001b[0m \u001b[38;5;28;01mdef\u001b[39;00m \u001b[38;5;21mdecorate_context\u001b[39m(\u001b[38;5;241m*\u001b[39margs, \u001b[38;5;241m*\u001b[39m\u001b[38;5;241m*\u001b[39mkwargs):\n\u001b[0;32m    115\u001b[0m     \u001b[38;5;28;01mwith\u001b[39;00m ctx_factory():\n\u001b[1;32m--> 116\u001b[0m         \u001b[38;5;28;01mreturn\u001b[39;00m func(\u001b[38;5;241m*\u001b[39margs, \u001b[38;5;241m*\u001b[39m\u001b[38;5;241m*\u001b[39mkwargs)\n",
      "File \u001b[1;32mc:\\Users\\gabri\\anaconda3\\envs\\Torch_CV\\lib\\site-packages\\ultralytics\\engine\\validator.py:197\u001b[0m, in \u001b[0;36mBaseValidator.__call__\u001b[1;34m(self, trainer, model)\u001b[0m\n\u001b[0;32m    194\u001b[0m         \u001b[38;5;28mself\u001b[39m\u001b[38;5;241m.\u001b[39mplot_predictions(batch, preds, batch_i)\n\u001b[0;32m    196\u001b[0m     \u001b[38;5;28mself\u001b[39m\u001b[38;5;241m.\u001b[39mrun_callbacks(\u001b[38;5;124m\"\u001b[39m\u001b[38;5;124mon_val_batch_end\u001b[39m\u001b[38;5;124m\"\u001b[39m)\n\u001b[1;32m--> 197\u001b[0m stats \u001b[38;5;241m=\u001b[39m \u001b[38;5;28;43mself\u001b[39;49m\u001b[38;5;241;43m.\u001b[39;49m\u001b[43mget_stats\u001b[49m\u001b[43m(\u001b[49m\u001b[43m)\u001b[49m\n\u001b[0;32m    198\u001b[0m \u001b[38;5;28mself\u001b[39m\u001b[38;5;241m.\u001b[39mcheck_stats(stats)\n\u001b[0;32m    199\u001b[0m \u001b[38;5;28mself\u001b[39m\u001b[38;5;241m.\u001b[39mspeed \u001b[38;5;241m=\u001b[39m \u001b[38;5;28mdict\u001b[39m(\u001b[38;5;28mzip\u001b[39m(\u001b[38;5;28mself\u001b[39m\u001b[38;5;241m.\u001b[39mspeed\u001b[38;5;241m.\u001b[39mkeys(), (x\u001b[38;5;241m.\u001b[39mt \u001b[38;5;241m/\u001b[39m \u001b[38;5;28mlen\u001b[39m(\u001b[38;5;28mself\u001b[39m\u001b[38;5;241m.\u001b[39mdataloader\u001b[38;5;241m.\u001b[39mdataset) \u001b[38;5;241m*\u001b[39m \u001b[38;5;241m1e3\u001b[39m \u001b[38;5;28;01mfor\u001b[39;00m x \u001b[38;5;129;01min\u001b[39;00m dt)))\n",
      "File \u001b[1;32mc:\\Users\\gabri\\anaconda3\\envs\\Torch_CV\\lib\\site-packages\\ultralytics\\models\\yolo\\detect\\val.py:181\u001b[0m, in \u001b[0;36mDetectionValidator.get_stats\u001b[1;34m(self)\u001b[0m\n\u001b[0;32m    179\u001b[0m \u001b[38;5;28;01mdef\u001b[39;00m \u001b[38;5;21mget_stats\u001b[39m(\u001b[38;5;28mself\u001b[39m):\n\u001b[0;32m    180\u001b[0m \u001b[38;5;250m    \u001b[39m\u001b[38;5;124;03m\"\"\"Returns metrics statistics and results dictionary.\"\"\"\u001b[39;00m\n\u001b[1;32m--> 181\u001b[0m     stats \u001b[38;5;241m=\u001b[39m {k: torch\u001b[38;5;241m.\u001b[39mcat(v, \u001b[38;5;241m0\u001b[39m)\u001b[38;5;241m.\u001b[39mcpu()\u001b[38;5;241m.\u001b[39mnumpy() \u001b[38;5;28;01mfor\u001b[39;00m k, v \u001b[38;5;129;01min\u001b[39;00m \u001b[38;5;28mself\u001b[39m\u001b[38;5;241m.\u001b[39mstats\u001b[38;5;241m.\u001b[39mitems()}  \u001b[38;5;66;03m# to numpy\u001b[39;00m\n\u001b[0;32m    182\u001b[0m     \u001b[38;5;28mself\u001b[39m\u001b[38;5;241m.\u001b[39mnt_per_class \u001b[38;5;241m=\u001b[39m np\u001b[38;5;241m.\u001b[39mbincount(stats[\u001b[38;5;124m\"\u001b[39m\u001b[38;5;124mtarget_cls\u001b[39m\u001b[38;5;124m\"\u001b[39m]\u001b[38;5;241m.\u001b[39mastype(\u001b[38;5;28mint\u001b[39m), minlength\u001b[38;5;241m=\u001b[39m\u001b[38;5;28mself\u001b[39m\u001b[38;5;241m.\u001b[39mnc)\n\u001b[0;32m    183\u001b[0m     \u001b[38;5;28mself\u001b[39m\u001b[38;5;241m.\u001b[39mnt_per_image \u001b[38;5;241m=\u001b[39m np\u001b[38;5;241m.\u001b[39mbincount(stats[\u001b[38;5;124m\"\u001b[39m\u001b[38;5;124mtarget_img\u001b[39m\u001b[38;5;124m\"\u001b[39m]\u001b[38;5;241m.\u001b[39mastype(\u001b[38;5;28mint\u001b[39m), minlength\u001b[38;5;241m=\u001b[39m\u001b[38;5;28mself\u001b[39m\u001b[38;5;241m.\u001b[39mnc)\n",
      "File \u001b[1;32mc:\\Users\\gabri\\anaconda3\\envs\\Torch_CV\\lib\\site-packages\\ultralytics\\models\\yolo\\detect\\val.py:181\u001b[0m, in \u001b[0;36m<dictcomp>\u001b[1;34m(.0)\u001b[0m\n\u001b[0;32m    179\u001b[0m \u001b[38;5;28;01mdef\u001b[39;00m \u001b[38;5;21mget_stats\u001b[39m(\u001b[38;5;28mself\u001b[39m):\n\u001b[0;32m    180\u001b[0m \u001b[38;5;250m    \u001b[39m\u001b[38;5;124;03m\"\"\"Returns metrics statistics and results dictionary.\"\"\"\u001b[39;00m\n\u001b[1;32m--> 181\u001b[0m     stats \u001b[38;5;241m=\u001b[39m {k: \u001b[43mtorch\u001b[49m\u001b[38;5;241;43m.\u001b[39;49m\u001b[43mcat\u001b[49m\u001b[43m(\u001b[49m\u001b[43mv\u001b[49m\u001b[43m,\u001b[49m\u001b[43m \u001b[49m\u001b[38;5;241;43m0\u001b[39;49m\u001b[43m)\u001b[49m\u001b[38;5;241m.\u001b[39mcpu()\u001b[38;5;241m.\u001b[39mnumpy() \u001b[38;5;28;01mfor\u001b[39;00m k, v \u001b[38;5;129;01min\u001b[39;00m \u001b[38;5;28mself\u001b[39m\u001b[38;5;241m.\u001b[39mstats\u001b[38;5;241m.\u001b[39mitems()}  \u001b[38;5;66;03m# to numpy\u001b[39;00m\n\u001b[0;32m    182\u001b[0m     \u001b[38;5;28mself\u001b[39m\u001b[38;5;241m.\u001b[39mnt_per_class \u001b[38;5;241m=\u001b[39m np\u001b[38;5;241m.\u001b[39mbincount(stats[\u001b[38;5;124m\"\u001b[39m\u001b[38;5;124mtarget_cls\u001b[39m\u001b[38;5;124m\"\u001b[39m]\u001b[38;5;241m.\u001b[39mastype(\u001b[38;5;28mint\u001b[39m), minlength\u001b[38;5;241m=\u001b[39m\u001b[38;5;28mself\u001b[39m\u001b[38;5;241m.\u001b[39mnc)\n\u001b[0;32m    183\u001b[0m     \u001b[38;5;28mself\u001b[39m\u001b[38;5;241m.\u001b[39mnt_per_image \u001b[38;5;241m=\u001b[39m np\u001b[38;5;241m.\u001b[39mbincount(stats[\u001b[38;5;124m\"\u001b[39m\u001b[38;5;124mtarget_img\u001b[39m\u001b[38;5;124m\"\u001b[39m]\u001b[38;5;241m.\u001b[39mastype(\u001b[38;5;28mint\u001b[39m), minlength\u001b[38;5;241m=\u001b[39m\u001b[38;5;28mself\u001b[39m\u001b[38;5;241m.\u001b[39mnc)\n",
      "\u001b[1;31mRuntimeError\u001b[0m: torch.cat(): expected a non-empty list of Tensors"
     ]
    }
   ],
   "source": [
    "# Loading the YOLOv8 nano model\n",
    "model = YOLO(\"yolov8n.pt\")\n",
    "\n",
    "# Training the model \n",
    "model.train(\n",
    "    data=\"data.yaml\",    # dataset configuration file\n",
    "    epochs=10,           \n",
    "    imgsz=128,           \n",
    "    batch=8,             \n",
    "    device=\"cuda\",       \n",
    "    workers=0           # Using 0 workers to avoid multiprocessing issues on Windows\n",
    ")\n"
   ]
  },
  {
   "cell_type": "code",
   "execution_count": null,
   "metadata": {},
   "outputs": [],
   "source": []
  }
 ],
 "metadata": {
  "kernelspec": {
   "display_name": "Torch_CV",
   "language": "python",
   "name": "python3"
  },
  "language_info": {
   "codemirror_mode": {
    "name": "ipython",
    "version": 3
   },
   "file_extension": ".py",
   "mimetype": "text/x-python",
   "name": "python",
   "nbconvert_exporter": "python",
   "pygments_lexer": "ipython3",
   "version": "3.10.14"
  }
 },
 "nbformat": 4,
 "nbformat_minor": 2
}
